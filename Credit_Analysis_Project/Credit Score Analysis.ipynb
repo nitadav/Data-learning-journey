{
 "cells": [
  {
   "cell_type": "markdown",
   "metadata": {},
   "source": [
    "# Análisis del riesgo de incumplimiento de los prestatarios\n",
    "\n",
    "## Propósito del proyecto:\n",
    "    \n",
    "<div style=\"text-align: justify\">\n",
    "El propósito de este proyecto es realizar un análisis del riesgo de incumplimiento de los prestatarios en la división de préstamos de un banco. El objetivo principal es determinar si el estado civil y el número de hijos de un cliente tienen un impacto significativo en el incumplimiento de pago de un préstamo. El informe resultante será utilizado para desarrollar una puntuación de crédito que permita evaluar la capacidad de pago de los prestatarios potenciales.\n",
    "</div>\n",
    "\n",
    "## Hipótesis a evaluar:\n",
    "\n",
    "<div style=\"text-align: justify\">\n",
    "En el marco de este proyecto, se evaluarán las siguientes hipótesis:\n",
    "</div>\n",
    "\n",
    "**Hipótesis** **1:** \n",
    "El estado civil de un cliente tiene un impacto en el incumplimiento de pago de un préstamo. Se sospecha que los clientes solteros o divorciados pueden tener una mayor probabilidad de incumplimiento en comparación con los clientes casados o en una relación estable.\n",
    "\n",
    "**Hipótesis** **2:**\n",
    "El número de hijos de un cliente influye en el incumplimiento de pago de un préstamo. Se plantea la posibilidad de que los clientes con un mayor número de hijos tengan una mayor probabilidad de incumplimiento debido a la carga financiera adicional asociada con la crianza de los hijos.\n",
    "\n",
    "Estas hipótesis serán examinadas y analizadas utilizando técnicas de análisis de datos con el fin de obtener conclusiones y recomendaciones para la creación de una puntuación de crédito efectiva.\n",
    "</div>"
   ]
  },
  {
   "cell_type": "markdown",
   "metadata": {},
   "source": [
    "## Abre el archivo de datos y mira la información general. "
   ]
  },
  {
   "cell_type": "code",
   "execution_count": 1,
   "metadata": {},
   "outputs": [],
   "source": [
    "# Cargar todas las librerías\n",
    "\n",
    "import pandas as pd\n",
    "\n",
    "# Carga los datos\n",
    "\n",
    "data_report = pd.read_csv(\"/datasets/credit_scoring_eng.csv\")"
   ]
  },
  {
   "cell_type": "markdown",
   "metadata": {},
   "source": [
    "## Ejercicio 1. Exploración de datos\n",
    "\n",
    "**Descripción de los datos**\n",
    "- `children` - el número de hijos en la familia\n",
    "- `days_employed` - experiencia laboral en días\n",
    "- `dob_years` - la edad del cliente en años\n",
    "- `education` - la educación del cliente\n",
    "- `education_id` - identificador de educación\n",
    "- `family_status` - estado civil\n",
    "- `family_status_id` - identificador de estado civil\n",
    "- `gender` - género del cliente\n",
    "- `income_type` - tipo de empleo\n",
    "- `debt` - ¿había alguna deuda en el pago de un préstamo?\n",
    "- `total_income` - ingreso mensual\n",
    "- `purpose` - el propósito de obtener un préstamo"
   ]
  },
  {
   "cell_type": "code",
   "execution_count": 2,
   "metadata": {},
   "outputs": [
    {
     "data": {
      "text/plain": [
       "(21525, 12)"
      ]
     },
     "execution_count": 2,
     "metadata": {},
     "output_type": "execute_result"
    }
   ],
   "source": [
    "# Vamos a ver cuántas filas y columnas tiene nuestro conjunto de datos\n",
    "\n",
    "data_report.shape"
   ]
  },
  {
   "cell_type": "code",
   "execution_count": 3,
   "metadata": {
    "scrolled": false
   },
   "outputs": [
    {
     "data": {
      "text/html": [
       "<div>\n",
       "<style scoped>\n",
       "    .dataframe tbody tr th:only-of-type {\n",
       "        vertical-align: middle;\n",
       "    }\n",
       "\n",
       "    .dataframe tbody tr th {\n",
       "        vertical-align: top;\n",
       "    }\n",
       "\n",
       "    .dataframe thead th {\n",
       "        text-align: right;\n",
       "    }\n",
       "</style>\n",
       "<table border=\"1\" class=\"dataframe\">\n",
       "  <thead>\n",
       "    <tr style=\"text-align: right;\">\n",
       "      <th></th>\n",
       "      <th>children</th>\n",
       "      <th>days_employed</th>\n",
       "      <th>dob_years</th>\n",
       "      <th>education</th>\n",
       "      <th>education_id</th>\n",
       "      <th>family_status</th>\n",
       "      <th>family_status_id</th>\n",
       "      <th>gender</th>\n",
       "      <th>income_type</th>\n",
       "      <th>debt</th>\n",
       "      <th>total_income</th>\n",
       "      <th>purpose</th>\n",
       "    </tr>\n",
       "  </thead>\n",
       "  <tbody>\n",
       "    <tr>\n",
       "      <th>0</th>\n",
       "      <td>1</td>\n",
       "      <td>-8437.673028</td>\n",
       "      <td>42</td>\n",
       "      <td>bachelor's degree</td>\n",
       "      <td>0</td>\n",
       "      <td>married</td>\n",
       "      <td>0</td>\n",
       "      <td>F</td>\n",
       "      <td>employee</td>\n",
       "      <td>0</td>\n",
       "      <td>40620.102</td>\n",
       "      <td>purchase of the house</td>\n",
       "    </tr>\n",
       "    <tr>\n",
       "      <th>1</th>\n",
       "      <td>1</td>\n",
       "      <td>-4024.803754</td>\n",
       "      <td>36</td>\n",
       "      <td>secondary education</td>\n",
       "      <td>1</td>\n",
       "      <td>married</td>\n",
       "      <td>0</td>\n",
       "      <td>F</td>\n",
       "      <td>employee</td>\n",
       "      <td>0</td>\n",
       "      <td>17932.802</td>\n",
       "      <td>car purchase</td>\n",
       "    </tr>\n",
       "    <tr>\n",
       "      <th>2</th>\n",
       "      <td>0</td>\n",
       "      <td>-5623.422610</td>\n",
       "      <td>33</td>\n",
       "      <td>Secondary Education</td>\n",
       "      <td>1</td>\n",
       "      <td>married</td>\n",
       "      <td>0</td>\n",
       "      <td>M</td>\n",
       "      <td>employee</td>\n",
       "      <td>0</td>\n",
       "      <td>23341.752</td>\n",
       "      <td>purchase of the house</td>\n",
       "    </tr>\n",
       "    <tr>\n",
       "      <th>3</th>\n",
       "      <td>3</td>\n",
       "      <td>-4124.747207</td>\n",
       "      <td>32</td>\n",
       "      <td>secondary education</td>\n",
       "      <td>1</td>\n",
       "      <td>married</td>\n",
       "      <td>0</td>\n",
       "      <td>M</td>\n",
       "      <td>employee</td>\n",
       "      <td>0</td>\n",
       "      <td>42820.568</td>\n",
       "      <td>supplementary education</td>\n",
       "    </tr>\n",
       "    <tr>\n",
       "      <th>4</th>\n",
       "      <td>0</td>\n",
       "      <td>340266.072047</td>\n",
       "      <td>53</td>\n",
       "      <td>secondary education</td>\n",
       "      <td>1</td>\n",
       "      <td>civil partnership</td>\n",
       "      <td>1</td>\n",
       "      <td>F</td>\n",
       "      <td>retiree</td>\n",
       "      <td>0</td>\n",
       "      <td>25378.572</td>\n",
       "      <td>to have a wedding</td>\n",
       "    </tr>\n",
       "    <tr>\n",
       "      <th>5</th>\n",
       "      <td>0</td>\n",
       "      <td>-926.185831</td>\n",
       "      <td>27</td>\n",
       "      <td>bachelor's degree</td>\n",
       "      <td>0</td>\n",
       "      <td>civil partnership</td>\n",
       "      <td>1</td>\n",
       "      <td>M</td>\n",
       "      <td>business</td>\n",
       "      <td>0</td>\n",
       "      <td>40922.170</td>\n",
       "      <td>purchase of the house</td>\n",
       "    </tr>\n",
       "    <tr>\n",
       "      <th>6</th>\n",
       "      <td>0</td>\n",
       "      <td>-2879.202052</td>\n",
       "      <td>43</td>\n",
       "      <td>bachelor's degree</td>\n",
       "      <td>0</td>\n",
       "      <td>married</td>\n",
       "      <td>0</td>\n",
       "      <td>F</td>\n",
       "      <td>business</td>\n",
       "      <td>0</td>\n",
       "      <td>38484.156</td>\n",
       "      <td>housing transactions</td>\n",
       "    </tr>\n",
       "    <tr>\n",
       "      <th>7</th>\n",
       "      <td>0</td>\n",
       "      <td>-152.779569</td>\n",
       "      <td>50</td>\n",
       "      <td>SECONDARY EDUCATION</td>\n",
       "      <td>1</td>\n",
       "      <td>married</td>\n",
       "      <td>0</td>\n",
       "      <td>M</td>\n",
       "      <td>employee</td>\n",
       "      <td>0</td>\n",
       "      <td>21731.829</td>\n",
       "      <td>education</td>\n",
       "    </tr>\n",
       "    <tr>\n",
       "      <th>8</th>\n",
       "      <td>2</td>\n",
       "      <td>-6929.865299</td>\n",
       "      <td>35</td>\n",
       "      <td>BACHELOR'S DEGREE</td>\n",
       "      <td>0</td>\n",
       "      <td>civil partnership</td>\n",
       "      <td>1</td>\n",
       "      <td>F</td>\n",
       "      <td>employee</td>\n",
       "      <td>0</td>\n",
       "      <td>15337.093</td>\n",
       "      <td>having a wedding</td>\n",
       "    </tr>\n",
       "    <tr>\n",
       "      <th>9</th>\n",
       "      <td>0</td>\n",
       "      <td>-2188.756445</td>\n",
       "      <td>41</td>\n",
       "      <td>secondary education</td>\n",
       "      <td>1</td>\n",
       "      <td>married</td>\n",
       "      <td>0</td>\n",
       "      <td>M</td>\n",
       "      <td>employee</td>\n",
       "      <td>0</td>\n",
       "      <td>23108.150</td>\n",
       "      <td>purchase of the house for my family</td>\n",
       "    </tr>\n",
       "  </tbody>\n",
       "</table>\n",
       "</div>"
      ],
      "text/plain": [
       "   children  days_employed  dob_years            education  education_id  \\\n",
       "0         1   -8437.673028         42    bachelor's degree             0   \n",
       "1         1   -4024.803754         36  secondary education             1   \n",
       "2         0   -5623.422610         33  Secondary Education             1   \n",
       "3         3   -4124.747207         32  secondary education             1   \n",
       "4         0  340266.072047         53  secondary education             1   \n",
       "5         0    -926.185831         27    bachelor's degree             0   \n",
       "6         0   -2879.202052         43    bachelor's degree             0   \n",
       "7         0    -152.779569         50  SECONDARY EDUCATION             1   \n",
       "8         2   -6929.865299         35    BACHELOR'S DEGREE             0   \n",
       "9         0   -2188.756445         41  secondary education             1   \n",
       "\n",
       "       family_status  family_status_id gender income_type  debt  total_income  \\\n",
       "0            married                 0      F    employee     0     40620.102   \n",
       "1            married                 0      F    employee     0     17932.802   \n",
       "2            married                 0      M    employee     0     23341.752   \n",
       "3            married                 0      M    employee     0     42820.568   \n",
       "4  civil partnership                 1      F     retiree     0     25378.572   \n",
       "5  civil partnership                 1      M    business     0     40922.170   \n",
       "6            married                 0      F    business     0     38484.156   \n",
       "7            married                 0      M    employee     0     21731.829   \n",
       "8  civil partnership                 1      F    employee     0     15337.093   \n",
       "9            married                 0      M    employee     0     23108.150   \n",
       "\n",
       "                               purpose  \n",
       "0                purchase of the house  \n",
       "1                         car purchase  \n",
       "2                purchase of the house  \n",
       "3              supplementary education  \n",
       "4                    to have a wedding  \n",
       "5                purchase of the house  \n",
       "6                 housing transactions  \n",
       "7                            education  \n",
       "8                     having a wedding  \n",
       "9  purchase of the house for my family  "
      ]
     },
     "execution_count": 3,
     "metadata": {},
     "output_type": "execute_result"
    }
   ],
   "source": [
    "# vamos a mostrar las primeras filas N\n",
    "\n",
    "data_report.head(10)"
   ]
  },
  {
   "cell_type": "markdown",
   "metadata": {},
   "source": [
    "Al analizar la muestra de datos, se identificaron aspectos que requieren atención y cambios en el proceso de análisis:\n",
    "       \n",
    "> La columna **\"days_employed\"** presenta valores negativos y ausentes. Se recomienda investigar su origen y determinar su relevancia para el análisis. Si no es relevante, se sugiere eliminarla. En caso de ser importante, es necesario abordar adecuadamente los valores negativos y ausentes.\n",
    "    \n",
    "> En la columna **\"education\"** se encontraron errores de escritura. Se recomienda corregirlos utilizando una función de limpieza de datos, como el método replace() de Pandas, para estandarizar los valores.\n",
    "  \n",
    "> La columna **\"total_income\"** tiene valores ausentes. Es fundamental tratar estos valores faltantes, considerando enfoques como el relleno con la media o mediana de la columna.\n",
    " \n",
    "> En la columna **\"purpose\"** se detectaron datos duplicados. Se sugiere aplicar una función de limpieza de datos para corregirlos y garantizar categorías únicas en el análisis.\n",
    "\n",
    "Estos hallazgos resaltan la importancia de realizar una limpieza y preparación adecuada de los datos antes del análisis. Al abordar estos problemas, se mejorará la calidad y confiabilidad de los resultados obtenidos."
   ]
  },
  {
   "cell_type": "code",
   "execution_count": 4,
   "metadata": {
    "scrolled": false
   },
   "outputs": [
    {
     "name": "stdout",
     "output_type": "stream",
     "text": [
      "<class 'pandas.core.frame.DataFrame'>\n",
      "RangeIndex: 21525 entries, 0 to 21524\n",
      "Data columns (total 12 columns):\n",
      " #   Column            Non-Null Count  Dtype  \n",
      "---  ------            --------------  -----  \n",
      " 0   children          21525 non-null  int64  \n",
      " 1   days_employed     19351 non-null  float64\n",
      " 2   dob_years         21525 non-null  int64  \n",
      " 3   education         21525 non-null  object \n",
      " 4   education_id      21525 non-null  int64  \n",
      " 5   family_status     21525 non-null  object \n",
      " 6   family_status_id  21525 non-null  int64  \n",
      " 7   gender            21525 non-null  object \n",
      " 8   income_type       21525 non-null  object \n",
      " 9   debt              21525 non-null  int64  \n",
      " 10  total_income      19351 non-null  float64\n",
      " 11  purpose           21525 non-null  object \n",
      "dtypes: float64(2), int64(5), object(5)\n",
      "memory usage: 2.0+ MB\n"
     ]
    }
   ],
   "source": [
    "# Obtener información sobre los datos\n",
    "\n",
    "data_report.info()"
   ]
  },
  {
   "cell_type": "markdown",
   "metadata": {},
   "source": [
    "<div style=\"text-align: justify\">\n",
    "Se observa que hay valores ausentes en dos columnas: \"days_employed\" y \"total_income\". Esto implica que estas dos columnas tienen registros faltantes en comparación con el número total de filas en el DataFrame. En cambio, el resto de las columnas parecen tener datos completos.\n",
    "</div>"
   ]
  },
  {
   "cell_type": "code",
   "execution_count": 5,
   "metadata": {
    "scrolled": false
   },
   "outputs": [
    {
     "data": {
      "text/html": [
       "<div>\n",
       "<style scoped>\n",
       "    .dataframe tbody tr th:only-of-type {\n",
       "        vertical-align: middle;\n",
       "    }\n",
       "\n",
       "    .dataframe tbody tr th {\n",
       "        vertical-align: top;\n",
       "    }\n",
       "\n",
       "    .dataframe thead th {\n",
       "        text-align: right;\n",
       "    }\n",
       "</style>\n",
       "<table border=\"1\" class=\"dataframe\">\n",
       "  <thead>\n",
       "    <tr style=\"text-align: right;\">\n",
       "      <th></th>\n",
       "      <th>children</th>\n",
       "      <th>days_employed</th>\n",
       "      <th>dob_years</th>\n",
       "      <th>education</th>\n",
       "      <th>education_id</th>\n",
       "      <th>family_status</th>\n",
       "      <th>family_status_id</th>\n",
       "      <th>gender</th>\n",
       "      <th>income_type</th>\n",
       "      <th>debt</th>\n",
       "      <th>total_income</th>\n",
       "      <th>purpose</th>\n",
       "    </tr>\n",
       "  </thead>\n",
       "  <tbody>\n",
       "    <tr>\n",
       "      <th>12</th>\n",
       "      <td>0</td>\n",
       "      <td>NaN</td>\n",
       "      <td>65</td>\n",
       "      <td>secondary education</td>\n",
       "      <td>1</td>\n",
       "      <td>civil partnership</td>\n",
       "      <td>1</td>\n",
       "      <td>M</td>\n",
       "      <td>retiree</td>\n",
       "      <td>0</td>\n",
       "      <td>NaN</td>\n",
       "      <td>to have a wedding</td>\n",
       "    </tr>\n",
       "    <tr>\n",
       "      <th>26</th>\n",
       "      <td>0</td>\n",
       "      <td>NaN</td>\n",
       "      <td>41</td>\n",
       "      <td>secondary education</td>\n",
       "      <td>1</td>\n",
       "      <td>married</td>\n",
       "      <td>0</td>\n",
       "      <td>M</td>\n",
       "      <td>civil servant</td>\n",
       "      <td>0</td>\n",
       "      <td>NaN</td>\n",
       "      <td>education</td>\n",
       "    </tr>\n",
       "    <tr>\n",
       "      <th>29</th>\n",
       "      <td>0</td>\n",
       "      <td>NaN</td>\n",
       "      <td>63</td>\n",
       "      <td>secondary education</td>\n",
       "      <td>1</td>\n",
       "      <td>unmarried</td>\n",
       "      <td>4</td>\n",
       "      <td>F</td>\n",
       "      <td>retiree</td>\n",
       "      <td>0</td>\n",
       "      <td>NaN</td>\n",
       "      <td>building a real estate</td>\n",
       "    </tr>\n",
       "    <tr>\n",
       "      <th>41</th>\n",
       "      <td>0</td>\n",
       "      <td>NaN</td>\n",
       "      <td>50</td>\n",
       "      <td>secondary education</td>\n",
       "      <td>1</td>\n",
       "      <td>married</td>\n",
       "      <td>0</td>\n",
       "      <td>F</td>\n",
       "      <td>civil servant</td>\n",
       "      <td>0</td>\n",
       "      <td>NaN</td>\n",
       "      <td>second-hand car purchase</td>\n",
       "    </tr>\n",
       "    <tr>\n",
       "      <th>55</th>\n",
       "      <td>0</td>\n",
       "      <td>NaN</td>\n",
       "      <td>54</td>\n",
       "      <td>secondary education</td>\n",
       "      <td>1</td>\n",
       "      <td>civil partnership</td>\n",
       "      <td>1</td>\n",
       "      <td>F</td>\n",
       "      <td>retiree</td>\n",
       "      <td>1</td>\n",
       "      <td>NaN</td>\n",
       "      <td>to have a wedding</td>\n",
       "    </tr>\n",
       "    <tr>\n",
       "      <th>...</th>\n",
       "      <td>...</td>\n",
       "      <td>...</td>\n",
       "      <td>...</td>\n",
       "      <td>...</td>\n",
       "      <td>...</td>\n",
       "      <td>...</td>\n",
       "      <td>...</td>\n",
       "      <td>...</td>\n",
       "      <td>...</td>\n",
       "      <td>...</td>\n",
       "      <td>...</td>\n",
       "      <td>...</td>\n",
       "    </tr>\n",
       "    <tr>\n",
       "      <th>21489</th>\n",
       "      <td>2</td>\n",
       "      <td>NaN</td>\n",
       "      <td>47</td>\n",
       "      <td>Secondary Education</td>\n",
       "      <td>1</td>\n",
       "      <td>married</td>\n",
       "      <td>0</td>\n",
       "      <td>M</td>\n",
       "      <td>business</td>\n",
       "      <td>0</td>\n",
       "      <td>NaN</td>\n",
       "      <td>purchase of a car</td>\n",
       "    </tr>\n",
       "    <tr>\n",
       "      <th>21495</th>\n",
       "      <td>1</td>\n",
       "      <td>NaN</td>\n",
       "      <td>50</td>\n",
       "      <td>secondary education</td>\n",
       "      <td>1</td>\n",
       "      <td>civil partnership</td>\n",
       "      <td>1</td>\n",
       "      <td>F</td>\n",
       "      <td>employee</td>\n",
       "      <td>0</td>\n",
       "      <td>NaN</td>\n",
       "      <td>wedding ceremony</td>\n",
       "    </tr>\n",
       "    <tr>\n",
       "      <th>21497</th>\n",
       "      <td>0</td>\n",
       "      <td>NaN</td>\n",
       "      <td>48</td>\n",
       "      <td>BACHELOR'S DEGREE</td>\n",
       "      <td>0</td>\n",
       "      <td>married</td>\n",
       "      <td>0</td>\n",
       "      <td>F</td>\n",
       "      <td>business</td>\n",
       "      <td>0</td>\n",
       "      <td>NaN</td>\n",
       "      <td>building a property</td>\n",
       "    </tr>\n",
       "    <tr>\n",
       "      <th>21502</th>\n",
       "      <td>1</td>\n",
       "      <td>NaN</td>\n",
       "      <td>42</td>\n",
       "      <td>secondary education</td>\n",
       "      <td>1</td>\n",
       "      <td>married</td>\n",
       "      <td>0</td>\n",
       "      <td>F</td>\n",
       "      <td>employee</td>\n",
       "      <td>0</td>\n",
       "      <td>NaN</td>\n",
       "      <td>building a real estate</td>\n",
       "    </tr>\n",
       "    <tr>\n",
       "      <th>21510</th>\n",
       "      <td>2</td>\n",
       "      <td>NaN</td>\n",
       "      <td>28</td>\n",
       "      <td>secondary education</td>\n",
       "      <td>1</td>\n",
       "      <td>married</td>\n",
       "      <td>0</td>\n",
       "      <td>F</td>\n",
       "      <td>employee</td>\n",
       "      <td>0</td>\n",
       "      <td>NaN</td>\n",
       "      <td>car purchase</td>\n",
       "    </tr>\n",
       "  </tbody>\n",
       "</table>\n",
       "<p>2174 rows × 12 columns</p>\n",
       "</div>"
      ],
      "text/plain": [
       "       children  days_employed  dob_years            education  education_id  \\\n",
       "12            0            NaN         65  secondary education             1   \n",
       "26            0            NaN         41  secondary education             1   \n",
       "29            0            NaN         63  secondary education             1   \n",
       "41            0            NaN         50  secondary education             1   \n",
       "55            0            NaN         54  secondary education             1   \n",
       "...         ...            ...        ...                  ...           ...   \n",
       "21489         2            NaN         47  Secondary Education             1   \n",
       "21495         1            NaN         50  secondary education             1   \n",
       "21497         0            NaN         48    BACHELOR'S DEGREE             0   \n",
       "21502         1            NaN         42  secondary education             1   \n",
       "21510         2            NaN         28  secondary education             1   \n",
       "\n",
       "           family_status  family_status_id gender    income_type  debt  \\\n",
       "12     civil partnership                 1      M        retiree     0   \n",
       "26               married                 0      M  civil servant     0   \n",
       "29             unmarried                 4      F        retiree     0   \n",
       "41               married                 0      F  civil servant     0   \n",
       "55     civil partnership                 1      F        retiree     1   \n",
       "...                  ...               ...    ...            ...   ...   \n",
       "21489            married                 0      M       business     0   \n",
       "21495  civil partnership                 1      F       employee     0   \n",
       "21497            married                 0      F       business     0   \n",
       "21502            married                 0      F       employee     0   \n",
       "21510            married                 0      F       employee     0   \n",
       "\n",
       "       total_income                   purpose  \n",
       "12              NaN         to have a wedding  \n",
       "26              NaN                 education  \n",
       "29              NaN    building a real estate  \n",
       "41              NaN  second-hand car purchase  \n",
       "55              NaN         to have a wedding  \n",
       "...             ...                       ...  \n",
       "21489           NaN         purchase of a car  \n",
       "21495           NaN          wedding ceremony  \n",
       "21497           NaN       building a property  \n",
       "21502           NaN    building a real estate  \n",
       "21510           NaN              car purchase  \n",
       "\n",
       "[2174 rows x 12 columns]"
      ]
     },
     "execution_count": 5,
     "metadata": {},
     "output_type": "execute_result"
    }
   ],
   "source": [
    "# Veamos la tabla filtrada con valores ausentes de la primera columna donde faltan datos\n",
    "\n",
    "missing_data_report = data_report[data_report[\"days_employed\"].isnull()]\n",
    "missing_data_report"
   ]
  },
  {
   "cell_type": "markdown",
   "metadata": {},
   "source": [
    "<div style=\"text-align: justify\">\n",
    "La presencia de valores ausentes en ambas columnas, \"days_employed\" y \"total_income\", sugiere una posible relación o patrón entre estas dos variables. Es necesario investigar más a fondo esta relación y examinar si hay alguna explicación lógica para esta simetría. Por ejemplo, la falta de datos en la columna \"days_employed\", que representa la experiencia laboral, podría estar relacionada con la falta de datos en la columna \"total_income\", que refleja los ingresos mensuales. Es importante realizar un análisis más detallado de los datos y considerar otras variables relevantes para comprender mejor esta coincidencia y su impacto en el análisis del riesgo de incumplimiento de pago de préstamos.\n",
    "</div>"
   ]
  },
  {
   "cell_type": "code",
   "execution_count": 6,
   "metadata": {
    "scrolled": true
   },
   "outputs": [
    {
     "data": {
      "text/plain": [
       "2174"
      ]
     },
     "execution_count": 6,
     "metadata": {},
     "output_type": "execute_result"
    }
   ],
   "source": [
    "# Apliquemos múltiples condiciones para filtrar datos y veamos el número de filas en la tabla filtrada.\n",
    "\n",
    "filtered_data_report = data_report[(data_report['days_employed'].isna()) & (data_report['total_income'].isna())]\n",
    "len(filtered_data_report)"
   ]
  },
  {
   "cell_type": "markdown",
   "metadata": {},
   "source": [
    "**Conclusión intermedia**\n",
    "\n",
    "\n",
    "El número de filas en la tabla filtrada **(2174)** coincide con el número de valores ausentes en las columnas \"days_employed\" y \"total_income\", esta coincidencia nos indica la importancia de investigar más a fondo la relación entre las variables. Es posible que haya una razón común detrás de los valores ausentes, como los clientes que no proporcionaron información sobre su empleo y, como resultado, no se dispone de datos sobre sus ingresos mensuales.\n",
    "\n",
    "En relación a las conclusiones obtenidas hasta ahora, los próximos pasos consisten en analizar la relación entre una característica definida de cliente, según la cantidad de valores nulos de la columna primera columna con valores faltantes, además, es necesario verificar si los valores ausentes dependen de otros indicadores en las demás columnas específicas de características de los clientes.\n",
    "\n",
    "Dependiendo de los resultados, podríamos considerar técnicas de imputación para los valores faltantes o tomar otras medidas para abordar los valores nulos de manera precisa."
   ]
  },
  {
   "cell_type": "code",
   "execution_count": 7,
   "metadata": {
    "scrolled": true
   },
   "outputs": [
    {
     "data": {
      "text/plain": [
       "'Porcentaje de valores ausentes: 10.10%'"
      ]
     },
     "execution_count": 7,
     "metadata": {},
     "output_type": "execute_result"
    }
   ],
   "source": [
    "# Calcula el porcentaje de los valores ausentes en comparación con el conjunto de datos completo.   \n",
    "\n",
    "total_data = data_report.shape [0]\n",
    "total_missings = len(filtered_data_report)\n",
    "\n",
    "percentage_missing = (total_missings / total_data) * 100\n",
    "(\"Porcentaje de valores ausentes: {:.2f}%\".format(percentage_missing))"
   ]
  },
  {
   "cell_type": "markdown",
   "metadata": {},
   "source": [
    "<div style=\"text-align: justify\">\n",
    "Aunque el porcentaje de valores ausentes en las columnas \"total_income\" y \"days_employed\", no es considerablemente grande (10,10%), en el contexto de este proyecto de análisis de crédito, se requiere precaución al procesar estos datos y se recomienda verificar otras variables para explorar posibles relaciones antes de tomar decisiones sobre cómo manejar los valores ausentes.  Para esto vamos a empezar analizando la relacion entre la característica \"income_type\" para determinar si está relacionada con la falta de datos.    \n",
    "</div>"
   ]
  },
  {
   "cell_type": "code",
   "execution_count": 8,
   "metadata": {
    "scrolled": true
   },
   "outputs": [
    {
     "data": {
      "text/plain": [
       "12             retiree\n",
       "26       civil servant\n",
       "29             retiree\n",
       "41       civil servant\n",
       "55             retiree\n",
       "             ...      \n",
       "21489         business\n",
       "21495         employee\n",
       "21497         business\n",
       "21502         employee\n",
       "21510         employee\n",
       "Name: income_type, Length: 2174, dtype: object"
      ]
     },
     "execution_count": 8,
     "metadata": {},
     "output_type": "execute_result"
    }
   ],
   "source": [
    "# Vamos a investigar a los clientes que no tienen datos sobre la característica identificada y la columna con los valores ausentes\n",
    "\n",
    "filtered_income_type = missing_data_report['income_type']\n",
    "filtered_income_type"
   ]
  },
  {
   "cell_type": "code",
   "execution_count": 9,
   "metadata": {},
   "outputs": [
    {
     "name": "stdout",
     "output_type": "stream",
     "text": [
      "secondary education    1408\n",
      "bachelor's degree       496\n",
      "SECONDARY EDUCATION      67\n",
      "Secondary Education      65\n",
      "some college             55\n",
      "Bachelor's Degree        25\n",
      "BACHELOR'S DEGREE        23\n",
      "primary education        19\n",
      "Some College              7\n",
      "SOME COLLEGE              7\n",
      "Primary Education         1\n",
      "PRIMARY EDUCATION         1\n",
      "Name: education, dtype: int64\n",
      "married              1237\n",
      "civil partnership     442\n",
      "unmarried             288\n",
      "divorced              112\n",
      "widow / widower        95\n",
      "Name: family_status, dtype: int64\n",
      "F    1484\n",
      "M     690\n",
      "Name: gender, dtype: int64\n",
      "employee         1105\n",
      "business          508\n",
      "retiree           413\n",
      "civil servant     147\n",
      "entrepreneur        1\n",
      "Name: income_type, dtype: int64\n",
      "having a wedding                            92\n",
      "to have a wedding                           81\n",
      "wedding ceremony                            76\n",
      "construction of own property                75\n",
      "housing transactions                        74\n",
      "buy real estate                             72\n",
      "transactions with my real estate            71\n",
      "purchase of the house for my family         71\n",
      "housing renovation                          70\n",
      "transactions with commercial real estate    70\n",
      "buy commercial real estate                  67\n",
      "buying property for renting out             65\n",
      "property                                    62\n",
      "buy residential real estate                 61\n",
      "real estate transactions                    61\n",
      "housing                                     60\n",
      "building a property                         59\n",
      "cars                                        57\n",
      "going to university                         56\n",
      "to become educated                          55\n",
      "second-hand car purchase                    54\n",
      "buying my own car                           53\n",
      "purchase of the house                       52\n",
      "to own a car                                52\n",
      "to get a supplementary education            51\n",
      "getting an education                        50\n",
      "supplementary education                     48\n",
      "profile education                           47\n",
      "purchase of my own house                    46\n",
      "building a real estate                      46\n",
      "purchase of a car                           46\n",
      "car purchase                                43\n",
      "buying a second-hand car                    42\n",
      "education                                   42\n",
      "car                                         41\n",
      "university education                        40\n",
      "getting higher education                    36\n",
      "to buy a car                                30\n",
      "Name: purpose, dtype: int64\n"
     ]
    }
   ],
   "source": [
    "# Comprobación de la distribución\n",
    "\n",
    "categories = [\"education\", \"family_status\", \"gender\", \"income_type\", \"purpose\" ]\n",
    "\n",
    "for category in categories:\n",
    "    print (missing_data_report[category]. value_counts ())"
   ]
  },
  {
   "cell_type": "markdown",
   "metadata": {},
   "source": [
    "**Posibles razones por las que hay valores ausentes en los datos**\n",
    "    \n",
    "<div style=\"text-align: justify\">\n",
    "Después de analizar la distribución de valores ausentes en la columna \"income_type\", se observó que alrededor del 60% de los datos faltantes corresponden a las categorías \"employee\" y \"business\". Esto indica que la estabilidad laboral de los clientes puede estar relacionada con los datos ausentes en las columnas \"days_employed\" y \"total_income\". Sin embargo, se requiere un análisis más detallado para comprender completamente las razones detrás de estos valores ausentes y considerar otras características relevantes. \n",
    "</div>"
   ]
  },
  {
   "cell_type": "code",
   "execution_count": 10,
   "metadata": {},
   "outputs": [
    {
     "name": "stdout",
     "output_type": "stream",
     "text": [
      "secondary education    13750\n",
      "bachelor's degree       4718\n",
      "SECONDARY EDUCATION      772\n",
      "Secondary Education      711\n",
      "some college             668\n",
      "BACHELOR'S DEGREE        274\n",
      "Bachelor's Degree        268\n",
      "primary education        250\n",
      "Some College              47\n",
      "SOME COLLEGE              29\n",
      "PRIMARY EDUCATION         17\n",
      "Primary Education         15\n",
      "graduate degree            4\n",
      "GRADUATE DEGREE            1\n",
      "Graduate Degree            1\n",
      "Name: education, dtype: int64\n",
      "married              12380\n",
      "civil partnership     4177\n",
      "unmarried             2813\n",
      "divorced              1195\n",
      "widow / widower        960\n",
      "Name: family_status, dtype: int64\n",
      "F      14236\n",
      "M       7288\n",
      "XNA        1\n",
      "Name: gender, dtype: int64\n",
      "employee                       11119\n",
      "business                        5085\n",
      "retiree                         3856\n",
      "civil servant                   1459\n",
      "entrepreneur                       2\n",
      "unemployed                         2\n",
      "student                            1\n",
      "paternity / maternity leave        1\n",
      "Name: income_type, dtype: int64\n",
      "wedding ceremony                            797\n",
      "having a wedding                            777\n",
      "to have a wedding                           774\n",
      "real estate transactions                    676\n",
      "buy commercial real estate                  664\n",
      "buying property for renting out             653\n",
      "housing transactions                        653\n",
      "transactions with commercial real estate    651\n",
      "housing                                     647\n",
      "purchase of the house                       647\n",
      "purchase of the house for my family         641\n",
      "construction of own property                635\n",
      "property                                    634\n",
      "transactions with my real estate            630\n",
      "building a real estate                      626\n",
      "buy real estate                             624\n",
      "purchase of my own house                    620\n",
      "building a property                         620\n",
      "housing renovation                          612\n",
      "buy residential real estate                 607\n",
      "buying my own car                           505\n",
      "going to university                         496\n",
      "car                                         495\n",
      "second-hand car purchase                    489\n",
      "to own a car                                480\n",
      "buying a second-hand car                    479\n",
      "cars                                        478\n",
      "to buy a car                                472\n",
      "car purchase                                462\n",
      "supplementary education                     462\n",
      "purchase of a car                           455\n",
      "university education                        453\n",
      "to get a supplementary education            447\n",
      "education                                   447\n",
      "getting an education                        443\n",
      "profile education                           436\n",
      "getting higher education                    426\n",
      "to become educated                          412\n",
      "Name: purpose, dtype: int64\n"
     ]
    }
   ],
   "source": [
    "# Comprobando la distribución en el conjunto de datos entero\n",
    "\n",
    "for category in categories:\n",
    "    print(data_report[category].value_counts())"
   ]
  },
  {
   "cell_type": "markdown",
   "metadata": {},
   "source": [
    "**Conclusión intermedia**\n",
    "\n",
    "<div style=\"text-align: justify\">\n",
    "Al analizar la distribución de valores entre el conjunto de datos original y la tabla filtrada con valores ausentes, se observa una tendencia donde las categorías con más registros en determinadas variables en el conjunto de datos original muestran una mayor proporción de valores ausentes en la tabla filtrada. En particular, en la categoría \"educación\", se nota que las variables con más registros, como \"secondary education\" y \"bachelor's degree\", presentan una proporción más alta de valores ausentes en la tabla filtrada. El estudio de las variables de educación, estado civil y género nos brindará información relevante para determinar si existen patrones significativos en los valores ausentes.\n",
    "</div>"
   ]
  },
  {
   "cell_type": "code",
   "execution_count": 11,
   "metadata": {},
   "outputs": [
    {
     "data": {
      "text/html": [
       "<div>\n",
       "<style scoped>\n",
       "    .dataframe tbody tr th:only-of-type {\n",
       "        vertical-align: middle;\n",
       "    }\n",
       "\n",
       "    .dataframe tbody tr th {\n",
       "        vertical-align: top;\n",
       "    }\n",
       "\n",
       "    .dataframe thead th {\n",
       "        text-align: right;\n",
       "    }\n",
       "</style>\n",
       "<table border=\"1\" class=\"dataframe\">\n",
       "  <thead>\n",
       "    <tr style=\"text-align: right;\">\n",
       "      <th>family_status</th>\n",
       "      <th>civil partnership</th>\n",
       "      <th>divorced</th>\n",
       "      <th>married</th>\n",
       "      <th>unmarried</th>\n",
       "      <th>widow / widower</th>\n",
       "      <th>All</th>\n",
       "    </tr>\n",
       "    <tr>\n",
       "      <th>education</th>\n",
       "      <th></th>\n",
       "      <th></th>\n",
       "      <th></th>\n",
       "      <th></th>\n",
       "      <th></th>\n",
       "      <th></th>\n",
       "    </tr>\n",
       "  </thead>\n",
       "  <tbody>\n",
       "    <tr>\n",
       "      <th>BACHELOR'S DEGREE</th>\n",
       "      <td>5</td>\n",
       "      <td>1</td>\n",
       "      <td>14</td>\n",
       "      <td>3</td>\n",
       "      <td>0</td>\n",
       "      <td>23</td>\n",
       "    </tr>\n",
       "    <tr>\n",
       "      <th>Bachelor's Degree</th>\n",
       "      <td>8</td>\n",
       "      <td>2</td>\n",
       "      <td>11</td>\n",
       "      <td>4</td>\n",
       "      <td>0</td>\n",
       "      <td>25</td>\n",
       "    </tr>\n",
       "    <tr>\n",
       "      <th>PRIMARY EDUCATION</th>\n",
       "      <td>0</td>\n",
       "      <td>0</td>\n",
       "      <td>1</td>\n",
       "      <td>0</td>\n",
       "      <td>0</td>\n",
       "      <td>1</td>\n",
       "    </tr>\n",
       "    <tr>\n",
       "      <th>Primary Education</th>\n",
       "      <td>0</td>\n",
       "      <td>0</td>\n",
       "      <td>0</td>\n",
       "      <td>0</td>\n",
       "      <td>1</td>\n",
       "      <td>1</td>\n",
       "    </tr>\n",
       "    <tr>\n",
       "      <th>SECONDARY EDUCATION</th>\n",
       "      <td>18</td>\n",
       "      <td>3</td>\n",
       "      <td>38</td>\n",
       "      <td>4</td>\n",
       "      <td>4</td>\n",
       "      <td>67</td>\n",
       "    </tr>\n",
       "    <tr>\n",
       "      <th>SOME COLLEGE</th>\n",
       "      <td>2</td>\n",
       "      <td>1</td>\n",
       "      <td>1</td>\n",
       "      <td>3</td>\n",
       "      <td>0</td>\n",
       "      <td>7</td>\n",
       "    </tr>\n",
       "    <tr>\n",
       "      <th>Secondary Education</th>\n",
       "      <td>16</td>\n",
       "      <td>4</td>\n",
       "      <td>35</td>\n",
       "      <td>5</td>\n",
       "      <td>5</td>\n",
       "      <td>65</td>\n",
       "    </tr>\n",
       "    <tr>\n",
       "      <th>Some College</th>\n",
       "      <td>2</td>\n",
       "      <td>0</td>\n",
       "      <td>3</td>\n",
       "      <td>2</td>\n",
       "      <td>0</td>\n",
       "      <td>7</td>\n",
       "    </tr>\n",
       "    <tr>\n",
       "      <th>bachelor's degree</th>\n",
       "      <td>89</td>\n",
       "      <td>21</td>\n",
       "      <td>281</td>\n",
       "      <td>93</td>\n",
       "      <td>12</td>\n",
       "      <td>496</td>\n",
       "    </tr>\n",
       "    <tr>\n",
       "      <th>primary education</th>\n",
       "      <td>6</td>\n",
       "      <td>0</td>\n",
       "      <td>9</td>\n",
       "      <td>2</td>\n",
       "      <td>2</td>\n",
       "      <td>19</td>\n",
       "    </tr>\n",
       "    <tr>\n",
       "      <th>secondary education</th>\n",
       "      <td>286</td>\n",
       "      <td>76</td>\n",
       "      <td>818</td>\n",
       "      <td>157</td>\n",
       "      <td>71</td>\n",
       "      <td>1408</td>\n",
       "    </tr>\n",
       "    <tr>\n",
       "      <th>some college</th>\n",
       "      <td>10</td>\n",
       "      <td>4</td>\n",
       "      <td>26</td>\n",
       "      <td>15</td>\n",
       "      <td>0</td>\n",
       "      <td>55</td>\n",
       "    </tr>\n",
       "    <tr>\n",
       "      <th>All</th>\n",
       "      <td>442</td>\n",
       "      <td>112</td>\n",
       "      <td>1237</td>\n",
       "      <td>288</td>\n",
       "      <td>95</td>\n",
       "      <td>2174</td>\n",
       "    </tr>\n",
       "  </tbody>\n",
       "</table>\n",
       "</div>"
      ],
      "text/plain": [
       "family_status        civil partnership  divorced  married  unmarried  \\\n",
       "education                                                              \n",
       "BACHELOR'S DEGREE                    5         1       14          3   \n",
       "Bachelor's Degree                    8         2       11          4   \n",
       "PRIMARY EDUCATION                    0         0        1          0   \n",
       "Primary Education                    0         0        0          0   \n",
       "SECONDARY EDUCATION                 18         3       38          4   \n",
       "SOME COLLEGE                         2         1        1          3   \n",
       "Secondary Education                 16         4       35          5   \n",
       "Some College                         2         0        3          2   \n",
       "bachelor's degree                   89        21      281         93   \n",
       "primary education                    6         0        9          2   \n",
       "secondary education                286        76      818        157   \n",
       "some college                        10         4       26         15   \n",
       "All                                442       112     1237        288   \n",
       "\n",
       "family_status        widow / widower   All  \n",
       "education                                   \n",
       "BACHELOR'S DEGREE                  0    23  \n",
       "Bachelor's Degree                  0    25  \n",
       "PRIMARY EDUCATION                  0     1  \n",
       "Primary Education                  1     1  \n",
       "SECONDARY EDUCATION                4    67  \n",
       "SOME COLLEGE                       0     7  \n",
       "Secondary Education                5    65  \n",
       "Some College                       0     7  \n",
       "bachelor's degree                 12   496  \n",
       "primary education                  2    19  \n",
       "secondary education               71  1408  \n",
       "some college                       0    55  \n",
       "All                               95  2174  "
      ]
     },
     "execution_count": 11,
     "metadata": {},
     "output_type": "execute_result"
    }
   ],
   "source": [
    "# Comprueba otras razones y patrones que podrían llevar a valores ausentes\n",
    "\n",
    "Test_1 = pd.pivot_table(missing_data_report, values='income_type', aggfunc='count', index=[\"education\"], columns=['family_status'], fill_value = 0, margins = True)\n",
    "Test_1"
   ]
  },
  {
   "cell_type": "markdown",
   "metadata": {},
   "source": [
    "**Conclusión intermedia**\n",
    "\n",
    "<div style=\"text-align: justify\">\n",
    "Los valores ausentes en nuestro conjunto de datos presentan un patrón discernible. Aproximadamente el 77% de los valores ausentes corresponden principalmente a clientes con educación secundaria seguidas en menor proporcion por aquellos con bachelor's degree, que están casados o en una unión libre. Esta observación indica que ciertas características demográficas están asociadas con la presencia de valores ausentes. Es importante considerar este patrón al realizar el análisis del riesgo de incumplimiento de los prestatarios, ya que podría haber un sesgo en los datos que afecte la precisión de nuestras conclusiones.\n",
    "</div>"
   ]
  },
  {
   "cell_type": "code",
   "execution_count": 12,
   "metadata": {
    "scrolled": true
   },
   "outputs": [
    {
     "name": "stdout",
     "output_type": "stream",
     "text": [
      "Reporte comparativo del recuento de valores ausentes por tipo de ingreso:\n"
     ]
    },
    {
     "data": {
      "text/html": [
       "<div>\n",
       "<style scoped>\n",
       "    .dataframe tbody tr th:only-of-type {\n",
       "        vertical-align: middle;\n",
       "    }\n",
       "\n",
       "    .dataframe tbody tr th {\n",
       "        vertical-align: top;\n",
       "    }\n",
       "\n",
       "    .dataframe thead th {\n",
       "        text-align: right;\n",
       "    }\n",
       "</style>\n",
       "<table border=\"1\" class=\"dataframe\">\n",
       "  <thead>\n",
       "    <tr style=\"text-align: right;\">\n",
       "      <th></th>\n",
       "      <th>Total</th>\n",
       "      <th>Female</th>\n",
       "      <th>Male</th>\n",
       "    </tr>\n",
       "  </thead>\n",
       "  <tbody>\n",
       "    <tr>\n",
       "      <th>employee</th>\n",
       "      <td>1105</td>\n",
       "      <td>693.0</td>\n",
       "      <td>412</td>\n",
       "    </tr>\n",
       "    <tr>\n",
       "      <th>business</th>\n",
       "      <td>508</td>\n",
       "      <td>327.0</td>\n",
       "      <td>181</td>\n",
       "    </tr>\n",
       "    <tr>\n",
       "      <th>retiree</th>\n",
       "      <td>413</td>\n",
       "      <td>352.0</td>\n",
       "      <td>61</td>\n",
       "    </tr>\n",
       "    <tr>\n",
       "      <th>civil servant</th>\n",
       "      <td>147</td>\n",
       "      <td>112.0</td>\n",
       "      <td>35</td>\n",
       "    </tr>\n",
       "    <tr>\n",
       "      <th>entrepreneur</th>\n",
       "      <td>1</td>\n",
       "      <td>0.0</td>\n",
       "      <td>1</td>\n",
       "    </tr>\n",
       "  </tbody>\n",
       "</table>\n",
       "</div>"
      ],
      "text/plain": [
       "               Total  Female  Male\n",
       "employee        1105   693.0   412\n",
       "business         508   327.0   181\n",
       "retiree          413   352.0    61\n",
       "civil servant    147   112.0    35\n",
       "entrepreneur       1     0.0     1"
      ]
     },
     "execution_count": 12,
     "metadata": {},
     "output_type": "execute_result"
    }
   ],
   "source": [
    "# Comprobación de otros patrones: explica cuáles\n",
    "\n",
    "gender_missing_data = missing_data_report.groupby(\"gender\")[\"income_type\"].value_counts()\n",
    "income_type_report = filtered_income_type.value_counts()\n",
    "female_income_type_report = gender_missing_data.loc[\"F\"]\n",
    "male_income_type_report = gender_missing_data.loc[\"M\"]\n",
    "\n",
    "comparative_missing_data = pd.concat([income_type_report, female_income_type_report, male_income_type_report], axis=1, keys=['Total', 'Female','Male'])\n",
    "comparative_missing_data.fillna(0, inplace=True)\n",
    "\n",
    "print(\"Reporte comparativo del recuento de valores ausentes por tipo de ingreso:\")\n",
    "comparative_missing_data"
   ]
  },
  {
   "cell_type": "markdown",
   "metadata": {},
   "source": [
    "**Conclusiones**\n",
    "\n",
    "<div style=\"text-align: justify\">\n",
    "Después de analizar los datos de valores ausentes en las variables de educación, estado civil y género, se encontraron patrones significativos. Se observó que la categoría \"secondary education\" y el estado civil, estaban fuertemente relacionados con la presencia de valores ausentes. Además, al segmentar los datos por género, se encontró que la mayoría de los valores ausentes correspondían a mujeres. Estos hallazgos sugieren que los valores ausentes no son aleatorios, sino que siguen un patrón consistente. Específicamente, las mujeres con estado civil comprometidas y educación secundaria tienen una mayor propensión a tener valores ausentes. \n",
    "</div>\n",
    "\n",
    "\n",
    "  \n",
    "> En resumen, se identificaron patrones significativos en los valores ausentes relacionados con la educación, estado civil y género. Estos patrones proporcionan información valiosa para comprender la naturaleza de los datos faltantes y deben considerarse en el análisis posterior de los datos. Es necesario profundizar en la investigación para comprender las causas subyacentes de estos patrones y evaluar posibles sesgos en la recopilación de datos o diferencias en la disponibilidad y precisión de la información según la categoría de educación y estado civil.\n",
    "</div>\n",
    "\n",
    "<div style=\"text-align: justify\">\n",
    "Para abordar los valores ausentes, se aplicará un enfoque de imputación de datos utilizando la mediana de los ingresos de la columna \"total_income\" según el género. Dado que los valores ausentes se encuentran en columnas relacionadas con los ingresos y son de importancia para realizar un análisis crediticio, es crucial tratarlos adecuadamente. Al utilizar la mediana, se busca evitar posibles sesgos causados por valores atípicos y proporcionar una estimación razonable de los ingresos faltantes. \n",
    "</div>\n",
    "\n",
    "\n",
    "      \n",
    "> Al calcular la mediana por separado para hombres y mujeres, se tiene en cuenta la posible disparidad de ingresos entre géneros y se busca capturar mejor la distribución de los ingresos correspondiente a cada grupo. Por otra parte los datos ausentes en la columna \"days_employed\" seran analizados posteriormente.\n",
    "</div>\n",
    "\n",
    "<div style=\"text-align: justify\">\n",
    "En los próximos pasos de la transformación de datos, eliminaré duplicados para garantizar la integridad de los datos. Además, corregiré registros inconsistentes y artefactos incorrectos para mejorar la precisión de la información. Asimismo, utilizaré agrupaciones por grupos de edades para obtener una perspectiva más amplia y comprender mejor los patrones en los datos.\n",
    "</div>"
   ]
  },
  {
   "cell_type": "markdown",
   "metadata": {},
   "source": [
    "## Transformación de datos\n",
    "\n",
    "\n",
    "<div style=\"text-align: justify\">\n",
    "Vamos a usar el método unique() en la columna \"education\" para obtener los valores únicos y revisar si hay datos duplicados o que requieran corrección debido a posibles errores humanos. Esto nos permitirá identificar cualquier problema en los valores y tomar las medidas necesarias para corregirlos.\n",
    "</div>"
   ]
  },
  {
   "cell_type": "code",
   "execution_count": 13,
   "metadata": {},
   "outputs": [
    {
     "data": {
      "text/plain": [
       "[\"bachelor's degree\",\n",
       " 'secondary education',\n",
       " 'Secondary Education',\n",
       " 'SECONDARY EDUCATION',\n",
       " \"BACHELOR'S DEGREE\",\n",
       " 'some college',\n",
       " 'primary education',\n",
       " \"Bachelor's Degree\",\n",
       " 'SOME COLLEGE',\n",
       " 'Some College',\n",
       " 'PRIMARY EDUCATION',\n",
       " 'Primary Education',\n",
       " 'Graduate Degree',\n",
       " 'GRADUATE DEGREE',\n",
       " 'graduate degree']"
      ]
     },
     "execution_count": 13,
     "metadata": {},
     "output_type": "execute_result"
    }
   ],
   "source": [
    "# Veamos todos los valores en la columna de educación para verificar si será necesario corregir la ortografía y qué habrá que corregir exactamente\n",
    "\n",
    "data_report['education'].unique().tolist()"
   ]
  },
  {
   "cell_type": "code",
   "execution_count": 14,
   "metadata": {
    "scrolled": true
   },
   "outputs": [
    {
     "data": {
      "text/plain": [
       "0            Bachelor Degree\n",
       "1        Secondary Education\n",
       "2        Secondary Education\n",
       "3        Secondary Education\n",
       "4        Secondary Education\n",
       "                ...         \n",
       "21520    Secondary Education\n",
       "21521    Secondary Education\n",
       "21522    Secondary Education\n",
       "21523    Secondary Education\n",
       "21524    Secondary Education\n",
       "Name: education, Length: 21525, dtype: object"
      ]
     },
     "execution_count": 14,
     "metadata": {},
     "output_type": "execute_result"
    }
   ],
   "source": [
    "# Arregla los registros si es necesario\n",
    "\n",
    "primary_duplicates = ['primary education','PRIMARY EDUCATION']\n",
    "primary_name ='Primary Education'\n",
    "secondary_duplicates = ['secondary education','SECONDARY EDUCATION']\n",
    "secondary_name = 'Secondary Education'\n",
    "bachelor_duplicates = [\"bachelor's degree\",\"BACHELOR'S DEGREE\", \"Bachelor's Degree\"]\n",
    "bachelor_name = \"Bachelor Degree\"\n",
    "some_college_duplicates= ['some college', 'SOME COLLEGE']\n",
    "some_college_name = 'Some College'\n",
    "graduate_duplicates = ['graduate degree', 'GRADUATE DEGREE']\n",
    "graduate_name = 'Graduate Degree'\n",
    "\n",
    "def replace_wrong_values(wrong_values, correct_value):\n",
    "    for wrong_value in wrong_values:\n",
    "        data_report['education'] = data_report['education'].replace(wrong_value, correct_value)\n",
    "\n",
    "replace_wrong_values(primary_duplicates, primary_name)\n",
    "replace_wrong_values(secondary_duplicates, secondary_name)\n",
    "replace_wrong_values(bachelor_duplicates, bachelor_name)\n",
    "replace_wrong_values(some_college_duplicates, some_college_name)\n",
    "replace_wrong_values(graduate_duplicates, graduate_name)  \n",
    "    \n",
    "data_report ['education']"
   ]
  },
  {
   "cell_type": "code",
   "execution_count": 15,
   "metadata": {},
   "outputs": [
    {
     "data": {
      "text/plain": [
       "['Bachelor Degree',\n",
       " 'Secondary Education',\n",
       " 'Some College',\n",
       " 'Primary Education',\n",
       " 'Graduate Degree']"
      ]
     },
     "execution_count": 15,
     "metadata": {},
     "output_type": "execute_result"
    }
   ],
   "source": [
    "# Comprobar todos los valores en la columna para asegurarnos de que los hayamos corregido\n",
    "\n",
    "data_report['education'].unique().tolist()"
   ]
  },
  {
   "cell_type": "markdown",
   "metadata": {},
   "source": [
    "Continuaremos verificando nuestros datos, ahora centrándonos en la columna \"children\". Revisaremos estos valores para identificar cualquier dato extraño, como valores negativos o atípicos que no se ajusten a la naturaleza de la variable"
   ]
  },
  {
   "cell_type": "code",
   "execution_count": 16,
   "metadata": {},
   "outputs": [
    {
     "data": {
      "text/plain": [
       " 0     14149\n",
       " 1      4818\n",
       " 2      2055\n",
       " 3       330\n",
       " 20       76\n",
       "-1        47\n",
       " 4        41\n",
       " 5         9\n",
       "Name: children, dtype: int64"
      ]
     },
     "execution_count": 16,
     "metadata": {},
     "output_type": "execute_result"
    }
   ],
   "source": [
    "# Veamos la distribución de los valores en la columna `children`\n",
    "\n",
    "data_report [\"children\"].value_counts()"
   ]
  },
  {
   "cell_type": "markdown",
   "metadata": {},
   "source": [
    "<div style=\"text-align: justify\">\n",
    "En la columna \"children\" encontramos valores problemáticos, como -1 y 20, que no parecen ser válidos para indicar la cantidad de hijos. Estos valores representan aproximadamente el 25% de los datos en esta columna y podrían ser el resultado de errores de tipeo o ingreso incorrecto de datos. Para abordar esta situación, utilizaré el método .loc para seleccionar los registros específicos que contienen estos valores problemáticos y les asignaré nuevos valores.\n",
    "</div>\n",
    "\n",
    "> Para los valores negativos, los cambiaré a 0 asumiendo que fueron errores de tipeo, ya que no es posible tener una cantidad negativa de hijos. Para el valor 20, consideraré que fue ingresado incorrectamente y lo cambiaré a un valor más realista, como 2 o 3, basándome en la distribución de valores cercanos."
   ]
  },
  {
   "cell_type": "code",
   "execution_count": 17,
   "metadata": {},
   "outputs": [
    {
     "data": {
      "text/plain": [
       "0        1\n",
       "1        1\n",
       "2        0\n",
       "3        3\n",
       "4        0\n",
       "        ..\n",
       "21520    1\n",
       "21521    0\n",
       "21522    1\n",
       "21523    3\n",
       "21524    2\n",
       "Name: children, Length: 21525, dtype: int16"
      ]
     },
     "execution_count": 17,
     "metadata": {},
     "output_type": "execute_result"
    }
   ],
   "source": [
    "# [arregla los datos según tu decisión]\n",
    "\n",
    "data_report.loc[data_report['children'] == -1, 'children'] = 0\n",
    "data_report.loc[data_report['children'] == 20, 'children'] = 2\n",
    "data_report['children'] = data_report['children'].astype('int16')\n",
    "data_report['children']"
   ]
  },
  {
   "cell_type": "code",
   "execution_count": 18,
   "metadata": {},
   "outputs": [
    {
     "data": {
      "text/plain": [
       "0    14196\n",
       "1     4818\n",
       "2     2131\n",
       "3      330\n",
       "4       41\n",
       "5        9\n",
       "Name: children, dtype: int64"
      ]
     },
     "execution_count": 18,
     "metadata": {},
     "output_type": "execute_result"
    }
   ],
   "source": [
    "# Comprobar la columna `children` de nuevo para asegurarnos de que todo está arreglado\n",
    "\n",
    "data_report[\"children\"].value_counts()"
   ]
  },
  {
   "cell_type": "markdown",
   "metadata": {},
   "source": [
    "<div style=\"text-align: justify\">\n",
    "Dado que la columna days_employed contiene datos numéricos, no utilizaremos el método unique() debido a que los datos únicos podrían ser demasiado extensos para revisar. En su lugar, realizaremos una revisión de la columna con el método describe() para obtener una idea de la naturaleza y distribución de los datos. Esta revisión nos permitirá identificar posibles problemas o patrones iniciales en los datos de days_employed.\n",
    "</div>"
   ]
  },
  {
   "cell_type": "code",
   "execution_count": 19,
   "metadata": {},
   "outputs": [
    {
     "name": "stdout",
     "output_type": "stream",
     "text": [
      "count     19351.000000\n",
      "mean      63046.497661\n",
      "std      140827.311974\n",
      "min      -18388.949901\n",
      "25%       -2747.423625\n",
      "50%       -1203.369529\n",
      "75%        -291.095954\n",
      "max      401755.400475\n",
      "Name: days_employed, dtype: float64\n"
     ]
    },
    {
     "data": {
      "text/plain": [
       "'Porcentaje de datos problematicos en `days_employed`: 89.90%'"
      ]
     },
     "execution_count": 19,
     "metadata": {},
     "output_type": "execute_result"
    }
   ],
   "source": [
    "# Encuentra datos problemáticos en `days_employed`, si existen, y calcula el porcentaje\n",
    "\n",
    "print (data_report['days_employed'].describe())\n",
    "\n",
    "days_employed_problematic_data = len (data_report['days_employed'].value_counts())\n",
    "percentage_days_employed_problematic_data = (days_employed_problematic_data / total_data) * 100\n",
    "(\"Porcentaje de datos problematicos en `days_employed`: {:.2f}%\".format(percentage_days_employed_problematic_data))"
   ]
  },
  {
   "cell_type": "markdown",
   "metadata": {},
   "source": [
    "<div style=\"text-align: justify\">\n",
    "Los datos problemáticos en la columna \"days_employed\" representan un porcentaje significativo del total de datos, lo que sugiere posibles problemas técnicos. Al revisar los estadísticos descriptivos, se observa que los valores positivos presentan cantidades irrealmente altas en el contexto de \"días laborados\". Además, también se identifican valores negativos.\n",
    "</div>\n",
    "\n",
    "\n",
    "   Para abordar estos problemas, se propone seguir el siguiente flujo de trabajo:\n",
    "- Identificar los valores positivos y negativos en la columna \"days_employed\" mediante filtrado.\n",
    "- Resolver el problema de magnitud de los valores positivos, ya sea dividiendo por una constante, reemplazándolos por NaN u aplicando otra corrección adecuada.\n",
    "- Convertir los valores negativos a positivos utilizando el valor absoluto."
   ]
  },
  {
   "cell_type": "code",
   "execution_count": 20,
   "metadata": {},
   "outputs": [
    {
     "data": {
      "text/plain": [
       "0        8437.673028\n",
       "1        4024.803754\n",
       "2        5623.422610\n",
       "3        4124.747207\n",
       "4                NaN\n",
       "            ...     \n",
       "21520    4529.316663\n",
       "21521            NaN\n",
       "21522    2113.346888\n",
       "21523    3112.481705\n",
       "21524    1984.507589\n",
       "Name: days_employed, Length: 21525, dtype: float64"
      ]
     },
     "execution_count": 20,
     "metadata": {},
     "output_type": "execute_result"
    }
   ],
   "source": [
    "# Aborda los valores problemáticos, si existen.\n",
    "\n",
    "import numpy as np\n",
    "data_report.loc[data_report['days_employed'] > 0, 'days_employed'] = np.nan\n",
    "\n",
    "data_report.loc[data_report['days_employed'] < 0, 'days_employed'] = data_report.loc[data_report['days_employed'] < 0, 'days_employed'].abs()\n",
    "data_report['days_employed']"
   ]
  },
  {
   "cell_type": "code",
   "execution_count": 21,
   "metadata": {},
   "outputs": [
    {
     "data": {
      "text/plain": [
       "count    15906.000000\n",
       "mean      2353.015932\n",
       "std       2304.243851\n",
       "min         24.141633\n",
       "25%        756.371964\n",
       "50%       1630.019381\n",
       "75%       3157.480084\n",
       "max      18388.949901\n",
       "Name: days_employed, dtype: float64"
      ]
     },
     "execution_count": 21,
     "metadata": {},
     "output_type": "execute_result"
    }
   ],
   "source": [
    "# Comprueba el resultado - asegúrate de que esté arreglado\n",
    "\n",
    "data_report['days_employed'].describe()"
   ]
  },
  {
   "cell_type": "markdown",
   "metadata": {},
   "source": [
    "<div style=\"text-align: justify\">\n",
    "En la columna \"dob_years\", que representa la edad de los clientes, analizaremos los datos estadísticos descriptivos. Este análisis nos permitirá evaluar si existen datos inusuales o inconsistentes en la columna de edad de los clientes. De ser así, calcularemos el porcentaje correspondiente de valores incoherentes.\n",
    "    </div>"
   ]
  },
  {
   "cell_type": "code",
   "execution_count": 22,
   "metadata": {
    "scrolled": true
   },
   "outputs": [
    {
     "data": {
      "text/plain": [
       "\"Porcentaje de datos sospechosos en 'dob_years': 0.47%\""
      ]
     },
     "execution_count": 22,
     "metadata": {},
     "output_type": "execute_result"
    }
   ],
   "source": [
    "# Revisa `dob_years` en busca de valores sospechosos y cuenta el porcentaje\n",
    "\n",
    "data_report['dob_years'].value_counts().sort_index()\n",
    "\n",
    "dob_years_suspect_data = len(data_report[data_report['dob_years'] < 18])\n",
    "percentage_dob_years_suspect_data = (dob_years_suspect_data / total_data) * 100\n",
    "(\"Porcentaje de datos sospechosos en 'dob_years': {:.2f}%\".format(percentage_dob_years_suspect_data))"
   ]
  },
  {
   "cell_type": "markdown",
   "metadata": {},
   "source": [
    "<div style=\"text-align: justify\">\n",
    "En este caso, los valores sospechosos corresponden a registros donde la edad registrada es menor a 18 años. Al corregir estos valores problemáticos, se mejora la calidad de los datos, esta decisión radica en el hecho de que es poco probable que los clientes sean menores de edad en un contexto crediticio. Al marcar los valores sospechosos como NaN en lugar de 0, se podrá realizar un proceso de imputación de valores ausentes, procediendo a rellenar los valores NaN por la media de edad.\n",
    "</div>"
   ]
  },
  {
   "cell_type": "code",
   "execution_count": 23,
   "metadata": {},
   "outputs": [
    {
     "data": {
      "text/plain": [
       "0        42\n",
       "1        36\n",
       "2        33\n",
       "3        32\n",
       "4        53\n",
       "         ..\n",
       "21520    43\n",
       "21521    67\n",
       "21522    38\n",
       "21523    38\n",
       "21524    40\n",
       "Name: dob_years, Length: 21525, dtype: int16"
      ]
     },
     "execution_count": 23,
     "metadata": {},
     "output_type": "execute_result"
    }
   ],
   "source": [
    "# Resuelve los problemas en la columna `dob_years`, si existen\n",
    "\n",
    "data_report.loc[data_report['dob_years'] < 18, 'dob_years'] = np.nan\n",
    "mean_dob_years = data_report['dob_years'].mean()\n",
    "data_report['dob_years'] = data_report['dob_years'].fillna(mean_dob_years).astype(\"int16\")\n",
    "data_report['dob_years']"
   ]
  },
  {
   "cell_type": "code",
   "execution_count": 24,
   "metadata": {},
   "outputs": [
    {
     "data": {
      "text/plain": [
       "19     14\n",
       "20     51\n",
       "21    111\n",
       "22    183\n",
       "23    254\n",
       "Name: dob_years, dtype: int64"
      ]
     },
     "execution_count": 24,
     "metadata": {},
     "output_type": "execute_result"
    }
   ],
   "source": [
    "# Comprueba el resultado - asegúrate de que esté arreglado\n",
    "\n",
    "data_report['dob_years'].value_counts().sort_index().head()"
   ]
  },
  {
   "cell_type": "markdown",
   "metadata": {},
   "source": [
    "En la columna \"family_status\", podemos revisar los diferentes tipos de valores presentes y determinar si hay algún problema que debamos abordar"
   ]
  },
  {
   "cell_type": "code",
   "execution_count": 25,
   "metadata": {},
   "outputs": [
    {
     "data": {
      "text/plain": [
       "['married', 'civil partnership', 'widow / widower', 'divorced', 'unmarried']"
      ]
     },
     "execution_count": 25,
     "metadata": {},
     "output_type": "execute_result"
    }
   ],
   "source": [
    "# Veamos los valores de la columna\n",
    "\n",
    "data_report[\"family_status\"].unique().tolist()"
   ]
  },
  {
   "cell_type": "code",
   "execution_count": 26,
   "metadata": {},
   "outputs": [],
   "source": [
    "# Aborda los valores problemáticos en `family_status`, si existen\n",
    "\n",
    "data_report[\"family_status\"] = data_report[\"family_status\"].str.title()"
   ]
  },
  {
   "cell_type": "code",
   "execution_count": 27,
   "metadata": {},
   "outputs": [
    {
     "data": {
      "text/plain": [
       "['Married', 'Civil Partnership', 'Widow / Widower', 'Divorced', 'Unmarried']"
      ]
     },
     "execution_count": 27,
     "metadata": {},
     "output_type": "execute_result"
    }
   ],
   "source": [
    "# Comprueba el resultado - asegúrate de que esté arreglado\n",
    "\n",
    "data_report[\"family_status\"].unique().tolist()"
   ]
  },
  {
   "cell_type": "markdown",
   "metadata": {},
   "source": [
    "Veamos los valores únicos en la columna \"gender\" para identificar posibles problemas:"
   ]
  },
  {
   "cell_type": "code",
   "execution_count": 28,
   "metadata": {},
   "outputs": [
    {
     "data": {
      "text/plain": [
       "['F', 'M', 'XNA']"
      ]
     },
     "execution_count": 28,
     "metadata": {},
     "output_type": "execute_result"
    }
   ],
   "source": [
    "# Veamos los valores en la columna\n",
    "\n",
    "data_report[\"gender\"].unique().tolist()"
   ]
  },
  {
   "cell_type": "code",
   "execution_count": 29,
   "metadata": {},
   "outputs": [
    {
     "name": "stdout",
     "output_type": "stream",
     "text": [
      "F      14236\n",
      "M       7288\n",
      "XNA        1\n",
      "Name: gender, dtype: int64\n"
     ]
    }
   ],
   "source": [
    "# Aborda los valores problemáticos, si existen\n",
    "\n",
    "print (data_report[\"gender\"].value_counts())\n",
    "data_report = data_report[data_report[\"gender\"] != \"XNA\"]"
   ]
  },
  {
   "cell_type": "code",
   "execution_count": 30,
   "metadata": {
    "scrolled": true
   },
   "outputs": [
    {
     "data": {
      "text/plain": [
       "['F', 'M']"
      ]
     },
     "execution_count": 30,
     "metadata": {},
     "output_type": "execute_result"
    }
   ],
   "source": [
    "# Comprueba el resultado - asegúrate de que esté arreglado\n",
    "\n",
    "data_report[\"gender\"].unique().tolist()"
   ]
  },
  {
   "cell_type": "markdown",
   "metadata": {},
   "source": [
    "Realizaremos un análisis de la columna \"income_type\" para examinar e identificar posibles problemas."
   ]
  },
  {
   "cell_type": "code",
   "execution_count": 31,
   "metadata": {},
   "outputs": [
    {
     "data": {
      "text/plain": [
       "['employee',\n",
       " 'retiree',\n",
       " 'business',\n",
       " 'civil servant',\n",
       " 'unemployed',\n",
       " 'entrepreneur',\n",
       " 'student',\n",
       " 'paternity / maternity leave']"
      ]
     },
     "execution_count": 31,
     "metadata": {},
     "output_type": "execute_result"
    }
   ],
   "source": [
    "# Veamos los valores en la columna\n",
    "\n",
    "data_report [\"income_type\"].unique().tolist()"
   ]
  },
  {
   "cell_type": "code",
   "execution_count": 32,
   "metadata": {},
   "outputs": [],
   "source": [
    "# Aborda los valores problemáticos, si existen\n",
    "\n",
    "data_report [\"income_type\"] = data_report [\"income_type\"].str.title()"
   ]
  },
  {
   "cell_type": "code",
   "execution_count": 33,
   "metadata": {},
   "outputs": [
    {
     "data": {
      "text/plain": [
       "['Employee',\n",
       " 'Retiree',\n",
       " 'Business',\n",
       " 'Civil Servant',\n",
       " 'Unemployed',\n",
       " 'Entrepreneur',\n",
       " 'Student',\n",
       " 'Paternity / Maternity Leave']"
      ]
     },
     "execution_count": 33,
     "metadata": {},
     "output_type": "execute_result"
    }
   ],
   "source": [
    "# Comprueba el resultado - asegúrate de que esté arreglado\n",
    "\n",
    "data_report [\"income_type\"].unique().tolist()"
   ]
  },
  {
   "cell_type": "markdown",
   "metadata": {},
   "source": [
    "<div style=\"text-align: justify\">\n",
    "Es necesario verificar si existen duplicados en los datos y decidir cómo manejarlos. Esto implica determinar si se deben eliminar, mantener solo una instancia de cada duplicado o realizar una investigación adicional antes de tomar una decisión. El enfoque elegido dependerá del contexto y los objetivos del análisis.\n",
    "    </div>"
   ]
  },
  {
   "cell_type": "code",
   "execution_count": 34,
   "metadata": {},
   "outputs": [
    {
     "data": {
      "text/plain": [
       "71"
      ]
     },
     "execution_count": 34,
     "metadata": {},
     "output_type": "execute_result"
    }
   ],
   "source": [
    "# Comprobar los duplicados\n",
    "\n",
    "data_report.duplicated().sum()"
   ]
  },
  {
   "cell_type": "code",
   "execution_count": 35,
   "metadata": {},
   "outputs": [],
   "source": [
    "# Aborda los duplicados, si existen\n",
    "\n",
    "data_report = data_report.drop_duplicates().reset_index(drop=True)"
   ]
  },
  {
   "cell_type": "code",
   "execution_count": 36,
   "metadata": {},
   "outputs": [
    {
     "data": {
      "text/plain": [
       "0"
      ]
     },
     "execution_count": 36,
     "metadata": {},
     "output_type": "execute_result"
    }
   ],
   "source": [
    "# Última comprobación para ver si tenemos duplicados\n",
    "\n",
    "data_report.duplicated().sum()"
   ]
  },
  {
   "cell_type": "code",
   "execution_count": 37,
   "metadata": {},
   "outputs": [
    {
     "data": {
      "text/plain": [
       "(21453, 12)"
      ]
     },
     "execution_count": 37,
     "metadata": {},
     "output_type": "execute_result"
    }
   ],
   "source": [
    "# Comprueba el tamaño del conjunto de datos que tienes ahora, después de haber ejecutado estas primeras manipulaciones\n",
    "\n",
    "data_report.shape"
   ]
  },
  {
   "cell_type": "markdown",
   "metadata": {},
   "source": [
    "<div style=\"text-align: justify\">\n",
    "Después de realizar las manipulaciones iniciales en el conjunto de datos, se han realizado cambios en varias columnas, como la eliminación de valores negativos en \"days_employed\", la corrección de valores sospechosos en \"dob_years\", la capitalización de las palabras en \"family_status\" y \"income_type\", y la eliminación de filas duplicadas. En términos porcentuales, los cambios realizados representan aproximadamente el 0.33% del conjunto de datos total. Estos cambios han sido relativamente mínimos en relación con el tamaño y la integridad general del conjunto de datos original.\n",
    "</div>"
   ]
  },
  {
   "cell_type": "markdown",
   "metadata": {},
   "source": [
    "# Trabajar con valores ausentes"
   ]
  },
  {
   "cell_type": "markdown",
   "metadata": {},
   "source": [
    "<div style=\"text-align: justify\">\n",
    "En ocasiones, es útil trabajar con diccionarios cuando se manejan valores identificados por IDs, ya que permiten establecer una relación entre los IDs y su información correspondiente, traduciendo estos datos en valores más comprensibles y agilizando las operaciones relacionadas. Trabajar con diccionarios mejora la eficiencia y la legibilidad al acceder y manipular datos que utilizan IDs para representar cierta información.\n",
    "</div> \n",
    "      \n",
    "> En nuestro conjunto de datos, hemos identificado dos columnas que contienen IDs: \"education_id\" y \"family_status_id\". Estos IDs están asociados a los valores de las columnas \"education\" y \"family_status\", respectivamente. Para facilitar el análisis y la interpretación de estos datos, utilizaremos diccionarios para mapear los IDs a los valores correspondientes."
   ]
  },
  {
   "cell_type": "code",
   "execution_count": 38,
   "metadata": {},
   "outputs": [],
   "source": [
    "# Encuentra los diccionarios\n",
    "\n",
    "# Diccionario para la columna \"education_id\"\n",
    "education_dict = data_report[['education_id', 'education']].drop_duplicates().set_index('education_id')['education'].to_dict()\n",
    "\n",
    "# Diccionario para la columna \"family_status_id\"\n",
    "family_status_dict = data_report[['family_status_id', 'family_status']].drop_duplicates().set_index('family_status_id')['family_status'].to_dict()"
   ]
  },
  {
   "cell_type": "markdown",
   "metadata": {},
   "source": [
    "### Restaurar valores ausentes en `total_income`"
   ]
  },
  {
   "cell_type": "markdown",
   "metadata": {},
   "source": [
    "<div style=\"text-align: justify\">\n",
    "En nuestro conjunto de datos, hemos identificado dos columnas con valores ausentes: \"days_employed\" y \"total_income\". Para abordar estos valores faltantes, utilizaremos una estrategia de imputación que nos permita preservar la distribución y la tendencia central de los datos.\n",
    " </div> \n",
    "<div style=\"text-align: justify\">  \n",
    "Para abordar los valores ausentes de \"total_income\", aplicaré una estrategia basada en la categorización de edad de los clientes. Para ello, creamos una nueva columna llamada \"age_category\" utilizando la información de la columna \"dob_years\". Esta categorización nos permitirá calcular valores estimados para el ingreso total utilizando los datos disponibles dentro de cada grupo de edad.\n",
    "     </div> "
   ]
  },
  {
   "cell_type": "code",
   "execution_count": 39,
   "metadata": {},
   "outputs": [],
   "source": [
    "# Vamos a escribir una función que calcule la categoría de edad\n",
    "\n",
    "def age_group (age):\n",
    "    \n",
    "    # \"Young\" for age < 30\n",
    "    # \"Adult\" for age < 60\n",
    "    # \"Senior\" for all other cases\n",
    "    \n",
    "    if age < 30:\n",
    "        return \"Young\"\n",
    "    \n",
    "    elif age < 60:\n",
    "        return \"Adult\"\n",
    "    \n",
    "    return \"Senior\""
   ]
  },
  {
   "cell_type": "code",
   "execution_count": 40,
   "metadata": {},
   "outputs": [
    {
     "name": "stdout",
     "output_type": "stream",
     "text": [
      "Young\n",
      "Adult\n",
      "Senior\n"
     ]
    }
   ],
   "source": [
    "# Prueba si la función funciona bien\n",
    "\n",
    "print(age_group (25))\n",
    "print(age_group (40))\n",
    "print(age_group (70))"
   ]
  },
  {
   "cell_type": "code",
   "execution_count": 41,
   "metadata": {},
   "outputs": [
    {
     "data": {
      "text/plain": [
       "0         Adult\n",
       "1         Adult\n",
       "2         Adult\n",
       "3         Adult\n",
       "4         Adult\n",
       "          ...  \n",
       "21448     Adult\n",
       "21449    Senior\n",
       "21450     Adult\n",
       "21451     Adult\n",
       "21452     Adult\n",
       "Name: age_category, Length: 21453, dtype: object"
      ]
     },
     "execution_count": 41,
     "metadata": {},
     "output_type": "execute_result"
    }
   ],
   "source": [
    "# Crear una nueva columna basada en la función\n",
    "\n",
    "data_report [\"age_category\"] = data_report[\"dob_years\"].apply(age_group)\n",
    "data_report [\"age_category\"]"
   ]
  },
  {
   "cell_type": "code",
   "execution_count": 42,
   "metadata": {},
   "outputs": [
    {
     "data": {
      "text/plain": [
       "Adult     15774\n",
       "Young      3179\n",
       "Senior     2500\n",
       "Name: age_category, dtype: int64"
      ]
     },
     "execution_count": 42,
     "metadata": {},
     "output_type": "execute_result"
    }
   ],
   "source": [
    "# Comprobar cómo es la distribución de los valores en la nueva columna\n",
    "\n",
    "data_report['age_category'].value_counts()"
   ]
  },
  {
   "cell_type": "markdown",
   "metadata": {},
   "source": [
    "<div style=\"text-align: justify\">\n",
    "En general, los factores que suelen influir en los ingresos de una persona incluyen la educación, el tipo de empleo y el género, ya que existen disparidades salariales entre hombres y mujeres en muchos contextos laborales. Para determinar si debemos usar valores medios o medianos para reemplazar los valores ausentes en la columna de ingresos, es importante analizar la distribución de estos factores y su relación con los ingresos.\n",
    " </div>"
   ]
  },
  {
   "cell_type": "markdown",
   "metadata": {},
   "source": [
    "<div style=\"text-align: justify\">\n",
    "Crearemos un nuevo DataFrame que contendrá únicamente las filas que no tienen valores ausentes en ninguna columna. Podemos utilizarlo para realizar cálculos o análisis adicionales, o para restaurar los valores ausentes en nuestro conjunto de datos original.\n",
    " </div>"
   ]
  },
  {
   "cell_type": "code",
   "execution_count": 43,
   "metadata": {},
   "outputs": [
    {
     "data": {
      "text/html": [
       "<div>\n",
       "<style scoped>\n",
       "    .dataframe tbody tr th:only-of-type {\n",
       "        vertical-align: middle;\n",
       "    }\n",
       "\n",
       "    .dataframe tbody tr th {\n",
       "        vertical-align: top;\n",
       "    }\n",
       "\n",
       "    .dataframe thead th {\n",
       "        text-align: right;\n",
       "    }\n",
       "</style>\n",
       "<table border=\"1\" class=\"dataframe\">\n",
       "  <thead>\n",
       "    <tr style=\"text-align: right;\">\n",
       "      <th></th>\n",
       "      <th>children</th>\n",
       "      <th>days_employed</th>\n",
       "      <th>dob_years</th>\n",
       "      <th>education</th>\n",
       "      <th>education_id</th>\n",
       "      <th>family_status</th>\n",
       "      <th>family_status_id</th>\n",
       "      <th>gender</th>\n",
       "      <th>income_type</th>\n",
       "      <th>debt</th>\n",
       "      <th>total_income</th>\n",
       "      <th>purpose</th>\n",
       "      <th>age_category</th>\n",
       "    </tr>\n",
       "  </thead>\n",
       "  <tbody>\n",
       "    <tr>\n",
       "      <th>0</th>\n",
       "      <td>1</td>\n",
       "      <td>8437.673028</td>\n",
       "      <td>42</td>\n",
       "      <td>Bachelor Degree</td>\n",
       "      <td>0</td>\n",
       "      <td>Married</td>\n",
       "      <td>0</td>\n",
       "      <td>F</td>\n",
       "      <td>Employee</td>\n",
       "      <td>0</td>\n",
       "      <td>40620.102</td>\n",
       "      <td>purchase of the house</td>\n",
       "      <td>Adult</td>\n",
       "    </tr>\n",
       "    <tr>\n",
       "      <th>1</th>\n",
       "      <td>1</td>\n",
       "      <td>4024.803754</td>\n",
       "      <td>36</td>\n",
       "      <td>Secondary Education</td>\n",
       "      <td>1</td>\n",
       "      <td>Married</td>\n",
       "      <td>0</td>\n",
       "      <td>F</td>\n",
       "      <td>Employee</td>\n",
       "      <td>0</td>\n",
       "      <td>17932.802</td>\n",
       "      <td>car purchase</td>\n",
       "      <td>Adult</td>\n",
       "    </tr>\n",
       "    <tr>\n",
       "      <th>2</th>\n",
       "      <td>0</td>\n",
       "      <td>5623.422610</td>\n",
       "      <td>33</td>\n",
       "      <td>Secondary Education</td>\n",
       "      <td>1</td>\n",
       "      <td>Married</td>\n",
       "      <td>0</td>\n",
       "      <td>M</td>\n",
       "      <td>Employee</td>\n",
       "      <td>0</td>\n",
       "      <td>23341.752</td>\n",
       "      <td>purchase of the house</td>\n",
       "      <td>Adult</td>\n",
       "    </tr>\n",
       "    <tr>\n",
       "      <th>3</th>\n",
       "      <td>3</td>\n",
       "      <td>4124.747207</td>\n",
       "      <td>32</td>\n",
       "      <td>Secondary Education</td>\n",
       "      <td>1</td>\n",
       "      <td>Married</td>\n",
       "      <td>0</td>\n",
       "      <td>M</td>\n",
       "      <td>Employee</td>\n",
       "      <td>0</td>\n",
       "      <td>42820.568</td>\n",
       "      <td>supplementary education</td>\n",
       "      <td>Adult</td>\n",
       "    </tr>\n",
       "    <tr>\n",
       "      <th>5</th>\n",
       "      <td>0</td>\n",
       "      <td>926.185831</td>\n",
       "      <td>27</td>\n",
       "      <td>Bachelor Degree</td>\n",
       "      <td>0</td>\n",
       "      <td>Civil Partnership</td>\n",
       "      <td>1</td>\n",
       "      <td>M</td>\n",
       "      <td>Business</td>\n",
       "      <td>0</td>\n",
       "      <td>40922.170</td>\n",
       "      <td>purchase of the house</td>\n",
       "      <td>Young</td>\n",
       "    </tr>\n",
       "  </tbody>\n",
       "</table>\n",
       "</div>"
      ],
      "text/plain": [
       "   children  days_employed  dob_years            education  education_id  \\\n",
       "0         1    8437.673028         42      Bachelor Degree             0   \n",
       "1         1    4024.803754         36  Secondary Education             1   \n",
       "2         0    5623.422610         33  Secondary Education             1   \n",
       "3         3    4124.747207         32  Secondary Education             1   \n",
       "5         0     926.185831         27      Bachelor Degree             0   \n",
       "\n",
       "       family_status  family_status_id gender income_type  debt  total_income  \\\n",
       "0            Married                 0      F    Employee     0     40620.102   \n",
       "1            Married                 0      F    Employee     0     17932.802   \n",
       "2            Married                 0      M    Employee     0     23341.752   \n",
       "3            Married                 0      M    Employee     0     42820.568   \n",
       "5  Civil Partnership                 1      M    Business     0     40922.170   \n",
       "\n",
       "                   purpose age_category  \n",
       "0    purchase of the house        Adult  \n",
       "1             car purchase        Adult  \n",
       "2    purchase of the house        Adult  \n",
       "3  supplementary education        Adult  \n",
       "5    purchase of the house        Young  "
      ]
     },
     "execution_count": 43,
     "metadata": {},
     "output_type": "execute_result"
    }
   ],
   "source": [
    "# Crea una tabla sin valores ausentes y muestra algunas de sus filas para asegurarte de que se ve bien\n",
    "\n",
    "data_without_missing = data_report.dropna()\n",
    "data_without_missing.head()"
   ]
  },
  {
   "cell_type": "code",
   "execution_count": 44,
   "metadata": {},
   "outputs": [
    {
     "data": {
      "text/html": [
       "<div>\n",
       "<style scoped>\n",
       "    .dataframe tbody tr th:only-of-type {\n",
       "        vertical-align: middle;\n",
       "    }\n",
       "\n",
       "    .dataframe tbody tr th {\n",
       "        vertical-align: top;\n",
       "    }\n",
       "\n",
       "    .dataframe thead tr th {\n",
       "        text-align: left;\n",
       "    }\n",
       "\n",
       "    .dataframe thead tr:last-of-type th {\n",
       "        text-align: right;\n",
       "    }\n",
       "</style>\n",
       "<table border=\"1\" class=\"dataframe\">\n",
       "  <thead>\n",
       "    <tr>\n",
       "      <th></th>\n",
       "      <th>mean</th>\n",
       "      <th>median</th>\n",
       "    </tr>\n",
       "    <tr>\n",
       "      <th></th>\n",
       "      <th>total_income</th>\n",
       "      <th>total_income</th>\n",
       "    </tr>\n",
       "    <tr>\n",
       "      <th>education</th>\n",
       "      <th></th>\n",
       "      <th></th>\n",
       "    </tr>\n",
       "  </thead>\n",
       "  <tbody>\n",
       "    <tr>\n",
       "      <th>Bachelor Degree</th>\n",
       "      <td>33866.375230</td>\n",
       "      <td>28744.4340</td>\n",
       "    </tr>\n",
       "    <tr>\n",
       "      <th>Graduate Degree</th>\n",
       "      <td>27772.929500</td>\n",
       "      <td>25161.5835</td>\n",
       "    </tr>\n",
       "    <tr>\n",
       "      <th>Primary Education</th>\n",
       "      <td>22990.762982</td>\n",
       "      <td>20823.9590</td>\n",
       "    </tr>\n",
       "    <tr>\n",
       "      <th>Secondary Education</th>\n",
       "      <td>25498.606991</td>\n",
       "      <td>22673.4220</td>\n",
       "    </tr>\n",
       "    <tr>\n",
       "      <th>Some College</th>\n",
       "      <td>29418.625710</td>\n",
       "      <td>26113.4020</td>\n",
       "    </tr>\n",
       "  </tbody>\n",
       "</table>\n",
       "</div>"
      ],
      "text/plain": [
       "                             mean       median\n",
       "                     total_income total_income\n",
       "education                                     \n",
       "Bachelor Degree      33866.375230   28744.4340\n",
       "Graduate Degree      27772.929500   25161.5835\n",
       "Primary Education    22990.762982   20823.9590\n",
       "Secondary Education  25498.606991   22673.4220\n",
       "Some College         29418.625710   26113.4020"
      ]
     },
     "execution_count": 44,
     "metadata": {},
     "output_type": "execute_result"
    }
   ],
   "source": [
    "# Examina los valores medios y medianos de los ingresos en función de los factores que identificaste\n",
    "\n",
    "total_income_education = data_without_missing.pivot_table(index='education', values='total_income', aggfunc=['mean', 'median'])\n",
    "total_income_education"
   ]
  },
  {
   "cell_type": "code",
   "execution_count": 45,
   "metadata": {},
   "outputs": [
    {
     "data": {
      "text/html": [
       "<div>\n",
       "<style scoped>\n",
       "    .dataframe tbody tr th:only-of-type {\n",
       "        vertical-align: middle;\n",
       "    }\n",
       "\n",
       "    .dataframe tbody tr th {\n",
       "        vertical-align: top;\n",
       "    }\n",
       "\n",
       "    .dataframe thead tr th {\n",
       "        text-align: left;\n",
       "    }\n",
       "\n",
       "    .dataframe thead tr:last-of-type th {\n",
       "        text-align: right;\n",
       "    }\n",
       "</style>\n",
       "<table border=\"1\" class=\"dataframe\">\n",
       "  <thead>\n",
       "    <tr>\n",
       "      <th></th>\n",
       "      <th>mean</th>\n",
       "      <th>median</th>\n",
       "    </tr>\n",
       "    <tr>\n",
       "      <th></th>\n",
       "      <th>total_income</th>\n",
       "      <th>total_income</th>\n",
       "    </tr>\n",
       "    <tr>\n",
       "      <th>income_type</th>\n",
       "      <th></th>\n",
       "      <th></th>\n",
       "    </tr>\n",
       "  </thead>\n",
       "  <tbody>\n",
       "    <tr>\n",
       "      <th>Business</th>\n",
       "      <td>32386.741818</td>\n",
       "      <td>27571.0825</td>\n",
       "    </tr>\n",
       "    <tr>\n",
       "      <th>Civil Servant</th>\n",
       "      <td>27343.729582</td>\n",
       "      <td>24071.6695</td>\n",
       "    </tr>\n",
       "    <tr>\n",
       "      <th>Employee</th>\n",
       "      <td>25820.841683</td>\n",
       "      <td>22815.1035</td>\n",
       "    </tr>\n",
       "    <tr>\n",
       "      <th>Entrepreneur</th>\n",
       "      <td>79866.103000</td>\n",
       "      <td>79866.1030</td>\n",
       "    </tr>\n",
       "    <tr>\n",
       "      <th>Paternity / Maternity Leave</th>\n",
       "      <td>8612.661000</td>\n",
       "      <td>8612.6610</td>\n",
       "    </tr>\n",
       "    <tr>\n",
       "      <th>Student</th>\n",
       "      <td>15712.260000</td>\n",
       "      <td>15712.2600</td>\n",
       "    </tr>\n",
       "  </tbody>\n",
       "</table>\n",
       "</div>"
      ],
      "text/plain": [
       "                                     mean       median\n",
       "                             total_income total_income\n",
       "income_type                                           \n",
       "Business                     32386.741818   27571.0825\n",
       "Civil Servant                27343.729582   24071.6695\n",
       "Employee                     25820.841683   22815.1035\n",
       "Entrepreneur                 79866.103000   79866.1030\n",
       "Paternity / Maternity Leave   8612.661000    8612.6610\n",
       "Student                      15712.260000   15712.2600"
      ]
     },
     "execution_count": 45,
     "metadata": {},
     "output_type": "execute_result"
    }
   ],
   "source": [
    "# Examina los valores medios y medianos de los ingresos en función de los factores que identificaste\n",
    "\n",
    "total_income_for_type = data_without_missing.pivot_table(index='income_type', values='total_income', aggfunc=['mean', 'median'])\n",
    "total_income_for_type "
   ]
  },
  {
   "cell_type": "code",
   "execution_count": 46,
   "metadata": {},
   "outputs": [
    {
     "data": {
      "text/html": [
       "<div>\n",
       "<style scoped>\n",
       "    .dataframe tbody tr th:only-of-type {\n",
       "        vertical-align: middle;\n",
       "    }\n",
       "\n",
       "    .dataframe tbody tr th {\n",
       "        vertical-align: top;\n",
       "    }\n",
       "\n",
       "    .dataframe thead tr th {\n",
       "        text-align: left;\n",
       "    }\n",
       "\n",
       "    .dataframe thead tr:last-of-type th {\n",
       "        text-align: right;\n",
       "    }\n",
       "</style>\n",
       "<table border=\"1\" class=\"dataframe\">\n",
       "  <thead>\n",
       "    <tr>\n",
       "      <th></th>\n",
       "      <th>mean</th>\n",
       "      <th>median</th>\n",
       "    </tr>\n",
       "    <tr>\n",
       "      <th></th>\n",
       "      <th>total_income</th>\n",
       "      <th>total_income</th>\n",
       "    </tr>\n",
       "    <tr>\n",
       "      <th>gender</th>\n",
       "      <th></th>\n",
       "      <th></th>\n",
       "    </tr>\n",
       "  </thead>\n",
       "  <tbody>\n",
       "    <tr>\n",
       "      <th>F</th>\n",
       "      <td>25560.371100</td>\n",
       "      <td>22210.6180</td>\n",
       "    </tr>\n",
       "    <tr>\n",
       "      <th>M</th>\n",
       "      <td>31636.394768</td>\n",
       "      <td>27526.4765</td>\n",
       "    </tr>\n",
       "  </tbody>\n",
       "</table>\n",
       "</div>"
      ],
      "text/plain": [
       "                mean       median\n",
       "        total_income total_income\n",
       "gender                           \n",
       "F       25560.371100   22210.6180\n",
       "M       31636.394768   27526.4765"
      ]
     },
     "execution_count": 46,
     "metadata": {},
     "output_type": "execute_result"
    }
   ],
   "source": [
    "# Examina los valores medios y medianos de los ingresos en función de los factores que identificaste\n",
    "\n",
    "total_income_gender = data_without_missing.pivot_table(index='gender', values='total_income', aggfunc=['mean', 'median'])\n",
    "total_income_gender"
   ]
  },
  {
   "cell_type": "markdown",
   "metadata": {},
   "source": [
    "<div style=\"text-align: justify\">\n",
    "Al examinar la disparidad entre la media y la mediana de total_income en relación a diversos factores, como educación, tipo de ingreso y género, podemos discernir qué medida es más idónea para reemplazar los valores ausentes en total_income. Estas tres categorías se consideraron específicamente debido a su influencia directa en los ingresos individuales, mientras que el estado civil se excluyó ya que no se está evaluando la influencia en los ingresos familiares.\n",
    "</div>"
   ]
  },
  {
   "cell_type": "markdown",
   "metadata": {},
   "source": [
    "<div style=\"text-align: justify\">\n",
    "En la tabla de \"education\", observamos que la diferencia entre la media y la mediana es relativamente pequeña en todas las categorías. En contraste, en la tabla de \"income_type\", vemos que en algunas categorías, como \"Business\" y \"Entrepreneur\", hay una diferencia significativa entre la media y la mediana. En resumen, ambas tablas ofrecen información valiosa sobre la relación entre los factores y los ingresos en \"total_income\". Sin embargo, considerando la diferencia entre la media y la mediana, la tabla de \"income_type\" podría ser más adecuada para rellenar los valores ausentes ya que proporciona una visión más clara de las posibles disparidades salariales y la presencia de valores atípicos dentro de cada categoría de ingreso. En este caso, la mediana podría ser una medida más apropiada para reemplazar los valores ausentes en \"total_income\".\n",
    "</div>"
   ]
  },
  {
   "cell_type": "code",
   "execution_count": 47,
   "metadata": {},
   "outputs": [],
   "source": [
    "#  Escribe una función que usaremos para completar los valores ausentes\n",
    "        \n",
    "income_type_median = data_without_missing.groupby(\"income_type\")[\"total_income\"].median().to_dict()\n",
    "\n",
    "def fill_total_income(row):\n",
    "    if pd.isna(row['total_income']):\n",
    "        income_type = row['income_type']\n",
    "        income = income_type_median.get(income_type)\n",
    "        if income:\n",
    "            return income\n",
    "    return row['total_income']"
   ]
  },
  {
   "cell_type": "code",
   "execution_count": 48,
   "metadata": {},
   "outputs": [
    {
     "data": {
      "text/plain": [
       "27571.0825"
      ]
     },
     "execution_count": 48,
     "metadata": {},
     "output_type": "execute_result"
    }
   ],
   "source": [
    "# Comprueba si funciona\n",
    "\n",
    "row_values = [np.nan, 'Business']\n",
    "row_columns = ['total_income', 'income_type']\n",
    "\n",
    "row = pd.Series(data=row_values, index=row_columns)\n",
    "fill_total_income(row)"
   ]
  },
  {
   "cell_type": "code",
   "execution_count": 49,
   "metadata": {},
   "outputs": [
    {
     "data": {
      "text/plain": [
       "0        40620.102\n",
       "1        17932.802\n",
       "2        23341.752\n",
       "3        42820.568\n",
       "4        25378.572\n",
       "           ...    \n",
       "21448    35966.698\n",
       "21449    24959.969\n",
       "21450    14347.610\n",
       "21451    39054.888\n",
       "21452    13127.587\n",
       "Name: total_income, Length: 21453, dtype: float64"
      ]
     },
     "execution_count": 49,
     "metadata": {},
     "output_type": "execute_result"
    }
   ],
   "source": [
    "# Aplícalo a cada fila\n",
    "\n",
    "data_report['total_income'] = data_report.apply(fill_total_income, axis=1)\n",
    "data_report['total_income']"
   ]
  },
  {
   "cell_type": "code",
   "execution_count": 50,
   "metadata": {},
   "outputs": [
    {
     "data": {
      "text/plain": [
       "386"
      ]
     },
     "execution_count": 50,
     "metadata": {},
     "output_type": "execute_result"
    }
   ],
   "source": [
    "# Comprueba si tenemos algún error\n",
    "\n",
    "data_report['total_income'].isna().sum()"
   ]
  },
  {
   "cell_type": "markdown",
   "metadata": {},
   "source": [
    "<div style=\"text-align: justify\">\n",
    "Después de aplicar la función fill_total_income, aún se encontraron 386 valores ausentes en la columna 'total_income'. Esto indica que no fue posible rellenar esos valores utilizando la mediana según la categoría de ingreso. Al revisar los datos, se observó que en estas filas los valores eran 0.00 en lugar de NaN. Por lo tanto, se decidió convertir manualmente estos valores a NaN para poder proceder con el relleno adecuado. \n",
    "</div>\n",
    "\n",
    "> Vamos a reemplazar los valores ausentes utilizando la mediana de todos los datos disponibles en la columna 'total_income', ahora se cuenta con suficientes datos para obtener una estimación más precisa del nivel de ingresos."
   ]
  },
  {
   "cell_type": "code",
   "execution_count": 51,
   "metadata": {},
   "outputs": [
    {
     "data": {
      "text/plain": [
       "0        40620.102\n",
       "1        17932.802\n",
       "2        23341.752\n",
       "3        42820.568\n",
       "4        25378.572\n",
       "           ...    \n",
       "21448    35966.698\n",
       "21449    24959.969\n",
       "21450    14347.610\n",
       "21451    39054.888\n",
       "21452    13127.587\n",
       "Name: total_income, Length: 21453, dtype: float64"
      ]
     },
     "execution_count": 51,
     "metadata": {},
     "output_type": "execute_result"
    }
   ],
   "source": [
    "# Reemplazar los valores ausentes si hay algún error\n",
    "\n",
    "data_report.loc[data_report['total_income'] <= 0, 'total_income'] = np.nan\n",
    "median_total_income = data_report['total_income'].median()\n",
    "data_report['total_income'] = data_report['total_income'].fillna(median_total_income)\n",
    "data_report['total_income']"
   ]
  },
  {
   "cell_type": "markdown",
   "metadata": {},
   "source": [
    "Vamos a comparar el número de valores en la columna 'total_income' con otras columnas para comprobar si coinciden con el número de valores, podemos utilizar el método count()."
   ]
  },
  {
   "cell_type": "code",
   "execution_count": 52,
   "metadata": {},
   "outputs": [
    {
     "name": "stdout",
     "output_type": "stream",
     "text": [
      "Filas total_income = 21453 Filas income_type = 21453 Filas education = 21453\n"
     ]
    }
   ],
   "source": [
    "# Comprobar el número de entradas en las columnas\n",
    "\n",
    "print(\"Filas total_income =\", data_report[\"total_income\"].count(), \"Filas income_type =\", data_report[\"income_type\"].count(), \"Filas education =\", data_report[\"education\"].count())"
   ]
  },
  {
   "cell_type": "markdown",
   "metadata": {},
   "source": [
    "###  Restaurar valores en `days_employed`"
   ]
  },
  {
   "cell_type": "markdown",
   "metadata": {},
   "source": [
    "<div style=\"text-align: justify\">\n",
    "En este caso he descartado otras categorías, como la educación o el género, debido a que no están directamente relacionadas con la duración del empleo. Si bien estos factores pueden influir en otros aspectos relacionados con el empleo, no son indicativos directos de los días empleados. Por lo tanto, se procederá al estudio del factor más relevante: \"income_type\", vamos a investigar este aspecto para comprender mejor su relación y determinar la manera de reemplazar los valores ausentes.\n",
    "</div>"
   ]
  },
  {
   "cell_type": "code",
   "execution_count": 53,
   "metadata": {
    "pycharm": {
     "name": "#%%\n"
    }
   },
   "outputs": [
    {
     "data": {
      "text/plain": [
       "income_type\n",
       "Business                       2111.470404\n",
       "Civil Servant                  3399.896902\n",
       "Employee                       2326.499216\n",
       "Entrepreneur                    520.848083\n",
       "Paternity / Maternity Leave    3296.759962\n",
       "Student                         578.751554\n",
       "Name: days_employed, dtype: float64"
      ]
     },
     "execution_count": 53,
     "metadata": {},
     "output_type": "execute_result"
    }
   ],
   "source": [
    "# Distribución de las medianas de `days_employed` en función de los parámetros identificados\n",
    "\n",
    "mean_distributions = data_without_missing.groupby(\"income_type\")[\"days_employed\"].mean()\n",
    "mean_distributions"
   ]
  },
  {
   "cell_type": "code",
   "execution_count": 54,
   "metadata": {},
   "outputs": [
    {
     "data": {
      "text/plain": [
       "income_type\n",
       "Business                       1546.333214\n",
       "Civil Servant                  2689.368353\n",
       "Employee                       1574.202821\n",
       "Entrepreneur                    520.848083\n",
       "Paternity / Maternity Leave    3296.759962\n",
       "Student                         578.751554\n",
       "Name: days_employed, dtype: float64"
      ]
     },
     "execution_count": 54,
     "metadata": {},
     "output_type": "execute_result"
    }
   ],
   "source": [
    "# Distribución de las medias de `days_employed` en función de los parámetros identificados\n",
    "\n",
    "median_distributions = data_without_missing.groupby(\"income_type\")[\"days_employed\"].median()\n",
    "median_distributions"
   ]
  },
  {
   "cell_type": "markdown",
   "metadata": {},
   "source": [
    "<div style=\"text-align: justify\">\n",
    "Según los datos proporcionados, la media y la mediana de la columna \"days_employed\" difieren en varias categorías de ingresos. En la categoría \"Business\", la media es de 2111.47 días mientras que la mediana es de 1546.33 días. Esto indica que la distribución de los datos puede estar sesgada hacia valores más altos, ya que la media es mayor que la mediana, lo mismo sucede en las categorías : \"Civil Servant\" y \"Employee\". En las categorías restantes, tanto la media como la mediana son similares, lo que sugiere una distribución más simétrica y menos afectada por valores atípicos.\n",
    "</div>\n",
    "\n",
    "> Por lo tanto dado que en algunas categorías hay una diferencia notable entre la media y la mediana, se procederá a utilizar la mediana para rellenar los valores ausentes en la columna \"days_employed\"."
   ]
  },
  {
   "cell_type": "code",
   "execution_count": 55,
   "metadata": {},
   "outputs": [],
   "source": [
    "# Escribamos una función que calcule medias o medianas (dependiendo de tu decisión) según el parámetro identificado\n",
    "\n",
    "days_employed_median = median_distributions.to_dict()\n",
    "\n",
    "def fill_days_employed(row):\n",
    "    if pd.isna(row['days_employed']):\n",
    "        income_type = row['income_type']\n",
    "        income = days_employed_median.get(income_type)\n",
    "        if income:\n",
    "            return income\n",
    "    return row['days_employed']"
   ]
  },
  {
   "cell_type": "code",
   "execution_count": 56,
   "metadata": {},
   "outputs": [
    {
     "data": {
      "text/plain": [
       "1574.2028211070854"
      ]
     },
     "execution_count": 56,
     "metadata": {},
     "output_type": "execute_result"
    }
   ],
   "source": [
    "# Comprueba que la función funciona\n",
    "\n",
    "row_values = [np.nan, 'Employee']\n",
    "row_columns = ['days_employed', 'income_type']\n",
    "\n",
    "row = pd.Series(data=row_values, index=row_columns)\n",
    "fill_days_employed (row)"
   ]
  },
  {
   "cell_type": "code",
   "execution_count": 57,
   "metadata": {},
   "outputs": [
    {
     "data": {
      "text/plain": [
       "0        8437.673028\n",
       "1        4024.803754\n",
       "2        5623.422610\n",
       "3        4124.747207\n",
       "4                NaN\n",
       "            ...     \n",
       "21448    4529.316663\n",
       "21449            NaN\n",
       "21450    2113.346888\n",
       "21451    3112.481705\n",
       "21452    1984.507589\n",
       "Name: days_employed, Length: 21453, dtype: float64"
      ]
     },
     "execution_count": 57,
     "metadata": {},
     "output_type": "execute_result"
    }
   ],
   "source": [
    "# Aplicar la función al income_type\n",
    "\n",
    "data_report['days_employed'] = data_report.apply(fill_days_employed, axis=1)\n",
    "data_report['days_employed']"
   ]
  },
  {
   "cell_type": "code",
   "execution_count": 58,
   "metadata": {},
   "outputs": [
    {
     "data": {
      "text/plain": [
       "3831"
      ]
     },
     "execution_count": 58,
     "metadata": {},
     "output_type": "execute_result"
    }
   ],
   "source": [
    "# Comprueba si la función funcionó\n",
    "\n",
    "data_report['days_employed'].isna().sum()"
   ]
  },
  {
   "cell_type": "code",
   "execution_count": 59,
   "metadata": {},
   "outputs": [
    {
     "data": {
      "text/plain": [
       "0        8437.673028\n",
       "1        4024.803754\n",
       "2        5623.422610\n",
       "3        4124.747207\n",
       "4        1645.263765\n",
       "            ...     \n",
       "21448    4529.316663\n",
       "21449    2300.843888\n",
       "21450    2113.346888\n",
       "21451    3112.481705\n",
       "21452    1984.507589\n",
       "Name: days_employed, Length: 21453, dtype: float64"
      ]
     },
     "execution_count": 59,
     "metadata": {},
     "output_type": "execute_result"
    }
   ],
   "source": [
    "# Reemplazar valores ausentes\n",
    "\n",
    "data_report['days_employed'] = data_report.groupby(\"age_category\")['days_employed'].transform(lambda x: x.fillna(x.median()))\n",
    "data_report['days_employed']"
   ]
  },
  {
   "cell_type": "markdown",
   "metadata": {},
   "source": [
    "<div style=\"text-align: justify\">\n",
    "Inicialmente, al considerar cómo reemplazar los valores ausentes en la columna \"days_employed\", identificamos que el factor más adecuado para hacerlo era \"income_type\". Sin embargo, posteriormente descubrimos que las categorías \"retiree\" y \"unemployed\" no disponían de datos que pudiéramos utilizar para asignar a las filas correspondientes en \"days_employed\". Con el objetivo de mantener la coherencia y la integridad de nuestro conjunto de datos, decidimos recurrir a una alternativa consistente. Por tanto, optamos por utilizar la mediana por \"age_category\" como una opción válida para rellenar los valores ausentes. \n",
    "</div>"
   ]
  },
  {
   "cell_type": "code",
   "execution_count": 60,
   "metadata": {},
   "outputs": [
    {
     "name": "stdout",
     "output_type": "stream",
     "text": [
      "Filas days_employed = 21453 Filas income_type = 21453 Filas education = 21453\n"
     ]
    }
   ],
   "source": [
    "# Comprueba las entradas en todas las columnas: asegúrate de que hayamos corregido todos los valores ausentes\n",
    "\n",
    "print(\"Filas days_employed =\", data_report[\"days_employed\"].count(), \"Filas income_type =\", data_report[\"income_type\"].count(), \"Filas education =\", data_report[\"education\"].count())"
   ]
  },
  {
   "cell_type": "markdown",
   "metadata": {},
   "source": [
    "## Clasificación de datos"
   ]
  },
  {
   "cell_type": "markdown",
   "metadata": {},
   "source": [
    "<div style=\"text-align: justify\">\n",
    "Para sustentar las hipótesis planteadas al inicio del Proyecto, se han seleccionado categorías que se considera que tienen una influencia directa en la comprobación de dichas hipótesis. Las categorías seleccionadas para su análisis son: \"children\" (tener hijos), \"family_status\" (situación familiar), \"total_income\" (ingreso total), \"purpose\" (propósito del crédito) y \"debt\" (deuda), esta última será utilizada para calcular la tasa de cumplimiento de pagos. El análisis de estas categorías nos permitirá evaluar la correlación entre estos factores y los pagos oportunos.\n",
    "</div>"
   ]
  },
  {
   "cell_type": "code",
   "execution_count": 61,
   "metadata": {
    "scrolled": false
   },
   "outputs": [
    {
     "data": {
      "text/html": [
       "<div>\n",
       "<style scoped>\n",
       "    .dataframe tbody tr th:only-of-type {\n",
       "        vertical-align: middle;\n",
       "    }\n",
       "\n",
       "    .dataframe tbody tr th {\n",
       "        vertical-align: top;\n",
       "    }\n",
       "\n",
       "    .dataframe thead th {\n",
       "        text-align: right;\n",
       "    }\n",
       "</style>\n",
       "<table border=\"1\" class=\"dataframe\">\n",
       "  <thead>\n",
       "    <tr style=\"text-align: right;\">\n",
       "      <th></th>\n",
       "      <th>children</th>\n",
       "      <th>family_status</th>\n",
       "      <th>total_income</th>\n",
       "      <th>purpose</th>\n",
       "      <th>debt</th>\n",
       "    </tr>\n",
       "  </thead>\n",
       "  <tbody>\n",
       "    <tr>\n",
       "      <th>0</th>\n",
       "      <td>1</td>\n",
       "      <td>Married</td>\n",
       "      <td>40620.102</td>\n",
       "      <td>purchase of the house</td>\n",
       "      <td>0</td>\n",
       "    </tr>\n",
       "    <tr>\n",
       "      <th>1</th>\n",
       "      <td>1</td>\n",
       "      <td>Married</td>\n",
       "      <td>17932.802</td>\n",
       "      <td>car purchase</td>\n",
       "      <td>0</td>\n",
       "    </tr>\n",
       "    <tr>\n",
       "      <th>2</th>\n",
       "      <td>0</td>\n",
       "      <td>Married</td>\n",
       "      <td>23341.752</td>\n",
       "      <td>purchase of the house</td>\n",
       "      <td>0</td>\n",
       "    </tr>\n",
       "    <tr>\n",
       "      <th>3</th>\n",
       "      <td>3</td>\n",
       "      <td>Married</td>\n",
       "      <td>42820.568</td>\n",
       "      <td>supplementary education</td>\n",
       "      <td>0</td>\n",
       "    </tr>\n",
       "    <tr>\n",
       "      <th>4</th>\n",
       "      <td>0</td>\n",
       "      <td>Civil Partnership</td>\n",
       "      <td>25378.572</td>\n",
       "      <td>to have a wedding</td>\n",
       "      <td>0</td>\n",
       "    </tr>\n",
       "    <tr>\n",
       "      <th>...</th>\n",
       "      <td>...</td>\n",
       "      <td>...</td>\n",
       "      <td>...</td>\n",
       "      <td>...</td>\n",
       "      <td>...</td>\n",
       "    </tr>\n",
       "    <tr>\n",
       "      <th>21448</th>\n",
       "      <td>1</td>\n",
       "      <td>Civil Partnership</td>\n",
       "      <td>35966.698</td>\n",
       "      <td>housing transactions</td>\n",
       "      <td>0</td>\n",
       "    </tr>\n",
       "    <tr>\n",
       "      <th>21449</th>\n",
       "      <td>0</td>\n",
       "      <td>Married</td>\n",
       "      <td>24959.969</td>\n",
       "      <td>purchase of a car</td>\n",
       "      <td>0</td>\n",
       "    </tr>\n",
       "    <tr>\n",
       "      <th>21450</th>\n",
       "      <td>1</td>\n",
       "      <td>Civil Partnership</td>\n",
       "      <td>14347.610</td>\n",
       "      <td>property</td>\n",
       "      <td>1</td>\n",
       "    </tr>\n",
       "    <tr>\n",
       "      <th>21451</th>\n",
       "      <td>3</td>\n",
       "      <td>Married</td>\n",
       "      <td>39054.888</td>\n",
       "      <td>buying my own car</td>\n",
       "      <td>1</td>\n",
       "    </tr>\n",
       "    <tr>\n",
       "      <th>21452</th>\n",
       "      <td>2</td>\n",
       "      <td>Married</td>\n",
       "      <td>13127.587</td>\n",
       "      <td>to buy a car</td>\n",
       "      <td>0</td>\n",
       "    </tr>\n",
       "  </tbody>\n",
       "</table>\n",
       "<p>21453 rows × 5 columns</p>\n",
       "</div>"
      ],
      "text/plain": [
       "       children      family_status  total_income                  purpose  \\\n",
       "0             1            Married     40620.102    purchase of the house   \n",
       "1             1            Married     17932.802             car purchase   \n",
       "2             0            Married     23341.752    purchase of the house   \n",
       "3             3            Married     42820.568  supplementary education   \n",
       "4             0  Civil Partnership     25378.572        to have a wedding   \n",
       "...         ...                ...           ...                      ...   \n",
       "21448         1  Civil Partnership     35966.698     housing transactions   \n",
       "21449         0            Married     24959.969        purchase of a car   \n",
       "21450         1  Civil Partnership     14347.610                 property   \n",
       "21451         3            Married     39054.888        buying my own car   \n",
       "21452         2            Married     13127.587             to buy a car   \n",
       "\n",
       "       debt  \n",
       "0         0  \n",
       "1         0  \n",
       "2         0  \n",
       "3         0  \n",
       "4         0  \n",
       "...     ...  \n",
       "21448     0  \n",
       "21449     0  \n",
       "21450     1  \n",
       "21451     1  \n",
       "21452     0  \n",
       "\n",
       "[21453 rows x 5 columns]"
      ]
     },
     "execution_count": 61,
     "metadata": {},
     "output_type": "execute_result"
    }
   ],
   "source": [
    "# Muestra los valores de los datos seleccionados para la clasificación\n",
    "\n",
    "selected_data = data_report.loc[:, ['children', 'family_status', 'total_income', 'purpose', 'debt']]\n",
    "selected_data"
   ]
  },
  {
   "cell_type": "markdown",
   "metadata": {},
   "source": [
    "Vamos a revisar los valores únicos de cada categoría seleccionada para decidir de que manera clasificar sus datos."
   ]
  },
  {
   "cell_type": "code",
   "execution_count": 62,
   "metadata": {},
   "outputs": [
    {
     "name": "stdout",
     "output_type": "stream",
     "text": [
      "Valores únicos de children: [1 0 3 2 4 5]\n",
      "\n",
      "Valores únicos de family_status: ['Married' 'Civil Partnership' 'Widow / Widower' 'Divorced' 'Unmarried']\n",
      "\n",
      "Valores únicos de total_income: [40620.102 17932.802 23341.752 ... 14347.61  39054.888 13127.587]\n",
      "\n",
      "Valores únicos de purpose: ['purchase of the house' 'car purchase' 'supplementary education'\n",
      " 'to have a wedding' 'housing transactions' 'education' 'having a wedding'\n",
      " 'purchase of the house for my family' 'buy real estate'\n",
      " 'buy commercial real estate' 'buy residential real estate'\n",
      " 'construction of own property' 'property' 'building a property'\n",
      " 'buying a second-hand car' 'buying my own car'\n",
      " 'transactions with commercial real estate' 'building a real estate'\n",
      " 'housing' 'transactions with my real estate' 'cars' 'to become educated'\n",
      " 'second-hand car purchase' 'getting an education' 'car'\n",
      " 'wedding ceremony' 'to get a supplementary education'\n",
      " 'purchase of my own house' 'real estate transactions'\n",
      " 'getting higher education' 'to own a car' 'purchase of a car'\n",
      " 'profile education' 'university education'\n",
      " 'buying property for renting out' 'to buy a car' 'housing renovation'\n",
      " 'going to university']\n",
      "\n",
      "Valores únicos de debt: [0 1]\n"
     ]
    }
   ],
   "source": [
    "# Comprobar los valores únicos\n",
    "\n",
    "print (\"Valores únicos de children:\" , data_report[\"children\"].unique())\n",
    "print ()\n",
    "print (\"Valores únicos de family_status:\" , data_report[\"family_status\"].unique())\n",
    "print ()\n",
    "print (\"Valores únicos de total_income:\" , data_report[\"total_income\"].unique())\n",
    "print ()\n",
    "print (\"Valores únicos de purpose:\" , data_report[\"purpose\"].unique())\n",
    "print ()\n",
    "print (\"Valores únicos de debt:\" , data_report[\"debt\"].unique())   "
   ]
  },
  {
   "cell_type": "markdown",
   "metadata": {},
   "source": [
    "Los grupos principales identificados en función de los valores únicos son:\n",
    "\n",
    "- \"children\": Categorías que indican la cantidad de hijos.\n",
    "- \"family_status\": Diferentes estados civiles.\n",
    "- \"total_income\": Diferentes niveles de ingresos.\n",
    "- \"purpose\": Diferentes propósitos de los créditos.\n",
    "- \"debt\": Presencia o ausencia de deuda.\n",
    "\n",
    "Vamos a proceder a clasificar en subcategorias estos grupos a fin de facilitar nuestro análisis."
   ]
  },
  {
   "cell_type": "code",
   "execution_count": 63,
   "metadata": {},
   "outputs": [],
   "source": [
    "# Escribamos una función para clasificar los datos en función de temas comunes en la columna purpose\n",
    "\n",
    "def classify_purpose(purpose):\n",
    "    housing_keywords = ['house', 'property', 'housing', 'own property']\n",
    "    vehicles_keywords = ['car']\n",
    "    education_keywords = ['education', 'educated', 'university']\n",
    "    wedding_keywords = ['wedding']\n",
    "    business_keywords = ['real estate', 'renting out']\n",
    "    \n",
    "    if any(keyword in purpose for keyword in housing_keywords):\n",
    "        return 'Housing'\n",
    "    elif any(keyword in purpose for keyword in vehicles_keywords):\n",
    "        return 'Vehicles'\n",
    "    elif any(keyword in purpose for keyword in education_keywords):\n",
    "        return 'Education'\n",
    "    elif any(keyword in purpose for keyword in wedding_keywords):\n",
    "        return 'Wedding'\n",
    "    elif any(keyword in purpose for keyword in business_keywords):\n",
    "        return 'Business'\n",
    "    else:\n",
    "        return 'Other'"
   ]
  },
  {
   "cell_type": "code",
   "execution_count": 64,
   "metadata": {},
   "outputs": [
    {
     "data": {
      "text/plain": [
       "Housing      6347\n",
       "Business     4463\n",
       "Vehicles     4306\n",
       "Education    4013\n",
       "Wedding      2324\n",
       "Name: purpose_category, dtype: int64"
      ]
     },
     "execution_count": 64,
     "metadata": {},
     "output_type": "execute_result"
    }
   ],
   "source": [
    "# Crea una columna con las categorías y cuenta los valores en ellas\n",
    "\n",
    "data_report['purpose_category'] = data_report['purpose'].apply(classify_purpose)\n",
    "data_report['purpose_category'].value_counts()"
   ]
  },
  {
   "cell_type": "markdown",
   "metadata": {},
   "source": [
    "Ahora vamos a revisar los datos de las columnas numéricas seleccionadas \"total_income\" para clasificarlas en subcategorias de ingresos. "
   ]
  },
  {
   "cell_type": "code",
   "execution_count": 65,
   "metadata": {},
   "outputs": [
    {
     "data": {
      "text/plain": [
       "0    40620.102\n",
       "1    17932.802\n",
       "2    23341.752\n",
       "3    42820.568\n",
       "4    25378.572\n",
       "5    40922.170\n",
       "6    38484.156\n",
       "7    21731.829\n",
       "8    15337.093\n",
       "9    23108.150\n",
       "Name: total_income, dtype: float64"
      ]
     },
     "execution_count": 65,
     "metadata": {},
     "output_type": "execute_result"
    }
   ],
   "source": [
    "# Revisar todos los datos numéricos en la columna seleccionada para la clasificación\n",
    "\n",
    "data_report[\"total_income\"].head(10)"
   ]
  },
  {
   "cell_type": "code",
   "execution_count": 66,
   "metadata": {},
   "outputs": [
    {
     "data": {
      "text/plain": [
       "count     21453.00000\n",
       "mean      26521.86431\n",
       "std       15685.14033\n",
       "min        3306.76200\n",
       "25%       17219.35200\n",
       "50%       22912.98800\n",
       "75%       31331.00900\n",
       "max      362496.64500\n",
       "Name: total_income, dtype: float64"
      ]
     },
     "execution_count": 66,
     "metadata": {},
     "output_type": "execute_result"
    }
   ],
   "source": [
    "# Obtener estadísticas resumidas para la columna\n",
    "\n",
    "data_report[\"total_income\"].describe()"
   ]
  },
  {
   "cell_type": "markdown",
   "metadata": {},
   "source": [
    "<div style=\"text-align: justify\">\n",
    "Para distribuir los valores de ingresos en tres categorías (Ingresos bajos, Ingresos medios e Ingresos altos), se utilizaron los percentiles como referencia. Basándonos en los valores proporcionados, se realizó la siguiente clasificación:\n",
    "</div>\n",
    "\n",
    "    - Ingresos bajos: Valores hasta el percentil 25% (17219.35200)\n",
    "    - Ingresos medios: Valores entre el percentil 25% (17219.35200) y el percentil 75% (31331.00900)\n",
    "    - Ingresos altos: Valores a partir del percentil 75% (31331.00900) hasta el valor máximo (362496.64500)\n",
    "\n",
    "<div style=\"text-align: justify\">\n",
    "Esta distribución se basa en dividir los datos en tercios aproximadamente iguales, asignando el nivel bajo al tercio inferior, el nivel medio al tercio intermedio y el nivel alto al tercio superior de los valores. Esta clasificación nos permitirá analizar las diferencias en los pagos a tiempo en función de los niveles de ingresos de los individuos.\n",
    "</div>"
   ]
  },
  {
   "cell_type": "code",
   "execution_count": 67,
   "metadata": {},
   "outputs": [],
   "source": [
    "# Crear una función para clasificar en diferentes grupos numéricos basándose en rangos\n",
    "\n",
    "def classify_income(income):\n",
    "    if income <= 17219.35200:\n",
    "        return \"Ingresos bajos\"\n",
    "    elif income <= 31331.00900:\n",
    "        return \"Ingresos medios\"\n",
    "    else:\n",
    "        return \"Ingresos altos\""
   ]
  },
  {
   "cell_type": "code",
   "execution_count": 68,
   "metadata": {},
   "outputs": [
    {
     "data": {
      "text/plain": [
       "0         Ingresos altos\n",
       "1        Ingresos medios\n",
       "2        Ingresos medios\n",
       "3         Ingresos altos\n",
       "4        Ingresos medios\n",
       "              ...       \n",
       "21448     Ingresos altos\n",
       "21449    Ingresos medios\n",
       "21450     Ingresos bajos\n",
       "21451     Ingresos altos\n",
       "21452     Ingresos bajos\n",
       "Name: income_category, Length: 21453, dtype: object"
      ]
     },
     "execution_count": 68,
     "metadata": {},
     "output_type": "execute_result"
    }
   ],
   "source": [
    "# Crear una columna con categorías\n",
    "\n",
    "data_report['income_category'] = data_report['total_income'].apply(classify_income)\n",
    "data_report['income_category']"
   ]
  },
  {
   "cell_type": "code",
   "execution_count": 69,
   "metadata": {
    "scrolled": true
   },
   "outputs": [
    {
     "data": {
      "text/plain": [
       "Ingresos medios    10726\n",
       "Ingresos bajos      5364\n",
       "Ingresos altos      5363\n",
       "Name: income_category, dtype: int64"
      ]
     },
     "execution_count": 69,
     "metadata": {},
     "output_type": "execute_result"
    }
   ],
   "source": [
    "# Contar los valores de cada categoría para ver la distribución\n",
    "\n",
    "data_report['income_category'].value_counts()"
   ]
  },
  {
   "cell_type": "markdown",
   "metadata": {},
   "source": [
    "## Comprobación de las hipótesis\n"
   ]
  },
  {
   "cell_type": "markdown",
   "metadata": {},
   "source": [
    "**¿Existe una correlación entre tener hijos y pagar a tiempo?**"
   ]
  },
  {
   "cell_type": "code",
   "execution_count": 70,
   "metadata": {},
   "outputs": [
    {
     "name": "stdout",
     "output_type": "stream",
     "text": [
      "Total clientes: 21453\n",
      "Total clientes deudores: 1741\n",
      "Deudores con hijos: 677\n",
      "Deudores sin hijos: 1064\n",
      "\n",
      "Tasa de incumplimiento según:  children\n",
      "0    61.11%\n",
      "1    25.50%\n",
      "2    11.60%\n",
      "3     1.55%\n",
      "4     0.23%\n",
      "dtype: object\n"
     ]
    }
   ],
   "source": [
    "# Comprueba los datos sobre los hijos y los pagos puntuales\n",
    "\n",
    "total_clients = len (data_report[\"debt\"])\n",
    "total_debtors = data_report [\"debt\"].loc[data_report[\"debt\"]==1].size\n",
    "print (\"Total clientes:\", total_clients)\n",
    "print (\"Total clientes deudores:\", total_debtors)\n",
    "print (\"Deudores con hijos:\", len (data_report.loc[(data_report[\"debt\"] == 1) & (data_report[\"children\"] > 0)]))\n",
    "print (\"Deudores sin hijos:\", len (data_report.loc[(data_report[\"debt\"] == 1) & (data_report[\"children\"] == 0)]))\n",
    "print ()\n",
    "\n",
    "# Calcular la tasa de incumplimiento en función del número de hijos\n",
    "\n",
    "debt_by_children = data_report[data_report['debt'] == 1].groupby('children').size()\n",
    "default_rate_children = debt_by_children / total_debtors * 100\n",
    "print(\"Tasa de incumplimiento según: \", default_rate_children.apply(lambda x: \"{:.2f}%\".format(x)))"
   ]
  },
  {
   "cell_type": "markdown",
   "metadata": {},
   "source": [
    "**Conclusión**\n",
    "\n",
    "Analizando la información obtenida del conjunto de datos, podemos explorar la posible correlación entre tener hijos y pagar a tiempo. Con un total de 21,453 registros de clientes, se identificaron 1,741 clientes con deudas. De estos deudores, el 39.04% tenía hijos, mientras que el 60.96% no tenía hijos.\n",
    "\n",
    "\n",
    ">Al examinar la tasa de incumplimiento según el número de hijos, se observa una tendencia interesante. Aquellos clientes sin hijos presentaron una tasa de incumplimiento del 61.11%, mientras que aquellos con un hijo tuvieron una tasa de incumplimiento del 25.50%. La tasa de incumplimiento disminuyó aún más para aquellos con más de dos hijos, llegando a la tasa más baja, con un valor del 0.23%.\n",
    "\n",
    "\n",
    "Estos resultados indican que existe una posible correlación inversa entre tener hijos y pagar a tiempo. A medida que aumenta el número de hijos, la tasa de incumplimiento tiende a disminuir. "
   ]
  },
  {
   "cell_type": "markdown",
   "metadata": {},
   "source": [
    "**¿Existe una correlación entre la situación familiar y el pago a tiempo?**"
   ]
  },
  {
   "cell_type": "code",
   "execution_count": 71,
   "metadata": {},
   "outputs": [
    {
     "name": "stdout",
     "output_type": "stream",
     "text": [
      "Total clientes: 21453\n",
      "Total clientes deudores: 1741\n",
      "\n",
      "Tasa de incumplimiento según:  family_status\n",
      "Civil Partnership    22.29%\n",
      "Divorced              4.88%\n",
      "Married              53.48%\n",
      "Unmarried            15.74%\n",
      "Widow / Widower       3.62%\n",
      "dtype: object\n"
     ]
    }
   ],
   "source": [
    "# Comprueba los datos del estado familiar y los pagos a tiempo\n",
    "\n",
    "debt_by_family_status = data_report[data_report['debt'] == 1].groupby('family_status').size()\n",
    "print (\"Total clientes:\", total_clients)\n",
    "print (\"Total clientes deudores:\", total_debtors)\n",
    "print ()\n",
    "\n",
    "# Calcular la tasa de incumplimiento basada en el estado familiar\n",
    "\n",
    "default_rate_family_status = debt_by_family_status / total_debtors * 100\n",
    "print(\"Tasa de incumplimiento según: \" , default_rate_family_status.apply(lambda x: \"{:.2f}%\".format(x)))"
   ]
  },
  {
   "cell_type": "markdown",
   "metadata": {},
   "source": [
    "**Conclusión**\n",
    "\n",
    "Basado en los resultados del análisis de datos, se examinó la relación entre la situación familiar y el pago a tiempo. Del total de 21,453 clientes, se identificó que 1,741 clientes tenían deudas pendientes. Al observar la tasa de incumplimiento según la situación familiar, se encontró lo siguiente:\n",
    "\n",
    "Entre los clientes dentro de un compromiso suman alrededor del 75% del total de la categoria deudas pendientes: \n",
    "\n",
    "- Los clientes casados tuvieron la tasa de incumplimiento más alta con un **53.48%**.\n",
    "- Seguido por aquellos en una unión civil, con un **22.29%** en la misma categoría.\n",
    "\n",
    "Clientes considerados sin compromiso conforman el 25% restante del total de la categoria deudas pendientes: \n",
    "\n",
    "- Aquí son los clientes solteros quienes presentaron la tasa más alta dentro de este grupo con un **15.74%**.\n",
    "- Con un decrecimiento sustancial, encontramos a los clientes divorciados con una tasa del **4.88%**.\n",
    "- Los clientes viudos tuvieron una tasa de incumplimiento de únicamente el **3.62%**.\n",
    "\n",
    "Estos resultados sugieren que existe una correlación entre la situación familiar y el pago a tiempo, donde los clientes casados y aquellos en una unión civil parecen ser más propensos a tener deudas pendientes en comparación con los clientes divorciados, solteros y viudos. En todo caso para una análisis mas exacto podriamos revisar cuanto es la proporcion de clientes en estas categorías en el conjunto total de registros."
   ]
  },
  {
   "cell_type": "markdown",
   "metadata": {},
   "source": [
    "**¿Existe una correlación entre el nivel de ingresos y el pago a tiempo?**"
   ]
  },
  {
   "cell_type": "code",
   "execution_count": 72,
   "metadata": {},
   "outputs": [
    {
     "name": "stdout",
     "output_type": "stream",
     "text": [
      "Total clientes: 21453\n",
      "Total clientes deudores: 1741\n",
      "\n",
      "Tasa de incumplimiento según:  income_category\n",
      "Ingresos altos     22.00%\n",
      "Ingresos bajos     24.53%\n",
      "Ingresos medios    53.48%\n",
      "dtype: object\n"
     ]
    }
   ],
   "source": [
    "# Comprueba los datos del nivel de ingresos y los pagos a tiempo\n",
    "\n",
    "debt_by_income_category = data_report[data_report['debt'] == 1].groupby('income_category').size()\n",
    "print (\"Total clientes:\", total_clients)\n",
    "print (\"Total clientes deudores:\", total_debtors)\n",
    "print ()\n",
    "\n",
    "# Calcular la tasa de incumplimiento basada en el nivel de ingresos\n",
    "\n",
    "default_rate_income = debt_by_income_category / total_debtors * 100\n",
    "print(\"Tasa de incumplimiento según: \" , default_rate_income.apply(lambda x: \"{:.2f}%\".format(x)))"
   ]
  },
  {
   "cell_type": "markdown",
   "metadata": {},
   "source": [
    "**Conclusión**\n",
    "<div style=\"text-align: justify\">\n",
    "Durante el análisis de crédito, se evaluó la posible correlación entre el nivel de ingresos y el pago a tiempo de los clientes. Con base en los resultados obtenidos, se observaron diferencias significativas en la tasa de incumplimiento según la categoría de ingresos.\n",
    "</div>\n",
    "\n",
    "- En primer lugar, se identificó que los clientes con ingresos medios presentaron la tasa de incumplimiento más alta, con un preocupante 53.48%. Esto indica que existe una propensión significativa de este grupo a no cumplir con sus pagos de manera puntual. Es importante resaltar que estos los grupos de ingresos medios y bajos representan una preocupación destacada en términos de riesgo crediticio.\n",
    "\n",
    "<div style=\"text-align: justify\"> \n",
    "Estos hallazgos indican la existencia de una relación entre el nivel de ingresos y la puntualidad en los pagos. Sin embargo, es fundamental considerar otros factores que pueden influir en esta relación y afectar la capacidad de pago de los clientes\n",
    "</div>"
   ]
  },
  {
   "cell_type": "markdown",
   "metadata": {},
   "source": [
    "**¿Cómo afecta el propósito del crédito a la tasa de incumplimiento?**"
   ]
  },
  {
   "cell_type": "code",
   "execution_count": 73,
   "metadata": {},
   "outputs": [
    {
     "name": "stdout",
     "output_type": "stream",
     "text": [
      "Total de clientes: 21453\n",
      "Total de clientes deudores: 1741\n",
      "\n",
      "Tasa de incumplimiento según:  purpose_category\n",
      "Business     19.30%\n",
      "Education    21.25%\n",
      "Housing      25.62%\n",
      "Vehicles     23.15%\n",
      "Wedding      10.68%\n",
      "dtype: object\n"
     ]
    }
   ],
   "source": [
    "# Consulta los porcentajes de tasa de incumplimiento para cada propósito del crédito\n",
    "\n",
    "print(\"Total de clientes:\", total_clients)\n",
    "print(\"Total de clientes deudores:\", total_debtors)\n",
    "print()\n",
    "debt_by_purpose_credit = data_report[data_report['debt'] == 1].groupby('purpose_category').size()\n",
    "\n",
    "# Calcular la tasa de incumplimiento basada en el propósito del crédito\n",
    "\n",
    "default_rate_purpose = debt_by_purpose_credit / total_debtors * 100\n",
    "print(\"Tasa de incumplimiento según: \" , default_rate_purpose.apply(lambda x: \"{:.2f}%\".format(x)))"
   ]
  },
  {
   "cell_type": "markdown",
   "metadata": {},
   "source": [
    "**Conclusión**\n",
    "\n",
    "El propósito del crédito tiene un impacto significativo en la tasa de incumplimiento de los pagos. Al analizar diferentes categorías de propósito, encontramos que los préstamos destinados a \"Housing\" (vivienda) presentan la tasa de incumplimiento más alta, con un 25.62%. Esto puede deberse a los compromisos financieros considerables y a largo plazo asociados con la adquisición o mantenimiento de una vivienda.\n",
    "\n",
    "Por otro lado, los préstamos para \"Wedding\" (bodas) muestran la tasa de incumplimiento más baja, con un 10.68%. Este resultado podría explicarse por la importancia personal y emocional de las bodas, lo que podría motivar a los prestatarios a hacer un mayor esfuerzo para cumplir con sus pagos y evitar el incumplimiento."
   ]
  },
  {
   "cell_type": "markdown",
   "metadata": {},
   "source": [
    "# Conclusión general \n",
    "\n",
    "Este análisis de crédito nos permitió obtener información valiosa sobre el comportamiento de los clientes en relación con el pago de sus préstamos. Durante el proceso de análisis, enfrentamos desafíos comunes en la limpieza y preparación de los datos, incluyendo valores ausentes, duplicados y artefactos problemáticos.\n",
    "\n",
    "Uno de los desafíos más comunes fue lidiar con los valores ausentes en diferentes variables. Implementamos estrategias para reemplazar los valores faltantes de manera adecuada, utilizando medianas condicionales basadas en diferentes categorías, como el tipo de ingreso y la categoría de edad. Esto nos permitió mantener la integridad de los datos y obtener resultados más precisos en nuestros análisis.\n",
    "\n",
    "Otro desafío fue la detección y manejo de duplicados en el conjunto de datos. Utilizamos métodos como la función duplicated() para identificar y eliminar duplicados, asegurando así que nuestros análisis se realizaran en datos únicos y evitando distorsiones en los resultados.\n",
    "\n",
    "Además, encontramos artefactos problemáticos en los datos, como valores atípicos o incoherentes. Estos artefactos pueden afectar negativamente nuestros análisis y conclusiones. Implementamos técnicas de detección de valores atípicos y evaluamos su impacto en nuestros resultados. En algunos casos, realizamos ajustes o eliminamos los datos problemáticos para obtener una imagen más precisa y confiable.\n",
    "\n",
    "En resumen, al abordar los desafíos de valores ausentes, duplicados y artefactos problemáticos, pudimos procesar y analizar los datos de manera efectiva. Esto nos permitió obtener conclusiones relevantes sobre la correlación entre variables como tener hijos, situación familiar, nivel de ingresos y propósito del crédito con el pago puntual. Estas conclusiones son fundamentales para comprender los factores que influyen en el cumplimiento de los préstamos y pueden ser utilizadas para tomar decisiones informadas en el análisis de riesgo crediticio.\n",
    "\n",
    ">En base a las preguntas planteadas y el análisis realizado, podemos extraer las siguientes conclusiones:\n",
    "\n",
    "- Existe una correlación entre tener hijos y el pago a tiempo. Según los datos, se observa que la tasa de incumplimiento disminuye a medida que aumenta el número de hijos. Los clientes sin hijos presentan una tasa de incumplimiento del 4.96%, mientras que aquellos con un hijo tienen una tasa del 2.07%, y aquellos con dos o más hijos presentan tasas aún más bajas. Esto sugiere que tener hijos puede influir positivamente en el pago puntual de los préstamos.\n",
    "\n",
    "- Existe una correlación entre la situación familiar y el pago a tiempo. Los datos muestran que el estado civil de los clientes está relacionado con la tasa de incumplimiento. Los clientes casados tienen la tasa más alta de incumplimiento, con un 4.34%, seguidos por los clientes solteros, con una tasa del 1.28%. Los clientes en una asociación civil, divorciados y viudos tienen tasas de incumplimiento aún más bajas. Esto indica que la situación familiar puede ser un factor importante a considerar en la evaluación del riesgo crediticio.\n",
    "\n",
    "- Existe una correlación entre el nivel de ingresos y el pago a tiempo. El análisis revela que los clientes con ingresos más altos presentan una tasa de incumplimiento más baja en comparación con aquellos con ingresos bajos o medios. Los clientes con ingresos altos tienen una tasa de incumplimiento del 22.00%, mientras que aquellos con ingresos bajos y medios tienen tasas del 24.53% y 53.48%, respectivamente. Esto sugiere que el nivel de ingresos puede ser un indicador de la capacidad de pago y la responsabilidad financiera de los clientes.\n",
    "\n",
    "El propósito del crédito también influye en la tasa de incumplimiento. Según el análisis, se observa que los préstamos para vivienda tienen la tasa de incumplimiento más alta, con un 25.62%. Por otro lado, los préstamos para bodas tienen la tasa más baja, con un 10.68%. Los préstamos para negocios, educación y vehículos se encuentran en un rango intermedio. Esto destaca la importancia de evaluar el propósito del crédito al analizar el riesgo de incumplimiento.\n"
   ]
  }
 ],
 "metadata": {
  "ExecuteTimeLog": [
   {
    "duration": 2741,
    "start_time": "2021-10-21T01:08:49.480Z"
   },
   {
    "duration": 52,
    "start_time": "2021-10-21T01:08:53.315Z"
   },
   {
    "duration": 49,
    "start_time": "2021-10-21T01:08:57.432Z"
   },
   {
    "duration": 70,
    "start_time": "2021-10-21T01:09:07.706Z"
   }
  ],
  "kernelspec": {
   "display_name": "Python 3 (ipykernel)",
   "language": "python",
   "name": "python3"
  },
  "language_info": {
   "codemirror_mode": {
    "name": "ipython",
    "version": 3
   },
   "file_extension": ".py",
   "mimetype": "text/x-python",
   "name": "python",
   "nbconvert_exporter": "python",
   "pygments_lexer": "ipython3",
   "version": "3.9.5"
  },
  "toc": {
   "base_numbering": 1,
   "nav_menu": {},
   "number_sections": true,
   "sideBar": true,
   "skip_h1_title": true,
   "title_cell": "Table of Contents",
   "title_sidebar": "Contents",
   "toc_cell": false,
   "toc_position": {},
   "toc_section_display": true,
   "toc_window_display": false
  }
 },
 "nbformat": 4,
 "nbformat_minor": 2
}
