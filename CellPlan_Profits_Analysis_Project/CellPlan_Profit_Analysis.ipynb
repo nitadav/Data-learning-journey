{
 "cells": [
  {
   "cell_type": "markdown",
   "metadata": {
    "toc": true
   },
   "source": [
    "<h1>Table of Contents<span class=\"tocSkip\"></span></h1>\n",
    "<div class=\"toc\"><ul class=\"toc-item\"><li><span><a href=\"#¿Cuál-es-un-mejor-plan?\" data-toc-modified-id=\"¿Cuál-es-un-mejor-plan?-1\"><span class=\"toc-item-num\">1&nbsp;&nbsp;</span>¿Cuál es un mejor plan?</a></span><ul class=\"toc-item\"><li><span><a href=\"#Inicialización\" data-toc-modified-id=\"Inicialización-1.1\"><span class=\"toc-item-num\">1.1&nbsp;&nbsp;</span>Inicialización</a></span></li><li><span><a href=\"#Cargar-los-datos\" data-toc-modified-id=\"Cargar-los-datos-1.2\"><span class=\"toc-item-num\">1.2&nbsp;&nbsp;</span>Cargar los datos</a></span></li></ul></li><li><span><a href=\"#Preparar-los-datos\" data-toc-modified-id=\"Preparar-los-datos-2\"><span class=\"toc-item-num\">2&nbsp;&nbsp;</span>Preparar los datos</a></span><ul class=\"toc-item\"><li><span><a href=\"#Planes\" data-toc-modified-id=\"Planes-2.1\"><span class=\"toc-item-num\">2.1&nbsp;&nbsp;</span>Planes</a></span><ul class=\"toc-item\"><li><span><a href=\"#Corregir-los-datos\" data-toc-modified-id=\"Corregir-los-datos-2.1.1\"><span class=\"toc-item-num\">2.1.1&nbsp;&nbsp;</span>Corregir los datos</a></span></li><li><span><a href=\"#Enriquecer-los-datos\" data-toc-modified-id=\"Enriquecer-los-datos-2.1.2\"><span class=\"toc-item-num\">2.1.2&nbsp;&nbsp;</span>Enriquecer los datos</a></span></li></ul></li><li><span><a href=\"#Usuarios\" data-toc-modified-id=\"Usuarios-2.2\"><span class=\"toc-item-num\">2.2&nbsp;&nbsp;</span>Usuarios</a></span><ul class=\"toc-item\"><li><span><a href=\"#Corregir-datos\" data-toc-modified-id=\"Corregir-datos-2.2.1\"><span class=\"toc-item-num\">2.2.1&nbsp;&nbsp;</span>Corregir datos</a></span></li><li><span><a href=\"#Enriquecer-datos\" data-toc-modified-id=\"Enriquecer-datos-2.2.2\"><span class=\"toc-item-num\">2.2.2&nbsp;&nbsp;</span>Enriquecer datos</a></span></li></ul></li><li><span><a href=\"#Llamadas\" data-toc-modified-id=\"Llamadas-2.3\"><span class=\"toc-item-num\">2.3&nbsp;&nbsp;</span>Llamadas</a></span><ul class=\"toc-item\"><li><span><a href=\"#Corregir-datos\" data-toc-modified-id=\"Corregir-datos-2.3.1\"><span class=\"toc-item-num\">2.3.1&nbsp;&nbsp;</span>Corregir datos</a></span></li><li><span><a href=\"#Enriquecer-datos\" data-toc-modified-id=\"Enriquecer-datos-2.3.2\"><span class=\"toc-item-num\">2.3.2&nbsp;&nbsp;</span>Enriquecer datos</a></span></li></ul></li><li><span><a href=\"#Mensajes\" data-toc-modified-id=\"Mensajes-2.4\"><span class=\"toc-item-num\">2.4&nbsp;&nbsp;</span>Mensajes</a></span><ul class=\"toc-item\"><li><span><a href=\"#Corregir-datos\" data-toc-modified-id=\"Corregir-datos-2.4.1\"><span class=\"toc-item-num\">2.4.1&nbsp;&nbsp;</span>Corregir datos</a></span></li><li><span><a href=\"#Enriquecer-datos\" data-toc-modified-id=\"Enriquecer-datos-2.4.2\"><span class=\"toc-item-num\">2.4.2&nbsp;&nbsp;</span>Enriquecer datos</a></span></li></ul></li><li><span><a href=\"#Internet\" data-toc-modified-id=\"Internet-2.5\"><span class=\"toc-item-num\">2.5&nbsp;&nbsp;</span>Internet</a></span><ul class=\"toc-item\"><li><span><a href=\"#Corregir-datos\" data-toc-modified-id=\"Corregir-datos-2.5.1\"><span class=\"toc-item-num\">2.5.1&nbsp;&nbsp;</span>Corregir datos</a></span></li><li><span><a href=\"#Enriquecer-datos\" data-toc-modified-id=\"Enriquecer-datos-2.5.2\"><span class=\"toc-item-num\">2.5.2&nbsp;&nbsp;</span>Enriquecer datos</a></span></li></ul></li><li><span><a href=\"#Estudiar-las-condiciones-del-plan\" data-toc-modified-id=\"Estudiar-las-condiciones-del-plan-2.6\"><span class=\"toc-item-num\">2.6&nbsp;&nbsp;</span>Estudiar las condiciones del plan</a></span></li><li><span><a href=\"#Agregar-datos-por-usuario\" data-toc-modified-id=\"Agregar-datos-por-usuario-2.7\"><span class=\"toc-item-num\">2.7&nbsp;&nbsp;</span>Agregar datos por usuario</a></span><ul class=\"toc-item\"><li><span><a href=\"#Ingreso-mensual-por-usuario\" data-toc-modified-id=\"Ingreso-mensual-por-usuario-2.7.1\"><span class=\"toc-item-num\">2.7.1&nbsp;&nbsp;</span>Ingreso mensual por usuario</a></span></li></ul></li></ul></li><li><span><a href=\"#Estudia-el-comportamiento-del-usuario\" data-toc-modified-id=\"Estudia-el-comportamiento-del-usuario-3\"><span class=\"toc-item-num\">3&nbsp;&nbsp;</span>Estudia el comportamiento del usuario</a></span><ul class=\"toc-item\"><li><span><a href=\"#Llamadas\" data-toc-modified-id=\"Llamadas-3.1\"><span class=\"toc-item-num\">3.1&nbsp;&nbsp;</span>Llamadas</a></span></li><li><span><a href=\"#Mensajes\" data-toc-modified-id=\"Mensajes-3.2\"><span class=\"toc-item-num\">3.2&nbsp;&nbsp;</span>Mensajes</a></span></li><li><span><a href=\"#Internet\" data-toc-modified-id=\"Internet-3.3\"><span class=\"toc-item-num\">3.3&nbsp;&nbsp;</span>Internet</a></span></li><li><span><a href=\"#Ingreso\" data-toc-modified-id=\"Ingreso-3.4\"><span class=\"toc-item-num\">3.4&nbsp;&nbsp;</span>Ingreso</a></span></li></ul></li><li><span><a href=\"#Probar-las-hipótesis-estadísticas.\" data-toc-modified-id=\"Probar-las-hipótesis-estadísticas.-4\"><span class=\"toc-item-num\">4&nbsp;&nbsp;</span>Probar las hipótesis estadísticas.</a></span><ul class=\"toc-item\"><li><span><a href=\"#Prueba-hipótesis-1\" data-toc-modified-id=\"Prueba-hipótesis-1-4.1\"><span class=\"toc-item-num\">4.1&nbsp;&nbsp;</span>Prueba hipótesis 1</a></span></li><li><span><a href=\"#Prueba-de-hipótesis-2\" data-toc-modified-id=\"Prueba-de-hipótesis-2-4.2\"><span class=\"toc-item-num\">4.2&nbsp;&nbsp;</span>Prueba de hipótesis 2</a></span></li></ul></li><li><span><a href=\"#Conclusión-general\" data-toc-modified-id=\"Conclusión-general-5\"><span class=\"toc-item-num\">5&nbsp;&nbsp;</span>Conclusión general</a></span></li></ul></div>"
   ]
  },
  {
   "cell_type": "markdown",
   "metadata": {},
   "source": [
    "# ¿Cuál es un mejor plan?\n",
    "\n",
    "Trabajas como analista para el operador de telecomunicaciones Megaline. La empresa ofrece a sus clientes dos tarifas de prepago, Surf y Ultimate. El departamento comercial quiere saber cuál de los planes genera más ingresos para ajustar el presupuesto de publicidad."
   ]
  },
  {
   "cell_type": "markdown",
   "metadata": {},
   "source": [
    "**Propósito del Proyecto:**\n",
    "\n",
    "El propósito fundamental de este proyecto es realizar un análisis detallado de las tarifas de prepago \"Surf\" y \"Ultimate\" ofrecidas por la empresa de telecomunicaciones Megaline. \n",
    "\n",
    "**Objetivo principal:**\n",
    "\n",
    "Determinar cuál de estas tarifas genera más ingresos para la compañía, lo que permitirá ajustar de manera efectiva el presupuesto de publicidad y tomar decisiones informadas en términos de estrategias comerciales.\n",
    "\n",
    "**Acciones a seguir:**\n",
    "\n",
    "1- Recopilación y Preparación de Datos: recopilar datos de 500 clientes, incluyendo su ubicación, tarifa utilizada, llamadas y mensajes de texto en 2018. Los datos serán organizados y limpiados para su calidad.\n",
    "\n",
    "2.- Limpieza y preparación de datos: Iniciar el proyecto limpiando y preparando los datos, eliminando valores nulos o incorrectos, y transformando variables para facilitar su análisis. Esto asegura que trabajemos con datos coherentes y consistentes.\n",
    "\n",
    "3.- Creación de nuevas variables: Crear variables adicionales para segmentar y calcular los ingresos mensuales. Esto nos permite enfocarnos en las comparaciones relevantes y facilitan el análisis estadístico.\n",
    "\n",
    "4.- Análisis exploratorio: Realizar un análisis exploratorio para comprender mejor la distribución de los datos y las tendencias subyacentes. Esto nos ayuda a identificar patrones, outliers y relaciones entre variables.\n",
    "\n",
    "5.- Definición de hipótesis: Formular hipótesis nulas y alternativas claras y específicas, que servirán como base para nuestras pruebas estadísticas. Investigar afirmaciones específicas sobre los ingresos de los usuarios.\n",
    "\n",
    "6.- Selección de pruebas estadísticas: Elegir pruebas estadísticas apropiadas para cada análisis, considerando las características de los datos y las hipótesis planteadas. \n",
    "\n",
    "7.- Cálculo de p-values: Calcular los p-values de las pruebas estadísticas para determinar la significancia estadística de nuestras hipótesis. Estos valores nos ayudaran a tomar decisiones informadas sobre la aceptación o rechazo de las hipótesis nulas.\n",
    "\n",
    "8.- Interpretación de resultados y Conclusión: Interpretar los resultados de las pruebas estadísticas en el contexto de nuestras hipótesis y los datos analizados. Los resultados fundamentarán las conclusiones."
   ]
  },
  {
   "cell_type": "markdown",
   "metadata": {},
   "source": [
    "## Inicialización"
   ]
  },
  {
   "cell_type": "markdown",
   "metadata": {},
   "source": [
    "Iniciamos cargando las librerías que vamos a usar durante el proyecto."
   ]
  },
  {
   "cell_type": "code",
   "execution_count": 1,
   "metadata": {
    "scrolled": true
   },
   "outputs": [],
   "source": [
    "# Cargar todas las librerías\n",
    "\n",
    "import pandas as pd\n",
    "import numpy as np\n",
    "import math\n",
    "import matplotlib.pyplot as plt\n",
    "import seaborn as sns\n",
    "from scipy import stats as st\n",
    "from datetime import date"
   ]
  },
  {
   "cell_type": "markdown",
   "metadata": {},
   "source": [
    "## Cargar los datos"
   ]
  },
  {
   "cell_type": "markdown",
   "metadata": {},
   "source": [
    "Cargamos los datos de los diferentes datasets"
   ]
  },
  {
   "cell_type": "code",
   "execution_count": 2,
   "metadata": {
    "scrolled": true
   },
   "outputs": [],
   "source": [
    "# Carga los archivos de datos en diferentes DataFrames\n",
    "\n",
    "users_data= pd.read_csv('/datasets/megaline_users.csv')\n",
    "\n",
    "calls_data= pd.read_csv('/datasets/megaline_calls.csv')\n",
    "\n",
    "messages_data= pd.read_csv('/datasets/megaline_messages.csv')\n",
    "\n",
    "internet_data= pd.read_csv('/datasets/megaline_internet.csv')\n",
    "\n",
    "plans_data= pd.read_csv('/datasets/megaline_plans.csv')"
   ]
  },
  {
   "cell_type": "markdown",
   "metadata": {},
   "source": [
    "# Preparar los datos"
   ]
  },
  {
   "cell_type": "markdown",
   "metadata": {},
   "source": [
    "<div style=\"text-align: justify\">\n",
    "En esta etapa del proyecto, nos adentramos en la tarea de preparar los datos, la cual implica explorar cada tabla que compone nuestra base de datos. Nuestro objetivo principal es obtener una comprensión de los datos que componen cada una de ellas.\n",
    "</div>"
   ]
  },
  {
   "cell_type": "markdown",
   "metadata": {},
   "source": [
    "**users_data (datos sobre los usuarios):**\n",
    "- user_id — identificador único del usuario\n",
    "- first_name — nombre del usuario\n",
    "- last_name — apellido del usuario\n",
    "- age — edad del usuario (en años)\n",
    "- reg_date — fecha de suscripción (dd, mm, aa)\n",
    "- churn_date — la fecha en que el usuario dejó de usar el servicio\n",
    "- city — ciudad de residencia del usuario\n",
    "- plan — nombre de la tarifa\n",
    "\n",
    "**calls_data (datos sobre las llamadas):**\n",
    "- id — identificador único de la llamada\n",
    "- call_date — fecha de la llamada\n",
    "- duration — duración de la llamada (en minutos)\n",
    "- user_id — el identificador del usuario que realiza la llamada\n",
    "\n",
    "**messages_data (datos sobre los SMS):**\n",
    "- id — identificador único del SMS\n",
    "- message_date — fecha del SMS\n",
    "- user_id — el identificador del usuario que manda el SMS\n",
    "\n",
    "**internet_data (datos sobre las sesiones web):**\n",
    "- id — identificador único de la sesión\n",
    "- mb_used — el volumen de datos gastados durante la sesión (en megabytes)\n",
    "- session_date — fecha de la sesión web\n",
    "- user_id — identificador del usuario\n",
    "\n",
    "**plans_data (datos sobre las tarifas):**\n",
    "- plan_name — nombre de la tarifa\n",
    "- usd_monthly_fee — pago mensual en dólares estadounidenses\n",
    "- minutes_included — minutos incluidos al mes\n",
    "- messages_included — SMS incluidos al mes\n",
    "- mb_per_month_included — datos incluidos al mes (en megabytes)\n",
    "- usd_per_minute — precio por minuto tras exceder los límites del paquete\n",
    "- usd_per_message — precio por SMS tras exceder los límites del paquete\n",
    "- usd_per_gb — precio por gigabyte de los datos extra tras exceder los límites del paquete (1 GB = 1024 megabytes)"
   ]
  },
  {
   "cell_type": "markdown",
   "metadata": {},
   "source": [
    "## Planes"
   ]
  },
  {
   "cell_type": "code",
   "execution_count": 3,
   "metadata": {
    "scrolled": true
   },
   "outputs": [
    {
     "name": "stdout",
     "output_type": "stream",
     "text": [
      "<class 'pandas.core.frame.DataFrame'>\n",
      "RangeIndex: 2 entries, 0 to 1\n",
      "Data columns (total 8 columns):\n",
      " #   Column                 Non-Null Count  Dtype  \n",
      "---  ------                 --------------  -----  \n",
      " 0   messages_included      2 non-null      int64  \n",
      " 1   mb_per_month_included  2 non-null      int64  \n",
      " 2   minutes_included       2 non-null      int64  \n",
      " 3   usd_monthly_pay        2 non-null      int64  \n",
      " 4   usd_per_gb             2 non-null      int64  \n",
      " 5   usd_per_message        2 non-null      float64\n",
      " 6   usd_per_minute         2 non-null      float64\n",
      " 7   plan_name              2 non-null      object \n",
      "dtypes: float64(2), int64(5), object(1)\n",
      "memory usage: 256.0+ bytes\n"
     ]
    }
   ],
   "source": [
    "# Imprime la información general/resumen sobre el DataFrame de los planes\n",
    "\n",
    "plans_data.info()"
   ]
  },
  {
   "cell_type": "code",
   "execution_count": 4,
   "metadata": {
    "scrolled": true
   },
   "outputs": [
    {
     "data": {
      "text/html": [
       "<div>\n",
       "<style scoped>\n",
       "    .dataframe tbody tr th:only-of-type {\n",
       "        vertical-align: middle;\n",
       "    }\n",
       "\n",
       "    .dataframe tbody tr th {\n",
       "        vertical-align: top;\n",
       "    }\n",
       "\n",
       "    .dataframe thead th {\n",
       "        text-align: right;\n",
       "    }\n",
       "</style>\n",
       "<table border=\"1\" class=\"dataframe\">\n",
       "  <thead>\n",
       "    <tr style=\"text-align: right;\">\n",
       "      <th></th>\n",
       "      <th>messages_included</th>\n",
       "      <th>mb_per_month_included</th>\n",
       "      <th>minutes_included</th>\n",
       "      <th>usd_monthly_pay</th>\n",
       "      <th>usd_per_gb</th>\n",
       "      <th>usd_per_message</th>\n",
       "      <th>usd_per_minute</th>\n",
       "      <th>plan_name</th>\n",
       "    </tr>\n",
       "  </thead>\n",
       "  <tbody>\n",
       "    <tr>\n",
       "      <th>0</th>\n",
       "      <td>50</td>\n",
       "      <td>15360</td>\n",
       "      <td>500</td>\n",
       "      <td>20</td>\n",
       "      <td>10</td>\n",
       "      <td>0.03</td>\n",
       "      <td>0.03</td>\n",
       "      <td>surf</td>\n",
       "    </tr>\n",
       "    <tr>\n",
       "      <th>1</th>\n",
       "      <td>1000</td>\n",
       "      <td>30720</td>\n",
       "      <td>3000</td>\n",
       "      <td>70</td>\n",
       "      <td>7</td>\n",
       "      <td>0.01</td>\n",
       "      <td>0.01</td>\n",
       "      <td>ultimate</td>\n",
       "    </tr>\n",
       "  </tbody>\n",
       "</table>\n",
       "</div>"
      ],
      "text/plain": [
       "   messages_included  mb_per_month_included  minutes_included  \\\n",
       "0                 50                  15360               500   \n",
       "1               1000                  30720              3000   \n",
       "\n",
       "   usd_monthly_pay  usd_per_gb  usd_per_message  usd_per_minute plan_name  \n",
       "0               20          10             0.03            0.03      surf  \n",
       "1               70           7             0.01            0.01  ultimate  "
      ]
     },
     "execution_count": 4,
     "metadata": {},
     "output_type": "execute_result"
    }
   ],
   "source": [
    "# Imprime una muestra de los datos para los planes\n",
    "\n",
    "plans_data.head()"
   ]
  },
  {
   "cell_type": "markdown",
   "metadata": {},
   "source": [
    "El DataFrame tiene 2 entradas (filas) y 8 columnas en total. Los tipos de datos de las columnas incluyen: int64 (enteros de 64 bits), float64 (números de punto flotante de 64 bits) y object (cadena de texto). \n",
    "\n",
    "No se detectaron valores nulos, tipos de datos inadecuados u otros problemas importantes en ninguna de las columnas."
   ]
  },
  {
   "cell_type": "code",
   "execution_count": 5,
   "metadata": {},
   "outputs": [
    {
     "data": {
      "text/html": [
       "<div>\n",
       "<style scoped>\n",
       "    .dataframe tbody tr th:only-of-type {\n",
       "        vertical-align: middle;\n",
       "    }\n",
       "\n",
       "    .dataframe tbody tr th {\n",
       "        vertical-align: top;\n",
       "    }\n",
       "\n",
       "    .dataframe thead th {\n",
       "        text-align: right;\n",
       "    }\n",
       "</style>\n",
       "<table border=\"1\" class=\"dataframe\">\n",
       "  <thead>\n",
       "    <tr style=\"text-align: right;\">\n",
       "      <th></th>\n",
       "      <th>messages_included</th>\n",
       "      <th>mb_per_month_included</th>\n",
       "      <th>minutes_included</th>\n",
       "      <th>usd_monthly_pay</th>\n",
       "      <th>usd_per_gb</th>\n",
       "      <th>usd_per_message</th>\n",
       "      <th>usd_per_minute</th>\n",
       "    </tr>\n",
       "  </thead>\n",
       "  <tbody>\n",
       "    <tr>\n",
       "      <th>count</th>\n",
       "      <td>2.000000</td>\n",
       "      <td>2.000000</td>\n",
       "      <td>2.000000</td>\n",
       "      <td>2.000000</td>\n",
       "      <td>2.00000</td>\n",
       "      <td>2.000000</td>\n",
       "      <td>2.000000</td>\n",
       "    </tr>\n",
       "    <tr>\n",
       "      <th>mean</th>\n",
       "      <td>525.000000</td>\n",
       "      <td>23040.000000</td>\n",
       "      <td>1750.000000</td>\n",
       "      <td>45.000000</td>\n",
       "      <td>8.50000</td>\n",
       "      <td>0.020000</td>\n",
       "      <td>0.020000</td>\n",
       "    </tr>\n",
       "    <tr>\n",
       "      <th>std</th>\n",
       "      <td>671.751442</td>\n",
       "      <td>10861.160159</td>\n",
       "      <td>1767.766953</td>\n",
       "      <td>35.355339</td>\n",
       "      <td>2.12132</td>\n",
       "      <td>0.014142</td>\n",
       "      <td>0.014142</td>\n",
       "    </tr>\n",
       "    <tr>\n",
       "      <th>min</th>\n",
       "      <td>50.000000</td>\n",
       "      <td>15360.000000</td>\n",
       "      <td>500.000000</td>\n",
       "      <td>20.000000</td>\n",
       "      <td>7.00000</td>\n",
       "      <td>0.010000</td>\n",
       "      <td>0.010000</td>\n",
       "    </tr>\n",
       "    <tr>\n",
       "      <th>25%</th>\n",
       "      <td>287.500000</td>\n",
       "      <td>19200.000000</td>\n",
       "      <td>1125.000000</td>\n",
       "      <td>32.500000</td>\n",
       "      <td>7.75000</td>\n",
       "      <td>0.015000</td>\n",
       "      <td>0.015000</td>\n",
       "    </tr>\n",
       "    <tr>\n",
       "      <th>50%</th>\n",
       "      <td>525.000000</td>\n",
       "      <td>23040.000000</td>\n",
       "      <td>1750.000000</td>\n",
       "      <td>45.000000</td>\n",
       "      <td>8.50000</td>\n",
       "      <td>0.020000</td>\n",
       "      <td>0.020000</td>\n",
       "    </tr>\n",
       "    <tr>\n",
       "      <th>75%</th>\n",
       "      <td>762.500000</td>\n",
       "      <td>26880.000000</td>\n",
       "      <td>2375.000000</td>\n",
       "      <td>57.500000</td>\n",
       "      <td>9.25000</td>\n",
       "      <td>0.025000</td>\n",
       "      <td>0.025000</td>\n",
       "    </tr>\n",
       "    <tr>\n",
       "      <th>max</th>\n",
       "      <td>1000.000000</td>\n",
       "      <td>30720.000000</td>\n",
       "      <td>3000.000000</td>\n",
       "      <td>70.000000</td>\n",
       "      <td>10.00000</td>\n",
       "      <td>0.030000</td>\n",
       "      <td>0.030000</td>\n",
       "    </tr>\n",
       "  </tbody>\n",
       "</table>\n",
       "</div>"
      ],
      "text/plain": [
       "       messages_included  mb_per_month_included  minutes_included  \\\n",
       "count           2.000000               2.000000          2.000000   \n",
       "mean          525.000000           23040.000000       1750.000000   \n",
       "std           671.751442           10861.160159       1767.766953   \n",
       "min            50.000000           15360.000000        500.000000   \n",
       "25%           287.500000           19200.000000       1125.000000   \n",
       "50%           525.000000           23040.000000       1750.000000   \n",
       "75%           762.500000           26880.000000       2375.000000   \n",
       "max          1000.000000           30720.000000       3000.000000   \n",
       "\n",
       "       usd_monthly_pay  usd_per_gb  usd_per_message  usd_per_minute  \n",
       "count         2.000000     2.00000         2.000000        2.000000  \n",
       "mean         45.000000     8.50000         0.020000        0.020000  \n",
       "std          35.355339     2.12132         0.014142        0.014142  \n",
       "min          20.000000     7.00000         0.010000        0.010000  \n",
       "25%          32.500000     7.75000         0.015000        0.015000  \n",
       "50%          45.000000     8.50000         0.020000        0.020000  \n",
       "75%          57.500000     9.25000         0.025000        0.025000  \n",
       "max          70.000000    10.00000         0.030000        0.030000  "
      ]
     },
     "execution_count": 5,
     "metadata": {},
     "output_type": "execute_result"
    }
   ],
   "source": [
    "# Encontrar los datos problemáticos si existen\n",
    "\n",
    "plans_data.describe()"
   ]
  },
  {
   "cell_type": "markdown",
   "metadata": {},
   "source": [
    "No parece haber datos problemáticos en el resumen estadístico que proporcionado. Los valores en las diferentes columnas de plans_data parecen estar dentro de rangos razonables y no hay evidencia clara de valores atípicos o extremos. Los valores medios, desviaciones estándar y percentiles sugieren una distribución coherente de los datos en cada característica de los planes."
   ]
  },
  {
   "cell_type": "markdown",
   "metadata": {},
   "source": [
    "### Corregir los datos"
   ]
  },
  {
   "cell_type": "markdown",
   "metadata": {},
   "source": [
    "Se ha identificado una oportunidad para mejorar la eficiencia del análisis. Al elegir los tipos de datos adecuados y asignar tamaños apropiados, para optimizar el rendimiento y el uso de recursos en el DataFrame actual, específicamente la conversión de int64 a int32."
   ]
  },
  {
   "cell_type": "code",
   "execution_count": 6,
   "metadata": {
    "scrolled": true
   },
   "outputs": [],
   "source": [
    "# Cambiar el tipo de datos de las columnas numéricas a int32 en el DataFrame plans_data\n",
    "\n",
    "plans_data['messages_included'] = plans_data['messages_included'].astype('int32')\n",
    "plans_data['mb_per_month_included'] = plans_data['mb_per_month_included'].astype('int32')\n",
    "plans_data['minutes_included'] = plans_data['minutes_included'].astype('int32')\n",
    "plans_data['usd_monthly_pay'] = plans_data['usd_monthly_pay'].astype('int32')\n",
    "plans_data['usd_per_gb'] = plans_data['usd_per_gb'].astype('int32')"
   ]
  },
  {
   "cell_type": "code",
   "execution_count": 7,
   "metadata": {
    "scrolled": true
   },
   "outputs": [
    {
     "data": {
      "text/plain": [
       "messages_included          int32\n",
       "mb_per_month_included      int32\n",
       "minutes_included           int32\n",
       "usd_monthly_pay            int32\n",
       "usd_per_gb                 int32\n",
       "usd_per_message          float64\n",
       "usd_per_minute           float64\n",
       "plan_name                 object\n",
       "dtype: object"
      ]
     },
     "execution_count": 7,
     "metadata": {},
     "output_type": "execute_result"
    }
   ],
   "source": [
    "# Verificar los cambios\n",
    "\n",
    "plans_data.dtypes"
   ]
  },
  {
   "cell_type": "markdown",
   "metadata": {},
   "source": [
    "### Enriquecer los datos"
   ]
  },
  {
   "cell_type": "markdown",
   "metadata": {},
   "source": [
    "Para proporcionar una representación más comprensible y manejable de los datos de consumo de datos y simplificar su interpretación, vamos a actualizar la columna 'mb_per_month_included' para que contenga el total de gigabytes (GB) en lugar de megabytes, para facilitar comparaciones más directas y relevantes entre planes."
   ]
  },
  {
   "cell_type": "code",
   "execution_count": 8,
   "metadata": {
    "scrolled": true
   },
   "outputs": [],
   "source": [
    "# Agregar una nueva columna \"gb_per_month_included\" al DataFrame plans_data\n",
    "\n",
    "plans_data['gb_per_month_included'] = (plans_data['mb_per_month_included'] / 1024).astype('int32')"
   ]
  },
  {
   "cell_type": "code",
   "execution_count": 9,
   "metadata": {
    "scrolled": true
   },
   "outputs": [
    {
     "data": {
      "text/html": [
       "<div>\n",
       "<style scoped>\n",
       "    .dataframe tbody tr th:only-of-type {\n",
       "        vertical-align: middle;\n",
       "    }\n",
       "\n",
       "    .dataframe tbody tr th {\n",
       "        vertical-align: top;\n",
       "    }\n",
       "\n",
       "    .dataframe thead th {\n",
       "        text-align: right;\n",
       "    }\n",
       "</style>\n",
       "<table border=\"1\" class=\"dataframe\">\n",
       "  <thead>\n",
       "    <tr style=\"text-align: right;\">\n",
       "      <th></th>\n",
       "      <th>messages_included</th>\n",
       "      <th>mb_per_month_included</th>\n",
       "      <th>gb_per_month_included</th>\n",
       "      <th>minutes_included</th>\n",
       "      <th>usd_monthly_pay</th>\n",
       "      <th>usd_per_message</th>\n",
       "      <th>usd_per_gb</th>\n",
       "      <th>usd_per_minute</th>\n",
       "      <th>plan_name</th>\n",
       "    </tr>\n",
       "  </thead>\n",
       "  <tbody>\n",
       "    <tr>\n",
       "      <th>0</th>\n",
       "      <td>50</td>\n",
       "      <td>15360</td>\n",
       "      <td>15</td>\n",
       "      <td>500</td>\n",
       "      <td>20</td>\n",
       "      <td>0.03</td>\n",
       "      <td>10</td>\n",
       "      <td>0.03</td>\n",
       "      <td>surf</td>\n",
       "    </tr>\n",
       "    <tr>\n",
       "      <th>1</th>\n",
       "      <td>1000</td>\n",
       "      <td>30720</td>\n",
       "      <td>30</td>\n",
       "      <td>3000</td>\n",
       "      <td>70</td>\n",
       "      <td>0.01</td>\n",
       "      <td>7</td>\n",
       "      <td>0.01</td>\n",
       "      <td>ultimate</td>\n",
       "    </tr>\n",
       "  </tbody>\n",
       "</table>\n",
       "</div>"
      ],
      "text/plain": [
       "   messages_included  mb_per_month_included  gb_per_month_included  \\\n",
       "0                 50                  15360                     15   \n",
       "1               1000                  30720                     30   \n",
       "\n",
       "   minutes_included  usd_monthly_pay  usd_per_message  usd_per_gb  \\\n",
       "0               500               20             0.03          10   \n",
       "1              3000               70             0.01           7   \n",
       "\n",
       "   usd_per_minute plan_name  \n",
       "0            0.03      surf  \n",
       "1            0.01  ultimate  "
      ]
     },
     "execution_count": 9,
     "metadata": {},
     "output_type": "execute_result"
    }
   ],
   "source": [
    "# Definir el orden deseado de las columnas\n",
    "\n",
    "column_order = ['messages_included', 'mb_per_month_included', 'gb_per_month_included', 'minutes_included', 'usd_monthly_pay', 'usd_per_message', 'usd_per_gb', 'usd_per_minute', 'plan_name']\n",
    "\n",
    "# Reorganizar el DataFrame con el orden deseado de columnas\n",
    "\n",
    "plans_data = plans_data[column_order]\n",
    "\n",
    "# Verificar los cambios\n",
    "\n",
    "plans_data"
   ]
  },
  {
   "cell_type": "markdown",
   "metadata": {},
   "source": [
    "## Usuarios"
   ]
  },
  {
   "cell_type": "code",
   "execution_count": 10,
   "metadata": {
    "scrolled": true
   },
   "outputs": [
    {
     "name": "stdout",
     "output_type": "stream",
     "text": [
      "<class 'pandas.core.frame.DataFrame'>\n",
      "RangeIndex: 500 entries, 0 to 499\n",
      "Data columns (total 8 columns):\n",
      " #   Column      Non-Null Count  Dtype \n",
      "---  ------      --------------  ----- \n",
      " 0   user_id     500 non-null    int64 \n",
      " 1   first_name  500 non-null    object\n",
      " 2   last_name   500 non-null    object\n",
      " 3   age         500 non-null    int64 \n",
      " 4   city        500 non-null    object\n",
      " 5   reg_date    500 non-null    object\n",
      " 6   plan        500 non-null    object\n",
      " 7   churn_date  34 non-null     object\n",
      "dtypes: int64(2), object(6)\n",
      "memory usage: 31.4+ KB\n"
     ]
    }
   ],
   "source": [
    "# Imprime la información general/resumen sobre el DataFrame de los usuarios\n",
    "\n",
    "users_data.info()"
   ]
  },
  {
   "cell_type": "code",
   "execution_count": 11,
   "metadata": {
    "scrolled": true
   },
   "outputs": [
    {
     "data": {
      "text/html": [
       "<div>\n",
       "<style scoped>\n",
       "    .dataframe tbody tr th:only-of-type {\n",
       "        vertical-align: middle;\n",
       "    }\n",
       "\n",
       "    .dataframe tbody tr th {\n",
       "        vertical-align: top;\n",
       "    }\n",
       "\n",
       "    .dataframe thead th {\n",
       "        text-align: right;\n",
       "    }\n",
       "</style>\n",
       "<table border=\"1\" class=\"dataframe\">\n",
       "  <thead>\n",
       "    <tr style=\"text-align: right;\">\n",
       "      <th></th>\n",
       "      <th>user_id</th>\n",
       "      <th>first_name</th>\n",
       "      <th>last_name</th>\n",
       "      <th>age</th>\n",
       "      <th>city</th>\n",
       "      <th>reg_date</th>\n",
       "      <th>plan</th>\n",
       "      <th>churn_date</th>\n",
       "    </tr>\n",
       "  </thead>\n",
       "  <tbody>\n",
       "    <tr>\n",
       "      <th>0</th>\n",
       "      <td>1000</td>\n",
       "      <td>Anamaria</td>\n",
       "      <td>Bauer</td>\n",
       "      <td>45</td>\n",
       "      <td>Atlanta-Sandy Springs-Roswell, GA MSA</td>\n",
       "      <td>2018-12-24</td>\n",
       "      <td>ultimate</td>\n",
       "      <td>NaN</td>\n",
       "    </tr>\n",
       "    <tr>\n",
       "      <th>1</th>\n",
       "      <td>1001</td>\n",
       "      <td>Mickey</td>\n",
       "      <td>Wilkerson</td>\n",
       "      <td>28</td>\n",
       "      <td>Seattle-Tacoma-Bellevue, WA MSA</td>\n",
       "      <td>2018-08-13</td>\n",
       "      <td>surf</td>\n",
       "      <td>NaN</td>\n",
       "    </tr>\n",
       "    <tr>\n",
       "      <th>2</th>\n",
       "      <td>1002</td>\n",
       "      <td>Carlee</td>\n",
       "      <td>Hoffman</td>\n",
       "      <td>36</td>\n",
       "      <td>Las Vegas-Henderson-Paradise, NV MSA</td>\n",
       "      <td>2018-10-21</td>\n",
       "      <td>surf</td>\n",
       "      <td>NaN</td>\n",
       "    </tr>\n",
       "    <tr>\n",
       "      <th>3</th>\n",
       "      <td>1003</td>\n",
       "      <td>Reynaldo</td>\n",
       "      <td>Jenkins</td>\n",
       "      <td>52</td>\n",
       "      <td>Tulsa, OK MSA</td>\n",
       "      <td>2018-01-28</td>\n",
       "      <td>surf</td>\n",
       "      <td>NaN</td>\n",
       "    </tr>\n",
       "    <tr>\n",
       "      <th>4</th>\n",
       "      <td>1004</td>\n",
       "      <td>Leonila</td>\n",
       "      <td>Thompson</td>\n",
       "      <td>40</td>\n",
       "      <td>Seattle-Tacoma-Bellevue, WA MSA</td>\n",
       "      <td>2018-05-23</td>\n",
       "      <td>surf</td>\n",
       "      <td>NaN</td>\n",
       "    </tr>\n",
       "  </tbody>\n",
       "</table>\n",
       "</div>"
      ],
      "text/plain": [
       "   user_id first_name  last_name  age                                   city  \\\n",
       "0     1000   Anamaria      Bauer   45  Atlanta-Sandy Springs-Roswell, GA MSA   \n",
       "1     1001     Mickey  Wilkerson   28        Seattle-Tacoma-Bellevue, WA MSA   \n",
       "2     1002     Carlee    Hoffman   36   Las Vegas-Henderson-Paradise, NV MSA   \n",
       "3     1003   Reynaldo    Jenkins   52                          Tulsa, OK MSA   \n",
       "4     1004    Leonila   Thompson   40        Seattle-Tacoma-Bellevue, WA MSA   \n",
       "\n",
       "     reg_date      plan churn_date  \n",
       "0  2018-12-24  ultimate        NaN  \n",
       "1  2018-08-13      surf        NaN  \n",
       "2  2018-10-21      surf        NaN  \n",
       "3  2018-01-28      surf        NaN  \n",
       "4  2018-05-23      surf        NaN  "
      ]
     },
     "execution_count": 11,
     "metadata": {},
     "output_type": "execute_result"
    }
   ],
   "source": [
    "# Imprime una muestra de los datos para los usuarios\n",
    "\n",
    "users_data.head()"
   ]
  },
  {
   "cell_type": "markdown",
   "metadata": {},
   "source": [
    "El DataFrame contiene 500 entradas (filas) y 8 columnas en total. La columna 'reg_date' se encuentra representada como una cadena de texto, esto podría dificultar el análisis y la manipulación de fechas en el DataFrame. Existen valores ausentes en la columna 'churn_date', que corresponden a usuarios que aún se encuentran activos al momento de recuperar estos datos.  "
   ]
  },
  {
   "cell_type": "code",
   "execution_count": 12,
   "metadata": {},
   "outputs": [
    {
     "data": {
      "text/html": [
       "<div>\n",
       "<style scoped>\n",
       "    .dataframe tbody tr th:only-of-type {\n",
       "        vertical-align: middle;\n",
       "    }\n",
       "\n",
       "    .dataframe tbody tr th {\n",
       "        vertical-align: top;\n",
       "    }\n",
       "\n",
       "    .dataframe thead th {\n",
       "        text-align: right;\n",
       "    }\n",
       "</style>\n",
       "<table border=\"1\" class=\"dataframe\">\n",
       "  <thead>\n",
       "    <tr style=\"text-align: right;\">\n",
       "      <th></th>\n",
       "      <th>user_id</th>\n",
       "      <th>age</th>\n",
       "    </tr>\n",
       "  </thead>\n",
       "  <tbody>\n",
       "    <tr>\n",
       "      <th>count</th>\n",
       "      <td>500.000000</td>\n",
       "      <td>500.000000</td>\n",
       "    </tr>\n",
       "    <tr>\n",
       "      <th>mean</th>\n",
       "      <td>1249.500000</td>\n",
       "      <td>45.486000</td>\n",
       "    </tr>\n",
       "    <tr>\n",
       "      <th>std</th>\n",
       "      <td>144.481833</td>\n",
       "      <td>16.972269</td>\n",
       "    </tr>\n",
       "    <tr>\n",
       "      <th>min</th>\n",
       "      <td>1000.000000</td>\n",
       "      <td>18.000000</td>\n",
       "    </tr>\n",
       "    <tr>\n",
       "      <th>25%</th>\n",
       "      <td>1124.750000</td>\n",
       "      <td>30.000000</td>\n",
       "    </tr>\n",
       "    <tr>\n",
       "      <th>50%</th>\n",
       "      <td>1249.500000</td>\n",
       "      <td>46.000000</td>\n",
       "    </tr>\n",
       "    <tr>\n",
       "      <th>75%</th>\n",
       "      <td>1374.250000</td>\n",
       "      <td>61.000000</td>\n",
       "    </tr>\n",
       "    <tr>\n",
       "      <th>max</th>\n",
       "      <td>1499.000000</td>\n",
       "      <td>75.000000</td>\n",
       "    </tr>\n",
       "  </tbody>\n",
       "</table>\n",
       "</div>"
      ],
      "text/plain": [
       "           user_id         age\n",
       "count   500.000000  500.000000\n",
       "mean   1249.500000   45.486000\n",
       "std     144.481833   16.972269\n",
       "min    1000.000000   18.000000\n",
       "25%    1124.750000   30.000000\n",
       "50%    1249.500000   46.000000\n",
       "75%    1374.250000   61.000000\n",
       "max    1499.000000   75.000000"
      ]
     },
     "execution_count": 12,
     "metadata": {},
     "output_type": "execute_result"
    }
   ],
   "source": [
    "# Encontrar los datos problemáticos si existen\n",
    "\n",
    "users_data.describe()"
   ]
  },
  {
   "cell_type": "markdown",
   "metadata": {},
   "source": [
    "Los valores en las columnas de user_id, age y month están dentro de rangos razonables y no muestran valores atípicos evidentes. Las estadísticas como los valores medios, desviaciones estándar y percentiles indican una distribución coherente de los datos en cada característica."
   ]
  },
  {
   "cell_type": "markdown",
   "metadata": {},
   "source": [
    "### Corregir datos"
   ]
  },
  {
   "cell_type": "markdown",
   "metadata": {},
   "source": [
    "La columna 'reg_date' se encuentra representada como una cadena de texto en lugar de como un tipo de dato de fecha. Para abordar este problema, es recomendable convertir la columna a un tipo de dato de fecha adecuado (dd, mm, aa)."
   ]
  },
  {
   "cell_type": "code",
   "execution_count": 13,
   "metadata": {},
   "outputs": [],
   "source": [
    "# Convertir la columna 'reg_date' al tipo de dato date\n",
    "\n",
    "users_data['reg_date'] = pd.to_datetime(users_data['reg_date']).dt.date\n",
    "\n",
    "# Corregir el tipo de dato de 'age'\n",
    "\n",
    "users_data['age'] = users_data['age'].astype('int8')\n",
    "\n",
    "# Corregir el tipo de dato de 'user_id'\n",
    "\n",
    "users_data['user_id'] = users_data['user_id'].astype('int32')"
   ]
  },
  {
   "cell_type": "code",
   "execution_count": 14,
   "metadata": {
    "scrolled": true
   },
   "outputs": [
    {
     "data": {
      "text/plain": [
       "user_id        int32\n",
       "first_name    object\n",
       "last_name     object\n",
       "age             int8\n",
       "city          object\n",
       "reg_date      object\n",
       "plan          object\n",
       "churn_date    object\n",
       "dtype: object"
      ]
     },
     "execution_count": 14,
     "metadata": {},
     "output_type": "execute_result"
    }
   ],
   "source": [
    "# Comprobar los cambios realizados\n",
    "\n",
    "users_data.dtypes"
   ]
  },
  {
   "cell_type": "code",
   "execution_count": 15,
   "metadata": {},
   "outputs": [
    {
     "name": "stdout",
     "output_type": "stream",
     "text": [
      "Todos los datos en la columna 'reg_date' son objetos datetime.date\n"
     ]
    }
   ],
   "source": [
    "# Verificar si todos los datos en la columna 'reg_date' son datetime.date\n",
    "\n",
    "all_dates = users_data['reg_date'].apply(lambda x: isinstance(x, date)).all()\n",
    "\n",
    "# Imprimir el resultado\n",
    "\n",
    "if all_dates:\n",
    "    print(\"Todos los datos en la columna 'reg_date' son objetos datetime.date\")\n",
    "else:\n",
    "    print(\"No todos los datos en la columna 'reg_date' son objetos datetime.date\")"
   ]
  },
  {
   "cell_type": "markdown",
   "metadata": {},
   "source": [
    "Para verificar si todos los datos en una columna son del tipo datetime.date, usamos el método all() en combinación con isinstance(), que es una función en Python que se utiliza para verificar si un objeto es una instancia de una clase específica o una de sus subclases."
   ]
  },
  {
   "cell_type": "markdown",
   "metadata": {},
   "source": [
    "Antes de proceder a rellenar los valores ausentes, primero debemos revisar si existen valores duplicados en el conjunto de datos de usuarios."
   ]
  },
  {
   "cell_type": "code",
   "execution_count": 16,
   "metadata": {
    "scrolled": true
   },
   "outputs": [
    {
     "data": {
      "text/plain": [
       "0"
      ]
     },
     "execution_count": 16,
     "metadata": {},
     "output_type": "execute_result"
    }
   ],
   "source": [
    "# Buscar duplicados\n",
    "\n",
    "users_data.duplicated().sum()"
   ]
  },
  {
   "cell_type": "markdown",
   "metadata": {},
   "source": [
    "En este caso, los valores ausentes en la columna 'churn_date', representan a usuarios activos, por lo que podría abordar esta situación de diferentes maneras, en el contexto del objetivo de este análisis, vamos a proceder a rellenarlos con un valor específico."
   ]
  },
  {
   "cell_type": "code",
   "execution_count": 17,
   "metadata": {
    "scrolled": true
   },
   "outputs": [],
   "source": [
    "# Rellenar los valores ausentes en la columna para indicar que estos usuarios aún son activos\n",
    "\n",
    "users_data['churn_date'].fillna('Línea Activa', inplace=True)"
   ]
  },
  {
   "cell_type": "code",
   "execution_count": 18,
   "metadata": {
    "scrolled": false
   },
   "outputs": [
    {
     "data": {
      "text/plain": [
       "user_id       0\n",
       "first_name    0\n",
       "last_name     0\n",
       "age           0\n",
       "city          0\n",
       "reg_date      0\n",
       "plan          0\n",
       "churn_date    0\n",
       "dtype: int64"
      ]
     },
     "execution_count": 18,
     "metadata": {},
     "output_type": "execute_result"
    }
   ],
   "source": [
    "# Comprobar los cambios realizados\n",
    "\n",
    "users_data.isnull().sum()"
   ]
  },
  {
   "cell_type": "markdown",
   "metadata": {},
   "source": [
    "### Enriquecer datos"
   ]
  },
  {
   "cell_type": "markdown",
   "metadata": {},
   "source": [
    "Con el propósito de facilitar la comprensión de la información geográfica de los usuarios en el conjunto de datos y obtener una mayor granularidad en la descripción geográfica, se procede a la división de la columna 'city' en dos columnas: 'city' y 'region'.\n",
    "\n",
    "Las áreas estadísticas metropolitanas 'MSA', sirven para agrupar condados y ciudades en áreas geográficas específicas para los fines de un censo de población y la compilación de datos estadísticos relacionados."
   ]
  },
  {
   "cell_type": "code",
   "execution_count": 19,
   "metadata": {
    "scrolled": true
   },
   "outputs": [],
   "source": [
    "# Dividir la columna 'city' en dos columnas\n",
    "\n",
    "users_data[['city', 'region']] = users_data['city'].str.split(', ', 1, expand=True)"
   ]
  },
  {
   "cell_type": "markdown",
   "metadata": {},
   "source": [
    "<div style=\"text-align: justify\">\n",
    "La creación de una categoría de edad ofrece una estrategia para simplificar el análisis de las tendencias demográficas, logrando una organización clara para la identificación de patrones y comportamientos en grupos demográficos más amplios. Primero vamos identificar los rangos mínimos y máximos de edad en nuestro conjunto de datos.\n",
    "</div>"
   ]
  },
  {
   "cell_type": "code",
   "execution_count": 20,
   "metadata": {
    "scrolled": true
   },
   "outputs": [
    {
     "name": "stdout",
     "output_type": "stream",
     "text": [
      "Edad Mínima: 18  Edad Máxima: 75\n"
     ]
    }
   ],
   "source": [
    "print (\"Edad Mínima:\", users_data['age'].min(),'', 'Edad Máxima:', users_data['age'].max())"
   ]
  },
  {
   "cell_type": "markdown",
   "metadata": {},
   "source": [
    "Nos basaremos en la Teoría de Erikson para segmentar nuestros grupos de edad."
   ]
  },
  {
   "cell_type": "code",
   "execution_count": 21,
   "metadata": {
    "scrolled": true
   },
   "outputs": [],
   "source": [
    "# Crear función 'age_group'\n",
    "\n",
    "def categorize_age(age):\n",
    "    if age < 30:\n",
    "        return 'Young Adults'\n",
    "    elif age < 50:\n",
    "        return 'Adults'\n",
    "    else:\n",
    "        return 'Senior'\n",
    "\n",
    "# Aplicar la función a la columna 'age' y crear una nueva columna 'age_group'\n",
    "\n",
    "users_data['age_group'] = users_data['age'].apply(categorize_age)"
   ]
  },
  {
   "cell_type": "markdown",
   "metadata": {},
   "source": [
    "La decisión de combinar las columnas 'first_name' y 'last_name' en una única columna 'full_name' y posteriormente eliminar las columnas originales se fundamenta en la optimización de la estructura del conjunto de datos. La columna 'full_name' proporciona una información más legible de la identidad de cada usuario, lo que facilita la comprensión de los resultados y análisis posteriores."
   ]
  },
  {
   "cell_type": "code",
   "execution_count": 22,
   "metadata": {
    "scrolled": true
   },
   "outputs": [],
   "source": [
    "# Concatenar las columnas \"first_name\" y \"last_name\" y guardar el resultado en \"full_name\"\n",
    "\n",
    "users_data['full_name'] = users_data['first_name'].str.cat(users_data['last_name'], sep=' ')\n",
    "\n",
    "# Eliminar las columnas \"first_name\" y \"last_name\"\n",
    "\n",
    "users_data.drop(columns=['first_name', 'last_name'], inplace=True)"
   ]
  },
  {
   "cell_type": "markdown",
   "metadata": {},
   "source": [
    "En vista que es un análisis para determinar los ingresos por planes en un periodo de tiempo determinado, se considera importante agregar una columna separada que contenga el mes para facilitar cálculos en lineas de tiempo, ya que conocemos que todos los valores del conjunto pertenecen al mismo año 2018."
   ]
  },
  {
   "cell_type": "code",
   "execution_count": 23,
   "metadata": {
    "scrolled": true
   },
   "outputs": [],
   "source": [
    "# Agregar una columna con el mes a users_data\n",
    "\n",
    "users_data['month'] = users_data['reg_date'].apply(lambda x: x.month).astype('int8')"
   ]
  },
  {
   "cell_type": "markdown",
   "metadata": {},
   "source": [
    "Procedemos a organizar las columnas de nuestro Dataset para una mejor visibilidad de los datos. "
   ]
  },
  {
   "cell_type": "code",
   "execution_count": 24,
   "metadata": {
    "scrolled": true
   },
   "outputs": [
    {
     "data": {
      "text/html": [
       "<div>\n",
       "<style scoped>\n",
       "    .dataframe tbody tr th:only-of-type {\n",
       "        vertical-align: middle;\n",
       "    }\n",
       "\n",
       "    .dataframe tbody tr th {\n",
       "        vertical-align: top;\n",
       "    }\n",
       "\n",
       "    .dataframe thead th {\n",
       "        text-align: right;\n",
       "    }\n",
       "</style>\n",
       "<table border=\"1\" class=\"dataframe\">\n",
       "  <thead>\n",
       "    <tr style=\"text-align: right;\">\n",
       "      <th></th>\n",
       "      <th>user_id</th>\n",
       "      <th>full_name</th>\n",
       "      <th>age</th>\n",
       "      <th>age_group</th>\n",
       "      <th>city</th>\n",
       "      <th>region</th>\n",
       "      <th>plan</th>\n",
       "      <th>reg_date</th>\n",
       "      <th>month</th>\n",
       "      <th>churn_date</th>\n",
       "    </tr>\n",
       "  </thead>\n",
       "  <tbody>\n",
       "    <tr>\n",
       "      <th>0</th>\n",
       "      <td>1000</td>\n",
       "      <td>Anamaria Bauer</td>\n",
       "      <td>45</td>\n",
       "      <td>Adults</td>\n",
       "      <td>Atlanta-Sandy Springs-Roswell</td>\n",
       "      <td>GA MSA</td>\n",
       "      <td>ultimate</td>\n",
       "      <td>2018-12-24</td>\n",
       "      <td>12</td>\n",
       "      <td>Línea Activa</td>\n",
       "    </tr>\n",
       "    <tr>\n",
       "      <th>1</th>\n",
       "      <td>1001</td>\n",
       "      <td>Mickey Wilkerson</td>\n",
       "      <td>28</td>\n",
       "      <td>Young Adults</td>\n",
       "      <td>Seattle-Tacoma-Bellevue</td>\n",
       "      <td>WA MSA</td>\n",
       "      <td>surf</td>\n",
       "      <td>2018-08-13</td>\n",
       "      <td>8</td>\n",
       "      <td>Línea Activa</td>\n",
       "    </tr>\n",
       "    <tr>\n",
       "      <th>2</th>\n",
       "      <td>1002</td>\n",
       "      <td>Carlee Hoffman</td>\n",
       "      <td>36</td>\n",
       "      <td>Adults</td>\n",
       "      <td>Las Vegas-Henderson-Paradise</td>\n",
       "      <td>NV MSA</td>\n",
       "      <td>surf</td>\n",
       "      <td>2018-10-21</td>\n",
       "      <td>10</td>\n",
       "      <td>Línea Activa</td>\n",
       "    </tr>\n",
       "    <tr>\n",
       "      <th>3</th>\n",
       "      <td>1003</td>\n",
       "      <td>Reynaldo Jenkins</td>\n",
       "      <td>52</td>\n",
       "      <td>Senior</td>\n",
       "      <td>Tulsa</td>\n",
       "      <td>OK MSA</td>\n",
       "      <td>surf</td>\n",
       "      <td>2018-01-28</td>\n",
       "      <td>1</td>\n",
       "      <td>Línea Activa</td>\n",
       "    </tr>\n",
       "    <tr>\n",
       "      <th>4</th>\n",
       "      <td>1004</td>\n",
       "      <td>Leonila Thompson</td>\n",
       "      <td>40</td>\n",
       "      <td>Adults</td>\n",
       "      <td>Seattle-Tacoma-Bellevue</td>\n",
       "      <td>WA MSA</td>\n",
       "      <td>surf</td>\n",
       "      <td>2018-05-23</td>\n",
       "      <td>5</td>\n",
       "      <td>Línea Activa</td>\n",
       "    </tr>\n",
       "  </tbody>\n",
       "</table>\n",
       "</div>"
      ],
      "text/plain": [
       "   user_id         full_name  age     age_group  \\\n",
       "0     1000    Anamaria Bauer   45        Adults   \n",
       "1     1001  Mickey Wilkerson   28  Young Adults   \n",
       "2     1002    Carlee Hoffman   36        Adults   \n",
       "3     1003  Reynaldo Jenkins   52        Senior   \n",
       "4     1004  Leonila Thompson   40        Adults   \n",
       "\n",
       "                            city  region      plan    reg_date  month  \\\n",
       "0  Atlanta-Sandy Springs-Roswell  GA MSA  ultimate  2018-12-24     12   \n",
       "1        Seattle-Tacoma-Bellevue  WA MSA      surf  2018-08-13      8   \n",
       "2   Las Vegas-Henderson-Paradise  NV MSA      surf  2018-10-21     10   \n",
       "3                          Tulsa  OK MSA      surf  2018-01-28      1   \n",
       "4        Seattle-Tacoma-Bellevue  WA MSA      surf  2018-05-23      5   \n",
       "\n",
       "     churn_date  \n",
       "0  Línea Activa  \n",
       "1  Línea Activa  \n",
       "2  Línea Activa  \n",
       "3  Línea Activa  \n",
       "4  Línea Activa  "
      ]
     },
     "execution_count": 24,
     "metadata": {},
     "output_type": "execute_result"
    }
   ],
   "source": [
    "# Definir el orden deseado de las columnas\n",
    "\n",
    "column_order = ['user_id', 'full_name', 'age', 'age_group', 'city', 'region', 'plan', 'reg_date', 'month', 'churn_date']\n",
    "\n",
    "# Reorganizar el DataFrame con el orden deseado de columnas\n",
    "\n",
    "users_data = users_data[column_order]\n",
    "\n",
    "# Mostrar el DataFrame actualizado\n",
    "\n",
    "users_data.head()"
   ]
  },
  {
   "cell_type": "markdown",
   "metadata": {},
   "source": [
    "## Llamadas"
   ]
  },
  {
   "cell_type": "code",
   "execution_count": 25,
   "metadata": {
    "scrolled": true
   },
   "outputs": [
    {
     "name": "stdout",
     "output_type": "stream",
     "text": [
      "<class 'pandas.core.frame.DataFrame'>\n",
      "RangeIndex: 137735 entries, 0 to 137734\n",
      "Data columns (total 4 columns):\n",
      " #   Column     Non-Null Count   Dtype  \n",
      "---  ------     --------------   -----  \n",
      " 0   id         137735 non-null  object \n",
      " 1   user_id    137735 non-null  int64  \n",
      " 2   call_date  137735 non-null  object \n",
      " 3   duration   137735 non-null  float64\n",
      "dtypes: float64(1), int64(1), object(2)\n",
      "memory usage: 4.2+ MB\n"
     ]
    }
   ],
   "source": [
    "# Imprime la información/resumen general sobre el DataFrame de las llamadas\n",
    "\n",
    "calls_data.info()"
   ]
  },
  {
   "cell_type": "code",
   "execution_count": 26,
   "metadata": {
    "scrolled": false
   },
   "outputs": [
    {
     "data": {
      "text/html": [
       "<div>\n",
       "<style scoped>\n",
       "    .dataframe tbody tr th:only-of-type {\n",
       "        vertical-align: middle;\n",
       "    }\n",
       "\n",
       "    .dataframe tbody tr th {\n",
       "        vertical-align: top;\n",
       "    }\n",
       "\n",
       "    .dataframe thead th {\n",
       "        text-align: right;\n",
       "    }\n",
       "</style>\n",
       "<table border=\"1\" class=\"dataframe\">\n",
       "  <thead>\n",
       "    <tr style=\"text-align: right;\">\n",
       "      <th></th>\n",
       "      <th>id</th>\n",
       "      <th>user_id</th>\n",
       "      <th>call_date</th>\n",
       "      <th>duration</th>\n",
       "    </tr>\n",
       "  </thead>\n",
       "  <tbody>\n",
       "    <tr>\n",
       "      <th>0</th>\n",
       "      <td>1000_93</td>\n",
       "      <td>1000</td>\n",
       "      <td>2018-12-27</td>\n",
       "      <td>8.52</td>\n",
       "    </tr>\n",
       "    <tr>\n",
       "      <th>1</th>\n",
       "      <td>1000_145</td>\n",
       "      <td>1000</td>\n",
       "      <td>2018-12-27</td>\n",
       "      <td>13.66</td>\n",
       "    </tr>\n",
       "    <tr>\n",
       "      <th>2</th>\n",
       "      <td>1000_247</td>\n",
       "      <td>1000</td>\n",
       "      <td>2018-12-27</td>\n",
       "      <td>14.48</td>\n",
       "    </tr>\n",
       "    <tr>\n",
       "      <th>3</th>\n",
       "      <td>1000_309</td>\n",
       "      <td>1000</td>\n",
       "      <td>2018-12-28</td>\n",
       "      <td>5.76</td>\n",
       "    </tr>\n",
       "    <tr>\n",
       "      <th>4</th>\n",
       "      <td>1000_380</td>\n",
       "      <td>1000</td>\n",
       "      <td>2018-12-30</td>\n",
       "      <td>4.22</td>\n",
       "    </tr>\n",
       "  </tbody>\n",
       "</table>\n",
       "</div>"
      ],
      "text/plain": [
       "         id  user_id   call_date  duration\n",
       "0   1000_93     1000  2018-12-27      8.52\n",
       "1  1000_145     1000  2018-12-27     13.66\n",
       "2  1000_247     1000  2018-12-27     14.48\n",
       "3  1000_309     1000  2018-12-28      5.76\n",
       "4  1000_380     1000  2018-12-30      4.22"
      ]
     },
     "execution_count": 26,
     "metadata": {},
     "output_type": "execute_result"
    }
   ],
   "source": [
    "# Imprime una muestra de datos para llamadas\n",
    "\n",
    "calls_data.head()"
   ]
  },
  {
   "cell_type": "markdown",
   "metadata": {},
   "source": [
    "En este caso, el DataFrame tiene 137,735 filas y cuatro columnas. Según el recuento de valores no nulos en cada columna no existen datos faltantes. Sin embargo como en ocasiones anteriores resaltamos la importancia de convertir los valores de fecha en tipo Datetime."
   ]
  },
  {
   "cell_type": "code",
   "execution_count": 27,
   "metadata": {},
   "outputs": [
    {
     "data": {
      "text/html": [
       "<div>\n",
       "<style scoped>\n",
       "    .dataframe tbody tr th:only-of-type {\n",
       "        vertical-align: middle;\n",
       "    }\n",
       "\n",
       "    .dataframe tbody tr th {\n",
       "        vertical-align: top;\n",
       "    }\n",
       "\n",
       "    .dataframe thead th {\n",
       "        text-align: right;\n",
       "    }\n",
       "</style>\n",
       "<table border=\"1\" class=\"dataframe\">\n",
       "  <thead>\n",
       "    <tr style=\"text-align: right;\">\n",
       "      <th></th>\n",
       "      <th>user_id</th>\n",
       "      <th>duration</th>\n",
       "    </tr>\n",
       "  </thead>\n",
       "  <tbody>\n",
       "    <tr>\n",
       "      <th>count</th>\n",
       "      <td>137735.000000</td>\n",
       "      <td>137735.000000</td>\n",
       "    </tr>\n",
       "    <tr>\n",
       "      <th>mean</th>\n",
       "      <td>1247.658046</td>\n",
       "      <td>6.745927</td>\n",
       "    </tr>\n",
       "    <tr>\n",
       "      <th>std</th>\n",
       "      <td>139.416268</td>\n",
       "      <td>5.839241</td>\n",
       "    </tr>\n",
       "    <tr>\n",
       "      <th>min</th>\n",
       "      <td>1000.000000</td>\n",
       "      <td>0.000000</td>\n",
       "    </tr>\n",
       "    <tr>\n",
       "      <th>25%</th>\n",
       "      <td>1128.000000</td>\n",
       "      <td>1.290000</td>\n",
       "    </tr>\n",
       "    <tr>\n",
       "      <th>50%</th>\n",
       "      <td>1247.000000</td>\n",
       "      <td>5.980000</td>\n",
       "    </tr>\n",
       "    <tr>\n",
       "      <th>75%</th>\n",
       "      <td>1365.000000</td>\n",
       "      <td>10.690000</td>\n",
       "    </tr>\n",
       "    <tr>\n",
       "      <th>max</th>\n",
       "      <td>1499.000000</td>\n",
       "      <td>37.600000</td>\n",
       "    </tr>\n",
       "  </tbody>\n",
       "</table>\n",
       "</div>"
      ],
      "text/plain": [
       "             user_id       duration\n",
       "count  137735.000000  137735.000000\n",
       "mean     1247.658046       6.745927\n",
       "std       139.416268       5.839241\n",
       "min      1000.000000       0.000000\n",
       "25%      1128.000000       1.290000\n",
       "50%      1247.000000       5.980000\n",
       "75%      1365.000000      10.690000\n",
       "max      1499.000000      37.600000"
      ]
     },
     "execution_count": 27,
     "metadata": {},
     "output_type": "execute_result"
    }
   ],
   "source": [
    "# Encontrar los datos problemáticos si existen\n",
    "\n",
    "calls_data.describe()"
   ]
  },
  {
   "cell_type": "markdown",
   "metadata": {},
   "source": [
    "Los datos proporcionados también parecen no tener valores problemáticos en el resumen estadístico. Las estadísticas para las columnas se encuentran dentro de rangos razonables y no muestran valores atípicos evidentes. "
   ]
  },
  {
   "cell_type": "markdown",
   "metadata": {},
   "source": [
    "### Corregir datos"
   ]
  },
  {
   "cell_type": "markdown",
   "metadata": {},
   "source": [
    "Procederemos a realizar ajustes en el formato de fechas y en los tipos de datos en el DataFrame 'calls_data' con el propósito de mejorar la manipulación de los datos y optimizar el uso de memoria."
   ]
  },
  {
   "cell_type": "code",
   "execution_count": 28,
   "metadata": {
    "scrolled": true
   },
   "outputs": [],
   "source": [
    "# Corregir el tipo de dato de 'call_date'\n",
    "\n",
    "calls_data['call_date'] = pd.to_datetime(calls_data['call_date']).dt.date\n",
    "\n",
    "# Corregir el tipo de dato de 'user_id'\n",
    "\n",
    "calls_data['user_id'] = calls_data['user_id'].astype('int32')"
   ]
  },
  {
   "cell_type": "code",
   "execution_count": 29,
   "metadata": {
    "scrolled": true
   },
   "outputs": [
    {
     "data": {
      "text/plain": [
       "id            object\n",
       "user_id        int32\n",
       "call_date     object\n",
       "duration     float64\n",
       "dtype: object"
      ]
     },
     "execution_count": 29,
     "metadata": {},
     "output_type": "execute_result"
    }
   ],
   "source": [
    "# Comprobar los cambios realizados\n",
    "\n",
    "calls_data.dtypes"
   ]
  },
  {
   "cell_type": "code",
   "execution_count": 30,
   "metadata": {},
   "outputs": [
    {
     "name": "stdout",
     "output_type": "stream",
     "text": [
      "Todos los datos en la columna 'call_date' son objetos datetime.date\n"
     ]
    }
   ],
   "source": [
    "# Verificar si todos los datos en la columna 'call_date' son datetime.date\n",
    "\n",
    "all_dates_calls = calls_data['call_date'].apply(lambda x: isinstance(x, date)).all()\n",
    "\n",
    "# Imprimir el resultado\n",
    "\n",
    "if all_dates_calls:\n",
    "    print(\"Todos los datos en la columna 'call_date' son objetos datetime.date\")\n",
    "else:\n",
    "    print(\"No todos los datos en la columna 'call_date' son objetos datetime.date\")"
   ]
  },
  {
   "cell_type": "markdown",
   "metadata": {},
   "source": [
    "Aunque la columna 'duration' representa la duración de las llamadas en minutos, se decidió no convertirla al tipo de dato datetime, ya que este es más apropiado para representar fechas y horas completas. Por lo tanto sería más adecuado mantenerla como un tipo de dato numérico.\n",
    "\n",
    "Continuemos con la revisión en busca de valores duplicados en el conjunto de datos de llamadas."
   ]
  },
  {
   "cell_type": "code",
   "execution_count": 31,
   "metadata": {
    "scrolled": true
   },
   "outputs": [
    {
     "data": {
      "text/plain": [
       "0"
      ]
     },
     "execution_count": 31,
     "metadata": {},
     "output_type": "execute_result"
    }
   ],
   "source": [
    "# Buscar duplicados\n",
    "\n",
    "calls_data.duplicated().sum()"
   ]
  },
  {
   "cell_type": "markdown",
   "metadata": {},
   "source": [
    "### Enriquecer datos"
   ]
  },
  {
   "cell_type": "markdown",
   "metadata": {},
   "source": [
    "Agregar una columna con el mes en este contexto es útil para poder agrupar y analizar los datos de llamadas por mes de manera más efectiva, se puede realizar operaciones de agrupación y cálculos basados en el mes sin tener que realizar manipulaciones complejas sobre las fechas completas."
   ]
  },
  {
   "cell_type": "code",
   "execution_count": 32,
   "metadata": {
    "scrolled": true
   },
   "outputs": [],
   "source": [
    "# Agregar una columna con el mes a calls_data\n",
    "\n",
    "calls_data['month'] = calls_data['call_date'].apply(lambda x: x.month).astype('int8')"
   ]
  },
  {
   "cell_type": "markdown",
   "metadata": {},
   "source": [
    "<div style=\"text-align: justify\">\n",
    "Considerando la política de redondeo de Megaline para las llamadas, donde cada llamada individual se redondea al minuto más cercano, incluso si la llamada duró solo un segundo, agregaremos una nueva columna que contendrá el total de la duración de la llamada redondeada al entero superior mas cercano. Para esto utilizaremos la función np.ceil() de NumPy.\n",
    "</div>"
   ]
  },
  {
   "cell_type": "code",
   "execution_count": 33,
   "metadata": {
    "scrolled": true
   },
   "outputs": [
    {
     "data": {
      "text/html": [
       "<div>\n",
       "<style scoped>\n",
       "    .dataframe tbody tr th:only-of-type {\n",
       "        vertical-align: middle;\n",
       "    }\n",
       "\n",
       "    .dataframe tbody tr th {\n",
       "        vertical-align: top;\n",
       "    }\n",
       "\n",
       "    .dataframe thead th {\n",
       "        text-align: right;\n",
       "    }\n",
       "</style>\n",
       "<table border=\"1\" class=\"dataframe\">\n",
       "  <thead>\n",
       "    <tr style=\"text-align: right;\">\n",
       "      <th></th>\n",
       "      <th>id</th>\n",
       "      <th>user_id</th>\n",
       "      <th>call_date</th>\n",
       "      <th>duration</th>\n",
       "      <th>month</th>\n",
       "      <th>duration_calls</th>\n",
       "    </tr>\n",
       "  </thead>\n",
       "  <tbody>\n",
       "    <tr>\n",
       "      <th>0</th>\n",
       "      <td>1000_93</td>\n",
       "      <td>1000</td>\n",
       "      <td>2018-12-27</td>\n",
       "      <td>8.52</td>\n",
       "      <td>12</td>\n",
       "      <td>9</td>\n",
       "    </tr>\n",
       "    <tr>\n",
       "      <th>1</th>\n",
       "      <td>1000_145</td>\n",
       "      <td>1000</td>\n",
       "      <td>2018-12-27</td>\n",
       "      <td>13.66</td>\n",
       "      <td>12</td>\n",
       "      <td>14</td>\n",
       "    </tr>\n",
       "    <tr>\n",
       "      <th>2</th>\n",
       "      <td>1000_247</td>\n",
       "      <td>1000</td>\n",
       "      <td>2018-12-27</td>\n",
       "      <td>14.48</td>\n",
       "      <td>12</td>\n",
       "      <td>15</td>\n",
       "    </tr>\n",
       "    <tr>\n",
       "      <th>3</th>\n",
       "      <td>1000_309</td>\n",
       "      <td>1000</td>\n",
       "      <td>2018-12-28</td>\n",
       "      <td>5.76</td>\n",
       "      <td>12</td>\n",
       "      <td>6</td>\n",
       "    </tr>\n",
       "    <tr>\n",
       "      <th>4</th>\n",
       "      <td>1000_380</td>\n",
       "      <td>1000</td>\n",
       "      <td>2018-12-30</td>\n",
       "      <td>4.22</td>\n",
       "      <td>12</td>\n",
       "      <td>5</td>\n",
       "    </tr>\n",
       "  </tbody>\n",
       "</table>\n",
       "</div>"
      ],
      "text/plain": [
       "         id  user_id   call_date  duration  month  duration_calls\n",
       "0   1000_93     1000  2018-12-27      8.52     12               9\n",
       "1  1000_145     1000  2018-12-27     13.66     12              14\n",
       "2  1000_247     1000  2018-12-27     14.48     12              15\n",
       "3  1000_309     1000  2018-12-28      5.76     12               6\n",
       "4  1000_380     1000  2018-12-30      4.22     12               5"
      ]
     },
     "execution_count": 33,
     "metadata": {},
     "output_type": "execute_result"
    }
   ],
   "source": [
    "# Redondear los valores al entero superior más cercano\n",
    "\n",
    "calls_data['duration_calls'] = np.ceil(calls_data['duration']).astype('int32')\n",
    "\n",
    "# Comprobar los cambios realizados\n",
    "\n",
    "calls_data.head()"
   ]
  },
  {
   "cell_type": "markdown",
   "metadata": {},
   "source": [
    "<div style=\"text-align: justify\">\n",
    "Vamos a realizar una verificación sobre la duración de llamadas de menos de 1 minuto, esto nos permitirá identificar si existen llamadas nulas, lo que podría ser un indicador de llamadas perdidas o de algún problema en los datos. Dependiendo el resultado, tendremos que tomar una decisión sobre cómo manejarlas. \n",
    "</div>"
   ]
  },
  {
   "cell_type": "code",
   "execution_count": 34,
   "metadata": {
    "scrolled": true
   },
   "outputs": [
    {
     "data": {
      "text/plain": [
       "(26834, 6)"
      ]
     },
     "execution_count": 34,
     "metadata": {},
     "output_type": "execute_result"
    }
   ],
   "source": [
    "# Verificar llamadas de 0.0 minutos de duración  \n",
    "\n",
    "zero_duration_calls = calls_data.loc[calls_data ['duration_calls'] == 0 ]\n",
    "zero_duration_calls.shape"
   ]
  },
  {
   "cell_type": "code",
   "execution_count": 35,
   "metadata": {
    "scrolled": true
   },
   "outputs": [
    {
     "name": "stdout",
     "output_type": "stream",
     "text": [
      "Porcentaje de llamadas con duración de 0 minutos: 19.48%\n"
     ]
    }
   ],
   "source": [
    "# Calcula el porcentaje de las llamadas de 0.0 minutos de duración   \n",
    "\n",
    "percentage_zero_duration_calls = (len(zero_duration_calls) / len(calls_data)) * 100\n",
    "print (f\"Porcentaje de llamadas con duración de 0 minutos: {percentage_zero_duration_calls:.2f}%\")"
   ]
  },
  {
   "cell_type": "markdown",
   "metadata": {},
   "source": [
    "Un 19% de llamadas con duración de 0 minutos es un valor bastante alto y podría tener un impacto significativo en el análisis. En este caso, eliminar todas las filas no sería una opción ideal, por el momento la estrategia planeada es mantenerlas como un grupo separado en el análisis."
   ]
  },
  {
   "cell_type": "markdown",
   "metadata": {},
   "source": [
    "Reorganizar las columnas para una mejor visibilidad de los datos. "
   ]
  },
  {
   "cell_type": "code",
   "execution_count": 36,
   "metadata": {
    "scrolled": true
   },
   "outputs": [
    {
     "data": {
      "text/html": [
       "<div>\n",
       "<style scoped>\n",
       "    .dataframe tbody tr th:only-of-type {\n",
       "        vertical-align: middle;\n",
       "    }\n",
       "\n",
       "    .dataframe tbody tr th {\n",
       "        vertical-align: top;\n",
       "    }\n",
       "\n",
       "    .dataframe thead th {\n",
       "        text-align: right;\n",
       "    }\n",
       "</style>\n",
       "<table border=\"1\" class=\"dataframe\">\n",
       "  <thead>\n",
       "    <tr style=\"text-align: right;\">\n",
       "      <th></th>\n",
       "      <th>id</th>\n",
       "      <th>user_id</th>\n",
       "      <th>call_date</th>\n",
       "      <th>month</th>\n",
       "      <th>duration</th>\n",
       "      <th>duration_calls</th>\n",
       "    </tr>\n",
       "  </thead>\n",
       "  <tbody>\n",
       "    <tr>\n",
       "      <th>0</th>\n",
       "      <td>1000_93</td>\n",
       "      <td>1000</td>\n",
       "      <td>2018-12-27</td>\n",
       "      <td>12</td>\n",
       "      <td>8.52</td>\n",
       "      <td>9</td>\n",
       "    </tr>\n",
       "    <tr>\n",
       "      <th>1</th>\n",
       "      <td>1000_145</td>\n",
       "      <td>1000</td>\n",
       "      <td>2018-12-27</td>\n",
       "      <td>12</td>\n",
       "      <td>13.66</td>\n",
       "      <td>14</td>\n",
       "    </tr>\n",
       "    <tr>\n",
       "      <th>2</th>\n",
       "      <td>1000_247</td>\n",
       "      <td>1000</td>\n",
       "      <td>2018-12-27</td>\n",
       "      <td>12</td>\n",
       "      <td>14.48</td>\n",
       "      <td>15</td>\n",
       "    </tr>\n",
       "    <tr>\n",
       "      <th>3</th>\n",
       "      <td>1000_309</td>\n",
       "      <td>1000</td>\n",
       "      <td>2018-12-28</td>\n",
       "      <td>12</td>\n",
       "      <td>5.76</td>\n",
       "      <td>6</td>\n",
       "    </tr>\n",
       "    <tr>\n",
       "      <th>4</th>\n",
       "      <td>1000_380</td>\n",
       "      <td>1000</td>\n",
       "      <td>2018-12-30</td>\n",
       "      <td>12</td>\n",
       "      <td>4.22</td>\n",
       "      <td>5</td>\n",
       "    </tr>\n",
       "  </tbody>\n",
       "</table>\n",
       "</div>"
      ],
      "text/plain": [
       "         id  user_id   call_date  month  duration  duration_calls\n",
       "0   1000_93     1000  2018-12-27     12      8.52               9\n",
       "1  1000_145     1000  2018-12-27     12     13.66              14\n",
       "2  1000_247     1000  2018-12-27     12     14.48              15\n",
       "3  1000_309     1000  2018-12-28     12      5.76               6\n",
       "4  1000_380     1000  2018-12-30     12      4.22               5"
      ]
     },
     "execution_count": 36,
     "metadata": {},
     "output_type": "execute_result"
    }
   ],
   "source": [
    "# Definir el orden deseado de las columnas\n",
    "\n",
    "column_order = ['id', 'user_id', 'call_date', 'month', 'duration', 'duration_calls']\n",
    "\n",
    "# Reorganizar el DataFrame con el orden deseado de columnas\n",
    "\n",
    "calls_data = calls_data[column_order]\n",
    "\n",
    "# Mostrar el DataFrame actualizado\n",
    "\n",
    "calls_data.head()"
   ]
  },
  {
   "cell_type": "markdown",
   "metadata": {},
   "source": [
    "## Mensajes"
   ]
  },
  {
   "cell_type": "code",
   "execution_count": 37,
   "metadata": {
    "scrolled": true
   },
   "outputs": [
    {
     "name": "stdout",
     "output_type": "stream",
     "text": [
      "<class 'pandas.core.frame.DataFrame'>\n",
      "RangeIndex: 76051 entries, 0 to 76050\n",
      "Data columns (total 3 columns):\n",
      " #   Column        Non-Null Count  Dtype \n",
      "---  ------        --------------  ----- \n",
      " 0   id            76051 non-null  object\n",
      " 1   user_id       76051 non-null  int64 \n",
      " 2   message_date  76051 non-null  object\n",
      "dtypes: int64(1), object(2)\n",
      "memory usage: 1.7+ MB\n"
     ]
    }
   ],
   "source": [
    "# Imprime la información/resumen general sobre el DataFrame de los mensajes\n",
    "\n",
    "messages_data.info()"
   ]
  },
  {
   "cell_type": "code",
   "execution_count": 38,
   "metadata": {
    "scrolled": true
   },
   "outputs": [
    {
     "data": {
      "text/html": [
       "<div>\n",
       "<style scoped>\n",
       "    .dataframe tbody tr th:only-of-type {\n",
       "        vertical-align: middle;\n",
       "    }\n",
       "\n",
       "    .dataframe tbody tr th {\n",
       "        vertical-align: top;\n",
       "    }\n",
       "\n",
       "    .dataframe thead th {\n",
       "        text-align: right;\n",
       "    }\n",
       "</style>\n",
       "<table border=\"1\" class=\"dataframe\">\n",
       "  <thead>\n",
       "    <tr style=\"text-align: right;\">\n",
       "      <th></th>\n",
       "      <th>id</th>\n",
       "      <th>user_id</th>\n",
       "      <th>message_date</th>\n",
       "    </tr>\n",
       "  </thead>\n",
       "  <tbody>\n",
       "    <tr>\n",
       "      <th>0</th>\n",
       "      <td>1000_125</td>\n",
       "      <td>1000</td>\n",
       "      <td>2018-12-27</td>\n",
       "    </tr>\n",
       "    <tr>\n",
       "      <th>1</th>\n",
       "      <td>1000_160</td>\n",
       "      <td>1000</td>\n",
       "      <td>2018-12-31</td>\n",
       "    </tr>\n",
       "    <tr>\n",
       "      <th>2</th>\n",
       "      <td>1000_223</td>\n",
       "      <td>1000</td>\n",
       "      <td>2018-12-31</td>\n",
       "    </tr>\n",
       "    <tr>\n",
       "      <th>3</th>\n",
       "      <td>1000_251</td>\n",
       "      <td>1000</td>\n",
       "      <td>2018-12-27</td>\n",
       "    </tr>\n",
       "    <tr>\n",
       "      <th>4</th>\n",
       "      <td>1000_255</td>\n",
       "      <td>1000</td>\n",
       "      <td>2018-12-26</td>\n",
       "    </tr>\n",
       "  </tbody>\n",
       "</table>\n",
       "</div>"
      ],
      "text/plain": [
       "         id  user_id message_date\n",
       "0  1000_125     1000   2018-12-27\n",
       "1  1000_160     1000   2018-12-31\n",
       "2  1000_223     1000   2018-12-31\n",
       "3  1000_251     1000   2018-12-27\n",
       "4  1000_255     1000   2018-12-26"
      ]
     },
     "execution_count": 38,
     "metadata": {},
     "output_type": "execute_result"
    }
   ],
   "source": [
    "# Imprime una muestra de datos para los mensajes\n",
    "\n",
    "messages_data.head()"
   ]
  },
  {
   "cell_type": "markdown",
   "metadata": {},
   "source": [
    "El dataset contiene 76,051 entradas y 3 columnas. No hay valores nulos en ninguna de las columnas, lo que es positivo, ya que no tenemos que lidiar con datos ausentes. Sin embargo, hay un aspecto que podría requerir correcciones adicionales: \n",
    "\n",
    "- Tipo de Dato de 'message_date':\n",
    "La columna 'message_date' tiene un tipo de dato 'object', que representa cadenas de texto en Pandas. Para realizar análisis temporal adecuado, es recomendable convertir esta columna al tipo de dato datetime."
   ]
  },
  {
   "cell_type": "code",
   "execution_count": 39,
   "metadata": {},
   "outputs": [
    {
     "data": {
      "text/html": [
       "<div>\n",
       "<style scoped>\n",
       "    .dataframe tbody tr th:only-of-type {\n",
       "        vertical-align: middle;\n",
       "    }\n",
       "\n",
       "    .dataframe tbody tr th {\n",
       "        vertical-align: top;\n",
       "    }\n",
       "\n",
       "    .dataframe thead th {\n",
       "        text-align: right;\n",
       "    }\n",
       "</style>\n",
       "<table border=\"1\" class=\"dataframe\">\n",
       "  <thead>\n",
       "    <tr style=\"text-align: right;\">\n",
       "      <th></th>\n",
       "      <th>user_id</th>\n",
       "    </tr>\n",
       "  </thead>\n",
       "  <tbody>\n",
       "    <tr>\n",
       "      <th>count</th>\n",
       "      <td>76051.000000</td>\n",
       "    </tr>\n",
       "    <tr>\n",
       "      <th>mean</th>\n",
       "      <td>1245.972768</td>\n",
       "    </tr>\n",
       "    <tr>\n",
       "      <th>std</th>\n",
       "      <td>139.843635</td>\n",
       "    </tr>\n",
       "    <tr>\n",
       "      <th>min</th>\n",
       "      <td>1000.000000</td>\n",
       "    </tr>\n",
       "    <tr>\n",
       "      <th>25%</th>\n",
       "      <td>1123.000000</td>\n",
       "    </tr>\n",
       "    <tr>\n",
       "      <th>50%</th>\n",
       "      <td>1251.000000</td>\n",
       "    </tr>\n",
       "    <tr>\n",
       "      <th>75%</th>\n",
       "      <td>1362.000000</td>\n",
       "    </tr>\n",
       "    <tr>\n",
       "      <th>max</th>\n",
       "      <td>1497.000000</td>\n",
       "    </tr>\n",
       "  </tbody>\n",
       "</table>\n",
       "</div>"
      ],
      "text/plain": [
       "            user_id\n",
       "count  76051.000000\n",
       "mean    1245.972768\n",
       "std      139.843635\n",
       "min     1000.000000\n",
       "25%     1123.000000\n",
       "50%     1251.000000\n",
       "75%     1362.000000\n",
       "max     1497.000000"
      ]
     },
     "execution_count": 39,
     "metadata": {},
     "output_type": "execute_result"
    }
   ],
   "source": [
    "# Encontrar los datos problemáticos si existen\n",
    "\n",
    "messages_data.describe()"
   ]
  },
  {
   "cell_type": "markdown",
   "metadata": {},
   "source": [
    "La columna user_id tiene un recuento adecuado y los valores mínimos, máximos y percentiles de la columna month parecen estar dentro de un rango razonable. La media y la desviación estándar sugieren que hay cierta variabilidad en los valores de month, lo que podría indicar que los usuarios tienen diferentes patrones de actividad a lo largo del año"
   ]
  },
  {
   "cell_type": "markdown",
   "metadata": {},
   "source": [
    "### Corregir datos"
   ]
  },
  {
   "cell_type": "markdown",
   "metadata": {},
   "source": [
    "Para corregir este problema, podemos utilizar la función pd.to_datetime() para convertir la columna 'message_date' en un formato de fecha adecuado. "
   ]
  },
  {
   "cell_type": "code",
   "execution_count": 40,
   "metadata": {
    "scrolled": true
   },
   "outputs": [],
   "source": [
    "# Convertir tipo de dato de 'message_date'\n",
    "\n",
    "messages_data['message_date'] = pd.to_datetime(messages_data['message_date'])\n",
    "\n",
    "# Corregir el tipo de dato de 'user_id'\n",
    "\n",
    "messages_data['user_id'] = messages_data['user_id'].astype('int32')"
   ]
  },
  {
   "cell_type": "code",
   "execution_count": 41,
   "metadata": {
    "scrolled": true
   },
   "outputs": [
    {
     "data": {
      "text/plain": [
       "id                      object\n",
       "user_id                  int32\n",
       "message_date    datetime64[ns]\n",
       "dtype: object"
      ]
     },
     "execution_count": 41,
     "metadata": {},
     "output_type": "execute_result"
    }
   ],
   "source": [
    "# Comprobar los cambios realizados\n",
    "\n",
    "messages_data.dtypes"
   ]
  },
  {
   "cell_type": "markdown",
   "metadata": {},
   "source": [
    "Continuemos con la revisión en busca de valores duplicados en el conjunto de datos de mensajes."
   ]
  },
  {
   "cell_type": "code",
   "execution_count": 42,
   "metadata": {
    "scrolled": true
   },
   "outputs": [
    {
     "data": {
      "text/plain": [
       "0"
      ]
     },
     "execution_count": 42,
     "metadata": {},
     "output_type": "execute_result"
    }
   ],
   "source": [
    "# Buscar duplicados\n",
    "\n",
    "messages_data.duplicated().sum()"
   ]
  },
  {
   "cell_type": "markdown",
   "metadata": {},
   "source": [
    "### Enriquecer datos"
   ]
  },
  {
   "cell_type": "markdown",
   "metadata": {},
   "source": [
    "Agregaremos la columna separada con el mes para facilitar nuestros próximos calculos."
   ]
  },
  {
   "cell_type": "code",
   "execution_count": 43,
   "metadata": {
    "scrolled": true
   },
   "outputs": [
    {
     "data": {
      "text/html": [
       "<div>\n",
       "<style scoped>\n",
       "    .dataframe tbody tr th:only-of-type {\n",
       "        vertical-align: middle;\n",
       "    }\n",
       "\n",
       "    .dataframe tbody tr th {\n",
       "        vertical-align: top;\n",
       "    }\n",
       "\n",
       "    .dataframe thead th {\n",
       "        text-align: right;\n",
       "    }\n",
       "</style>\n",
       "<table border=\"1\" class=\"dataframe\">\n",
       "  <thead>\n",
       "    <tr style=\"text-align: right;\">\n",
       "      <th></th>\n",
       "      <th>id</th>\n",
       "      <th>user_id</th>\n",
       "      <th>message_date</th>\n",
       "      <th>month</th>\n",
       "    </tr>\n",
       "  </thead>\n",
       "  <tbody>\n",
       "    <tr>\n",
       "      <th>0</th>\n",
       "      <td>1000_125</td>\n",
       "      <td>1000</td>\n",
       "      <td>2018-12-27</td>\n",
       "      <td>12</td>\n",
       "    </tr>\n",
       "    <tr>\n",
       "      <th>1</th>\n",
       "      <td>1000_160</td>\n",
       "      <td>1000</td>\n",
       "      <td>2018-12-31</td>\n",
       "      <td>12</td>\n",
       "    </tr>\n",
       "    <tr>\n",
       "      <th>2</th>\n",
       "      <td>1000_223</td>\n",
       "      <td>1000</td>\n",
       "      <td>2018-12-31</td>\n",
       "      <td>12</td>\n",
       "    </tr>\n",
       "    <tr>\n",
       "      <th>3</th>\n",
       "      <td>1000_251</td>\n",
       "      <td>1000</td>\n",
       "      <td>2018-12-27</td>\n",
       "      <td>12</td>\n",
       "    </tr>\n",
       "    <tr>\n",
       "      <th>4</th>\n",
       "      <td>1000_255</td>\n",
       "      <td>1000</td>\n",
       "      <td>2018-12-26</td>\n",
       "      <td>12</td>\n",
       "    </tr>\n",
       "  </tbody>\n",
       "</table>\n",
       "</div>"
      ],
      "text/plain": [
       "         id  user_id message_date  month\n",
       "0  1000_125     1000   2018-12-27     12\n",
       "1  1000_160     1000   2018-12-31     12\n",
       "2  1000_223     1000   2018-12-31     12\n",
       "3  1000_251     1000   2018-12-27     12\n",
       "4  1000_255     1000   2018-12-26     12"
      ]
     },
     "execution_count": 43,
     "metadata": {},
     "output_type": "execute_result"
    }
   ],
   "source": [
    "# Agregar una columna con el mes a messages_data\n",
    "\n",
    "messages_data['month'] = messages_data['message_date'].dt.month.astype('int8')\n",
    "\n",
    "# Comprobar los resultados\n",
    "\n",
    "messages_data.head()"
   ]
  },
  {
   "cell_type": "markdown",
   "metadata": {},
   "source": [
    "## Internet"
   ]
  },
  {
   "cell_type": "code",
   "execution_count": 44,
   "metadata": {
    "scrolled": true
   },
   "outputs": [
    {
     "name": "stdout",
     "output_type": "stream",
     "text": [
      "<class 'pandas.core.frame.DataFrame'>\n",
      "RangeIndex: 104825 entries, 0 to 104824\n",
      "Data columns (total 4 columns):\n",
      " #   Column        Non-Null Count   Dtype  \n",
      "---  ------        --------------   -----  \n",
      " 0   id            104825 non-null  object \n",
      " 1   user_id       104825 non-null  int64  \n",
      " 2   session_date  104825 non-null  object \n",
      " 3   mb_used       104825 non-null  float64\n",
      "dtypes: float64(1), int64(1), object(2)\n",
      "memory usage: 3.2+ MB\n"
     ]
    }
   ],
   "source": [
    "# Imprime la información/resumen general sobre el DataFrame de tráfico de internet\n",
    "\n",
    "internet_data.info()"
   ]
  },
  {
   "cell_type": "code",
   "execution_count": 45,
   "metadata": {
    "scrolled": true
   },
   "outputs": [
    {
     "data": {
      "text/html": [
       "<div>\n",
       "<style scoped>\n",
       "    .dataframe tbody tr th:only-of-type {\n",
       "        vertical-align: middle;\n",
       "    }\n",
       "\n",
       "    .dataframe tbody tr th {\n",
       "        vertical-align: top;\n",
       "    }\n",
       "\n",
       "    .dataframe thead th {\n",
       "        text-align: right;\n",
       "    }\n",
       "</style>\n",
       "<table border=\"1\" class=\"dataframe\">\n",
       "  <thead>\n",
       "    <tr style=\"text-align: right;\">\n",
       "      <th></th>\n",
       "      <th>id</th>\n",
       "      <th>user_id</th>\n",
       "      <th>session_date</th>\n",
       "      <th>mb_used</th>\n",
       "    </tr>\n",
       "  </thead>\n",
       "  <tbody>\n",
       "    <tr>\n",
       "      <th>0</th>\n",
       "      <td>1000_13</td>\n",
       "      <td>1000</td>\n",
       "      <td>2018-12-29</td>\n",
       "      <td>89.86</td>\n",
       "    </tr>\n",
       "    <tr>\n",
       "      <th>1</th>\n",
       "      <td>1000_204</td>\n",
       "      <td>1000</td>\n",
       "      <td>2018-12-31</td>\n",
       "      <td>0.00</td>\n",
       "    </tr>\n",
       "    <tr>\n",
       "      <th>2</th>\n",
       "      <td>1000_379</td>\n",
       "      <td>1000</td>\n",
       "      <td>2018-12-28</td>\n",
       "      <td>660.40</td>\n",
       "    </tr>\n",
       "    <tr>\n",
       "      <th>3</th>\n",
       "      <td>1000_413</td>\n",
       "      <td>1000</td>\n",
       "      <td>2018-12-26</td>\n",
       "      <td>270.99</td>\n",
       "    </tr>\n",
       "    <tr>\n",
       "      <th>4</th>\n",
       "      <td>1000_442</td>\n",
       "      <td>1000</td>\n",
       "      <td>2018-12-27</td>\n",
       "      <td>880.22</td>\n",
       "    </tr>\n",
       "  </tbody>\n",
       "</table>\n",
       "</div>"
      ],
      "text/plain": [
       "         id  user_id session_date  mb_used\n",
       "0   1000_13     1000   2018-12-29    89.86\n",
       "1  1000_204     1000   2018-12-31     0.00\n",
       "2  1000_379     1000   2018-12-28   660.40\n",
       "3  1000_413     1000   2018-12-26   270.99\n",
       "4  1000_442     1000   2018-12-27   880.22"
      ]
     },
     "execution_count": 45,
     "metadata": {},
     "output_type": "execute_result"
    }
   ],
   "source": [
    "# Imprime una muestra de datos para el tráfico de internet\n",
    "\n",
    "internet_data.head()"
   ]
  },
  {
   "cell_type": "markdown",
   "metadata": {},
   "source": [
    "En el DataFrame de 'internet_data', podemos notar lo siguiente: \n",
    "\n",
    "- Contiene 104,825 entradas y 4 columnas.\n",
    "- No hay valores nulos en ninguna de las columnas.\n",
    "- Es recomendable convertir los tipos de datos y verificar las políticas de tráfico de internet en Megaline."
   ]
  },
  {
   "cell_type": "code",
   "execution_count": 46,
   "metadata": {},
   "outputs": [
    {
     "data": {
      "text/html": [
       "<div>\n",
       "<style scoped>\n",
       "    .dataframe tbody tr th:only-of-type {\n",
       "        vertical-align: middle;\n",
       "    }\n",
       "\n",
       "    .dataframe tbody tr th {\n",
       "        vertical-align: top;\n",
       "    }\n",
       "\n",
       "    .dataframe thead th {\n",
       "        text-align: right;\n",
       "    }\n",
       "</style>\n",
       "<table border=\"1\" class=\"dataframe\">\n",
       "  <thead>\n",
       "    <tr style=\"text-align: right;\">\n",
       "      <th></th>\n",
       "      <th>user_id</th>\n",
       "      <th>mb_used</th>\n",
       "    </tr>\n",
       "  </thead>\n",
       "  <tbody>\n",
       "    <tr>\n",
       "      <th>count</th>\n",
       "      <td>104825.000000</td>\n",
       "      <td>104825.000000</td>\n",
       "    </tr>\n",
       "    <tr>\n",
       "      <th>mean</th>\n",
       "      <td>1242.496361</td>\n",
       "      <td>366.713701</td>\n",
       "    </tr>\n",
       "    <tr>\n",
       "      <th>std</th>\n",
       "      <td>142.053913</td>\n",
       "      <td>277.170542</td>\n",
       "    </tr>\n",
       "    <tr>\n",
       "      <th>min</th>\n",
       "      <td>1000.000000</td>\n",
       "      <td>0.000000</td>\n",
       "    </tr>\n",
       "    <tr>\n",
       "      <th>25%</th>\n",
       "      <td>1122.000000</td>\n",
       "      <td>136.080000</td>\n",
       "    </tr>\n",
       "    <tr>\n",
       "      <th>50%</th>\n",
       "      <td>1236.000000</td>\n",
       "      <td>343.980000</td>\n",
       "    </tr>\n",
       "    <tr>\n",
       "      <th>75%</th>\n",
       "      <td>1367.000000</td>\n",
       "      <td>554.610000</td>\n",
       "    </tr>\n",
       "    <tr>\n",
       "      <th>max</th>\n",
       "      <td>1499.000000</td>\n",
       "      <td>1693.470000</td>\n",
       "    </tr>\n",
       "  </tbody>\n",
       "</table>\n",
       "</div>"
      ],
      "text/plain": [
       "             user_id        mb_used\n",
       "count  104825.000000  104825.000000\n",
       "mean     1242.496361     366.713701\n",
       "std       142.053913     277.170542\n",
       "min      1000.000000       0.000000\n",
       "25%      1122.000000     136.080000\n",
       "50%      1236.000000     343.980000\n",
       "75%      1367.000000     554.610000\n",
       "max      1499.000000    1693.470000"
      ]
     },
     "execution_count": 46,
     "metadata": {},
     "output_type": "execute_result"
    }
   ],
   "source": [
    "# Encontrar los datos problemáticos si existen\n",
    "\n",
    "internet_data.describe()"
   ]
  },
  {
   "cell_type": "markdown",
   "metadata": {},
   "source": [
    "En este conjunto de datos tampoco parecen haber valores problemáticos. La media y la desviación estándar sugieren que hay cierta variabilidad en los valores de month y mb_used, lo que podría indicar diferencias en los patrones de uso de datos de los usuarios a lo largo del año y en la cantidad de megabytes utilizados. Al igual que en los casos anteriores, los datos parecen ser coherentes y no muestran evidencia de valores atípicos significativos. "
   ]
  },
  {
   "cell_type": "markdown",
   "metadata": {},
   "source": [
    "### Corregir datos"
   ]
  },
  {
   "cell_type": "markdown",
   "metadata": {},
   "source": [
    "Primero se procederá a convertir la columna 'session_date' al tipo de dato datetime para realizar análisis temporal, de igual manera se proseguirá con los tipos de datos de 'user_id'."
   ]
  },
  {
   "cell_type": "code",
   "execution_count": 47,
   "metadata": {
    "scrolled": true
   },
   "outputs": [],
   "source": [
    "# Convertir tipo de dato de 'session_date'\n",
    "\n",
    "internet_data['session_date'] = pd.to_datetime(internet_data['session_date']).dt.date\n",
    "\n",
    "# Corregir el tipo de dato de 'user_id'\n",
    "\n",
    "internet_data['user_id'] = internet_data['user_id'].astype('int32')"
   ]
  },
  {
   "cell_type": "code",
   "execution_count": 48,
   "metadata": {
    "scrolled": true
   },
   "outputs": [
    {
     "data": {
      "text/plain": [
       "id               object\n",
       "user_id           int32\n",
       "session_date     object\n",
       "mb_used         float64\n",
       "dtype: object"
      ]
     },
     "execution_count": 48,
     "metadata": {},
     "output_type": "execute_result"
    }
   ],
   "source": [
    "# Comprobar los cambios realizados\n",
    "\n",
    "internet_data.dtypes"
   ]
  },
  {
   "cell_type": "code",
   "execution_count": 49,
   "metadata": {},
   "outputs": [
    {
     "name": "stdout",
     "output_type": "stream",
     "text": [
      "Todos los datos en la columna 'session_date' son objetos datetime.date\n"
     ]
    }
   ],
   "source": [
    "# Verificar si todos los datos en la columna 'session_date' son datetime.date\n",
    "\n",
    "all_dates_internet = internet_data['session_date'].apply(lambda x: isinstance(x, date)).all()\n",
    "\n",
    "# Imprimir el resultado\n",
    "\n",
    "if all_dates_internet:\n",
    "    print(\"Todos los datos en la columna 'session_date' son objetos datetime.date\")\n",
    "else:\n",
    "    print(\"No todos los datos en la columna 'session_date' son objetos datetime.date\")"
   ]
  },
  {
   "cell_type": "markdown",
   "metadata": {},
   "source": [
    "Busquemos valores duplicados en nuestro dataframe 'internet_data'"
   ]
  },
  {
   "cell_type": "code",
   "execution_count": 50,
   "metadata": {
    "scrolled": true
   },
   "outputs": [
    {
     "data": {
      "text/plain": [
       "0"
      ]
     },
     "execution_count": 50,
     "metadata": {},
     "output_type": "execute_result"
    }
   ],
   "source": [
    "# Buscar duplicados\n",
    "\n",
    "internet_data.duplicated().sum()"
   ]
  },
  {
   "cell_type": "markdown",
   "metadata": {},
   "source": [
    "### Enriquecer datos"
   ]
  },
  {
   "cell_type": "markdown",
   "metadata": {},
   "source": [
    "<div style=\"text-align: justify\">\n",
    "Según la política de redondeo de Megaline para tráfico web, las sesiones web individuales no se redondean. En vez de esto, el total del mes se redondea hacia arriba. Si alguien usa 1025 megabytes este mes, se le cobrarán 2 gigabyte. Por el momento, podemos continuar con el análisis utilizando los datos actuales y mantener en mente la política de redondeo para calcular el total del tráfico web por mes. Como en los datasets anteriores, procedemos a anexar la columna 'month' para nuestros próximos calculos.\n",
    "</div>"
   ]
  },
  {
   "cell_type": "code",
   "execution_count": 51,
   "metadata": {
    "scrolled": true
   },
   "outputs": [],
   "source": [
    "# Agregar una columna con el mes a internet_data\n",
    "\n",
    "internet_data['month'] = internet_data['session_date'].apply(lambda x: x.month).astype('int8')"
   ]
  },
  {
   "cell_type": "markdown",
   "metadata": {},
   "source": [
    "Procedemos a organizar las columnas a fin de mantener un orden coherente de los datos. "
   ]
  },
  {
   "cell_type": "code",
   "execution_count": 52,
   "metadata": {
    "scrolled": true
   },
   "outputs": [
    {
     "data": {
      "text/html": [
       "<div>\n",
       "<style scoped>\n",
       "    .dataframe tbody tr th:only-of-type {\n",
       "        vertical-align: middle;\n",
       "    }\n",
       "\n",
       "    .dataframe tbody tr th {\n",
       "        vertical-align: top;\n",
       "    }\n",
       "\n",
       "    .dataframe thead th {\n",
       "        text-align: right;\n",
       "    }\n",
       "</style>\n",
       "<table border=\"1\" class=\"dataframe\">\n",
       "  <thead>\n",
       "    <tr style=\"text-align: right;\">\n",
       "      <th></th>\n",
       "      <th>id</th>\n",
       "      <th>user_id</th>\n",
       "      <th>session_date</th>\n",
       "      <th>month</th>\n",
       "      <th>mb_used</th>\n",
       "    </tr>\n",
       "  </thead>\n",
       "  <tbody>\n",
       "    <tr>\n",
       "      <th>0</th>\n",
       "      <td>1000_13</td>\n",
       "      <td>1000</td>\n",
       "      <td>2018-12-29</td>\n",
       "      <td>12</td>\n",
       "      <td>89.86</td>\n",
       "    </tr>\n",
       "    <tr>\n",
       "      <th>1</th>\n",
       "      <td>1000_204</td>\n",
       "      <td>1000</td>\n",
       "      <td>2018-12-31</td>\n",
       "      <td>12</td>\n",
       "      <td>0.00</td>\n",
       "    </tr>\n",
       "    <tr>\n",
       "      <th>2</th>\n",
       "      <td>1000_379</td>\n",
       "      <td>1000</td>\n",
       "      <td>2018-12-28</td>\n",
       "      <td>12</td>\n",
       "      <td>660.40</td>\n",
       "    </tr>\n",
       "    <tr>\n",
       "      <th>3</th>\n",
       "      <td>1000_413</td>\n",
       "      <td>1000</td>\n",
       "      <td>2018-12-26</td>\n",
       "      <td>12</td>\n",
       "      <td>270.99</td>\n",
       "    </tr>\n",
       "    <tr>\n",
       "      <th>4</th>\n",
       "      <td>1000_442</td>\n",
       "      <td>1000</td>\n",
       "      <td>2018-12-27</td>\n",
       "      <td>12</td>\n",
       "      <td>880.22</td>\n",
       "    </tr>\n",
       "  </tbody>\n",
       "</table>\n",
       "</div>"
      ],
      "text/plain": [
       "         id  user_id session_date  month  mb_used\n",
       "0   1000_13     1000   2018-12-29     12    89.86\n",
       "1  1000_204     1000   2018-12-31     12     0.00\n",
       "2  1000_379     1000   2018-12-28     12   660.40\n",
       "3  1000_413     1000   2018-12-26     12   270.99\n",
       "4  1000_442     1000   2018-12-27     12   880.22"
      ]
     },
     "execution_count": 52,
     "metadata": {},
     "output_type": "execute_result"
    }
   ],
   "source": [
    "# Definir el orden deseado de las columnas\n",
    "\n",
    "column_order = ['id', 'user_id', 'session_date', 'month', 'mb_used']\n",
    "\n",
    "# Reorganizar el DataFrame con el orden deseado de columnas\n",
    "\n",
    "internet_data = internet_data[column_order]\n",
    "\n",
    "# Mostrar el DataFrame actualizado\n",
    "\n",
    "internet_data.head()"
   ]
  },
  {
   "cell_type": "markdown",
   "metadata": {},
   "source": [
    "## Estudiar las condiciones del plan"
   ]
  },
  {
   "cell_type": "markdown",
   "metadata": {},
   "source": [
    "<div style=\"text-align: justify\">\n",
    "El análisis detallado de las condiciones de los planes de suscripción permite identificar elementos clave, como los minutos, mensajes y datos incluidos en cada oferta, junto con los precios adicionales por exceder esos límites. Esta comprensión nos permitirá evaluar de manera precisa los ingresos generados por cada plan y tomar decisiones informadas sobre el presupuesto de publicidad y las estrategias comerciales más efectivas. \n",
    "</div>"
   ]
  },
  {
   "cell_type": "code",
   "execution_count": 53,
   "metadata": {
    "scrolled": true
   },
   "outputs": [
    {
     "data": {
      "text/html": [
       "<div>\n",
       "<style scoped>\n",
       "    .dataframe tbody tr th:only-of-type {\n",
       "        vertical-align: middle;\n",
       "    }\n",
       "\n",
       "    .dataframe tbody tr th {\n",
       "        vertical-align: top;\n",
       "    }\n",
       "\n",
       "    .dataframe thead th {\n",
       "        text-align: right;\n",
       "    }\n",
       "</style>\n",
       "<table border=\"1\" class=\"dataframe\">\n",
       "  <thead>\n",
       "    <tr style=\"text-align: right;\">\n",
       "      <th></th>\n",
       "      <th>messages_included</th>\n",
       "      <th>mb_per_month_included</th>\n",
       "      <th>gb_per_month_included</th>\n",
       "      <th>minutes_included</th>\n",
       "      <th>usd_monthly_pay</th>\n",
       "      <th>usd_per_message</th>\n",
       "      <th>usd_per_gb</th>\n",
       "      <th>usd_per_minute</th>\n",
       "      <th>plan_name</th>\n",
       "    </tr>\n",
       "  </thead>\n",
       "  <tbody>\n",
       "    <tr>\n",
       "      <th>0</th>\n",
       "      <td>50</td>\n",
       "      <td>15360</td>\n",
       "      <td>15</td>\n",
       "      <td>500</td>\n",
       "      <td>20</td>\n",
       "      <td>0.03</td>\n",
       "      <td>10</td>\n",
       "      <td>0.03</td>\n",
       "      <td>surf</td>\n",
       "    </tr>\n",
       "    <tr>\n",
       "      <th>1</th>\n",
       "      <td>1000</td>\n",
       "      <td>30720</td>\n",
       "      <td>30</td>\n",
       "      <td>3000</td>\n",
       "      <td>70</td>\n",
       "      <td>0.01</td>\n",
       "      <td>7</td>\n",
       "      <td>0.01</td>\n",
       "      <td>ultimate</td>\n",
       "    </tr>\n",
       "  </tbody>\n",
       "</table>\n",
       "</div>"
      ],
      "text/plain": [
       "   messages_included  mb_per_month_included  gb_per_month_included  \\\n",
       "0                 50                  15360                     15   \n",
       "1               1000                  30720                     30   \n",
       "\n",
       "   minutes_included  usd_monthly_pay  usd_per_message  usd_per_gb  \\\n",
       "0               500               20             0.03          10   \n",
       "1              3000               70             0.01           7   \n",
       "\n",
       "   usd_per_minute plan_name  \n",
       "0            0.03      surf  \n",
       "1            0.01  ultimate  "
      ]
     },
     "execution_count": 53,
     "metadata": {},
     "output_type": "execute_result"
    }
   ],
   "source": [
    "# Imprime las condiciones del plan y asegúrate de que te resulten claros\n",
    "\n",
    "plans_data"
   ]
  },
  {
   "cell_type": "markdown",
   "metadata": {},
   "source": [
    "**Descripción de las tarifas en cada Plan:**\n",
    "\n",
    "**Surf**\n",
    "- Pago mensual: 20 USD\n",
    "- 500 minutos al mes, 50 SMS y 15 GB de datos\n",
    "        Si se exceden los límites del paquete:\n",
    "- 1 minuto: 3 centavos\n",
    "- 1 SMS: 3 centavos\n",
    "- 1 GB de datos: 10 USD\n",
    "\n",
    "**Ultimate**\n",
    "- Pago mensual: 70 USD\n",
    "- 3000 minutos al mes, 1000 SMS y 30 GB de datos\n",
    "        Si se exceden los límites del paquete:\n",
    "- 1 minuto: 1 centavo\n",
    "- 1 SMS: 1 centavo\n",
    "- 1 GB de datos: 7 USD\n",
    "\n",
    "**Consideraciones especiales:**\n",
    "Megaline redondea los segundos a minutos y los megabytes a gigabytes. Para llamadas, cada llamada individual se redondea: incluso si la llamada duró solo un segundo, se contará como un minuto. Para tráfico web, las sesiones web individuales no se redondean. En vez de esto, el total del mes se redondea hacia arriba. Si alguien usa 1025 megabytes este mes, se le cobrarán 2 gigabytes."
   ]
  },
  {
   "cell_type": "markdown",
   "metadata": {},
   "source": [
    "## Agregar datos por usuario\n",
    "\n",
    "Vamor a calcular la cantidad de llamadas, minutos, sms y gigabytes consumidos por usuario para cada mes del año 2018. Posteriormente, crearemos un nuevo Dataframe con estos resultados, esta práctica facilitará la identificación de tendencias y patrones de comportamiento de los usuarios a lo largo del tiempo, permitiendo un análisis más profundo y eficiente."
   ]
  },
  {
   "cell_type": "code",
   "execution_count": 54,
   "metadata": {
    "scrolled": true
   },
   "outputs": [],
   "source": [
    "# Calcula el número de llamadas hechas por cada usuario por mes. Guarda el resultado.\n",
    "\n",
    "calls_per_user_per_month= calls_data.pivot_table(index= ['user_id', 'month'], values= 'id', aggfunc= 'count')\n",
    "calls_per_user_per_month= calls_per_user_per_month.rename(columns={'id':'calls_month'})"
   ]
  },
  {
   "cell_type": "code",
   "execution_count": 55,
   "metadata": {
    "scrolled": true
   },
   "outputs": [
    {
     "data": {
      "text/html": [
       "<div>\n",
       "<style scoped>\n",
       "    .dataframe tbody tr th:only-of-type {\n",
       "        vertical-align: middle;\n",
       "    }\n",
       "\n",
       "    .dataframe tbody tr th {\n",
       "        vertical-align: top;\n",
       "    }\n",
       "\n",
       "    .dataframe thead th {\n",
       "        text-align: right;\n",
       "    }\n",
       "</style>\n",
       "<table border=\"1\" class=\"dataframe\">\n",
       "  <thead>\n",
       "    <tr style=\"text-align: right;\">\n",
       "      <th></th>\n",
       "      <th>user_id</th>\n",
       "      <th>month</th>\n",
       "      <th>calls_month</th>\n",
       "    </tr>\n",
       "  </thead>\n",
       "  <tbody>\n",
       "    <tr>\n",
       "      <th>0</th>\n",
       "      <td>1000</td>\n",
       "      <td>12</td>\n",
       "      <td>16</td>\n",
       "    </tr>\n",
       "    <tr>\n",
       "      <th>1</th>\n",
       "      <td>1001</td>\n",
       "      <td>8</td>\n",
       "      <td>27</td>\n",
       "    </tr>\n",
       "    <tr>\n",
       "      <th>2</th>\n",
       "      <td>1001</td>\n",
       "      <td>9</td>\n",
       "      <td>49</td>\n",
       "    </tr>\n",
       "    <tr>\n",
       "      <th>3</th>\n",
       "      <td>1001</td>\n",
       "      <td>10</td>\n",
       "      <td>65</td>\n",
       "    </tr>\n",
       "    <tr>\n",
       "      <th>4</th>\n",
       "      <td>1001</td>\n",
       "      <td>11</td>\n",
       "      <td>64</td>\n",
       "    </tr>\n",
       "    <tr>\n",
       "      <th>...</th>\n",
       "      <td>...</td>\n",
       "      <td>...</td>\n",
       "      <td>...</td>\n",
       "    </tr>\n",
       "    <tr>\n",
       "      <th>2253</th>\n",
       "      <td>1498</td>\n",
       "      <td>12</td>\n",
       "      <td>39</td>\n",
       "    </tr>\n",
       "    <tr>\n",
       "      <th>2254</th>\n",
       "      <td>1499</td>\n",
       "      <td>9</td>\n",
       "      <td>41</td>\n",
       "    </tr>\n",
       "    <tr>\n",
       "      <th>2255</th>\n",
       "      <td>1499</td>\n",
       "      <td>10</td>\n",
       "      <td>53</td>\n",
       "    </tr>\n",
       "    <tr>\n",
       "      <th>2256</th>\n",
       "      <td>1499</td>\n",
       "      <td>11</td>\n",
       "      <td>45</td>\n",
       "    </tr>\n",
       "    <tr>\n",
       "      <th>2257</th>\n",
       "      <td>1499</td>\n",
       "      <td>12</td>\n",
       "      <td>65</td>\n",
       "    </tr>\n",
       "  </tbody>\n",
       "</table>\n",
       "<p>2258 rows × 3 columns</p>\n",
       "</div>"
      ],
      "text/plain": [
       "      user_id  month  calls_month\n",
       "0        1000     12           16\n",
       "1        1001      8           27\n",
       "2        1001      9           49\n",
       "3        1001     10           65\n",
       "4        1001     11           64\n",
       "...       ...    ...          ...\n",
       "2253     1498     12           39\n",
       "2254     1499      9           41\n",
       "2255     1499     10           53\n",
       "2256     1499     11           45\n",
       "2257     1499     12           65\n",
       "\n",
       "[2258 rows x 3 columns]"
      ]
     },
     "execution_count": 55,
     "metadata": {},
     "output_type": "execute_result"
    }
   ],
   "source": [
    "calls_per_user_per_month.reset_index()"
   ]
  },
  {
   "cell_type": "code",
   "execution_count": 56,
   "metadata": {
    "scrolled": true
   },
   "outputs": [],
   "source": [
    "# Calcula la cantidad de minutos que usó cada usuario por mes. Guarda el resultado.\n",
    "\n",
    "minutes_per_user_per_month= calls_data.pivot_table(index= ['user_id', 'month'], values= 'duration_calls', aggfunc= 'sum')"
   ]
  },
  {
   "cell_type": "code",
   "execution_count": 57,
   "metadata": {
    "scrolled": true
   },
   "outputs": [
    {
     "data": {
      "text/html": [
       "<div>\n",
       "<style scoped>\n",
       "    .dataframe tbody tr th:only-of-type {\n",
       "        vertical-align: middle;\n",
       "    }\n",
       "\n",
       "    .dataframe tbody tr th {\n",
       "        vertical-align: top;\n",
       "    }\n",
       "\n",
       "    .dataframe thead th {\n",
       "        text-align: right;\n",
       "    }\n",
       "</style>\n",
       "<table border=\"1\" class=\"dataframe\">\n",
       "  <thead>\n",
       "    <tr style=\"text-align: right;\">\n",
       "      <th></th>\n",
       "      <th>user_id</th>\n",
       "      <th>month</th>\n",
       "      <th>duration_calls</th>\n",
       "    </tr>\n",
       "  </thead>\n",
       "  <tbody>\n",
       "    <tr>\n",
       "      <th>0</th>\n",
       "      <td>1000</td>\n",
       "      <td>12</td>\n",
       "      <td>124</td>\n",
       "    </tr>\n",
       "    <tr>\n",
       "      <th>1</th>\n",
       "      <td>1001</td>\n",
       "      <td>8</td>\n",
       "      <td>182</td>\n",
       "    </tr>\n",
       "    <tr>\n",
       "      <th>2</th>\n",
       "      <td>1001</td>\n",
       "      <td>9</td>\n",
       "      <td>315</td>\n",
       "    </tr>\n",
       "    <tr>\n",
       "      <th>3</th>\n",
       "      <td>1001</td>\n",
       "      <td>10</td>\n",
       "      <td>393</td>\n",
       "    </tr>\n",
       "    <tr>\n",
       "      <th>4</th>\n",
       "      <td>1001</td>\n",
       "      <td>11</td>\n",
       "      <td>426</td>\n",
       "    </tr>\n",
       "    <tr>\n",
       "      <th>...</th>\n",
       "      <td>...</td>\n",
       "      <td>...</td>\n",
       "      <td>...</td>\n",
       "    </tr>\n",
       "    <tr>\n",
       "      <th>2253</th>\n",
       "      <td>1498</td>\n",
       "      <td>12</td>\n",
       "      <td>339</td>\n",
       "    </tr>\n",
       "    <tr>\n",
       "      <th>2254</th>\n",
       "      <td>1499</td>\n",
       "      <td>9</td>\n",
       "      <td>346</td>\n",
       "    </tr>\n",
       "    <tr>\n",
       "      <th>2255</th>\n",
       "      <td>1499</td>\n",
       "      <td>10</td>\n",
       "      <td>385</td>\n",
       "    </tr>\n",
       "    <tr>\n",
       "      <th>2256</th>\n",
       "      <td>1499</td>\n",
       "      <td>11</td>\n",
       "      <td>308</td>\n",
       "    </tr>\n",
       "    <tr>\n",
       "      <th>2257</th>\n",
       "      <td>1499</td>\n",
       "      <td>12</td>\n",
       "      <td>496</td>\n",
       "    </tr>\n",
       "  </tbody>\n",
       "</table>\n",
       "<p>2258 rows × 3 columns</p>\n",
       "</div>"
      ],
      "text/plain": [
       "      user_id  month  duration_calls\n",
       "0        1000     12             124\n",
       "1        1001      8             182\n",
       "2        1001      9             315\n",
       "3        1001     10             393\n",
       "4        1001     11             426\n",
       "...       ...    ...             ...\n",
       "2253     1498     12             339\n",
       "2254     1499      9             346\n",
       "2255     1499     10             385\n",
       "2256     1499     11             308\n",
       "2257     1499     12             496\n",
       "\n",
       "[2258 rows x 3 columns]"
      ]
     },
     "execution_count": 57,
     "metadata": {},
     "output_type": "execute_result"
    }
   ],
   "source": [
    "minutes_per_user_per_month.reset_index()"
   ]
  },
  {
   "cell_type": "code",
   "execution_count": 58,
   "metadata": {
    "scrolled": true
   },
   "outputs": [],
   "source": [
    "# Calcula el número de mensajes enviados por cada usuario por mes. Guarda el resultado.\n",
    "\n",
    "messages_per_user_per_month= messages_data.pivot_table(index= ['user_id', 'month'], values= 'id', aggfunc= 'count')\n",
    "messages_per_user_per_month= messages_per_user_per_month.rename(columns={'id':'messages_month'})"
   ]
  },
  {
   "cell_type": "code",
   "execution_count": 59,
   "metadata": {
    "scrolled": true
   },
   "outputs": [
    {
     "data": {
      "text/html": [
       "<div>\n",
       "<style scoped>\n",
       "    .dataframe tbody tr th:only-of-type {\n",
       "        vertical-align: middle;\n",
       "    }\n",
       "\n",
       "    .dataframe tbody tr th {\n",
       "        vertical-align: top;\n",
       "    }\n",
       "\n",
       "    .dataframe thead th {\n",
       "        text-align: right;\n",
       "    }\n",
       "</style>\n",
       "<table border=\"1\" class=\"dataframe\">\n",
       "  <thead>\n",
       "    <tr style=\"text-align: right;\">\n",
       "      <th></th>\n",
       "      <th>user_id</th>\n",
       "      <th>month</th>\n",
       "      <th>messages_month</th>\n",
       "    </tr>\n",
       "  </thead>\n",
       "  <tbody>\n",
       "    <tr>\n",
       "      <th>0</th>\n",
       "      <td>1000</td>\n",
       "      <td>12</td>\n",
       "      <td>11</td>\n",
       "    </tr>\n",
       "    <tr>\n",
       "      <th>1</th>\n",
       "      <td>1001</td>\n",
       "      <td>8</td>\n",
       "      <td>30</td>\n",
       "    </tr>\n",
       "    <tr>\n",
       "      <th>2</th>\n",
       "      <td>1001</td>\n",
       "      <td>9</td>\n",
       "      <td>44</td>\n",
       "    </tr>\n",
       "    <tr>\n",
       "      <th>3</th>\n",
       "      <td>1001</td>\n",
       "      <td>10</td>\n",
       "      <td>53</td>\n",
       "    </tr>\n",
       "    <tr>\n",
       "      <th>4</th>\n",
       "      <td>1001</td>\n",
       "      <td>11</td>\n",
       "      <td>36</td>\n",
       "    </tr>\n",
       "    <tr>\n",
       "      <th>...</th>\n",
       "      <td>...</td>\n",
       "      <td>...</td>\n",
       "      <td>...</td>\n",
       "    </tr>\n",
       "    <tr>\n",
       "      <th>1801</th>\n",
       "      <td>1496</td>\n",
       "      <td>9</td>\n",
       "      <td>21</td>\n",
       "    </tr>\n",
       "    <tr>\n",
       "      <th>1802</th>\n",
       "      <td>1496</td>\n",
       "      <td>10</td>\n",
       "      <td>18</td>\n",
       "    </tr>\n",
       "    <tr>\n",
       "      <th>1803</th>\n",
       "      <td>1496</td>\n",
       "      <td>11</td>\n",
       "      <td>13</td>\n",
       "    </tr>\n",
       "    <tr>\n",
       "      <th>1804</th>\n",
       "      <td>1496</td>\n",
       "      <td>12</td>\n",
       "      <td>11</td>\n",
       "    </tr>\n",
       "    <tr>\n",
       "      <th>1805</th>\n",
       "      <td>1497</td>\n",
       "      <td>12</td>\n",
       "      <td>50</td>\n",
       "    </tr>\n",
       "  </tbody>\n",
       "</table>\n",
       "<p>1806 rows × 3 columns</p>\n",
       "</div>"
      ],
      "text/plain": [
       "      user_id  month  messages_month\n",
       "0        1000     12              11\n",
       "1        1001      8              30\n",
       "2        1001      9              44\n",
       "3        1001     10              53\n",
       "4        1001     11              36\n",
       "...       ...    ...             ...\n",
       "1801     1496      9              21\n",
       "1802     1496     10              18\n",
       "1803     1496     11              13\n",
       "1804     1496     12              11\n",
       "1805     1497     12              50\n",
       "\n",
       "[1806 rows x 3 columns]"
      ]
     },
     "execution_count": 59,
     "metadata": {},
     "output_type": "execute_result"
    }
   ],
   "source": [
    "messages_per_user_per_month.reset_index()"
   ]
  },
  {
   "cell_type": "code",
   "execution_count": 60,
   "metadata": {
    "scrolled": true
   },
   "outputs": [],
   "source": [
    "# Calcula el volumen del trafico de internet usado por cada usuario por mes. Guarda el resultado.\n",
    "\n",
    "internet_per_user_per_month= internet_data.pivot_table(index= ['user_id','month'], values='mb_used', aggfunc='sum')\n",
    "internet_per_user_per_month= internet_per_user_per_month.rename(columns={'mb_used':'mb_month'})"
   ]
  },
  {
   "cell_type": "code",
   "execution_count": 61,
   "metadata": {
    "scrolled": false
   },
   "outputs": [
    {
     "data": {
      "text/html": [
       "<div>\n",
       "<style scoped>\n",
       "    .dataframe tbody tr th:only-of-type {\n",
       "        vertical-align: middle;\n",
       "    }\n",
       "\n",
       "    .dataframe tbody tr th {\n",
       "        vertical-align: top;\n",
       "    }\n",
       "\n",
       "    .dataframe thead th {\n",
       "        text-align: right;\n",
       "    }\n",
       "</style>\n",
       "<table border=\"1\" class=\"dataframe\">\n",
       "  <thead>\n",
       "    <tr style=\"text-align: right;\">\n",
       "      <th></th>\n",
       "      <th>user_id</th>\n",
       "      <th>month</th>\n",
       "      <th>mb_month</th>\n",
       "    </tr>\n",
       "  </thead>\n",
       "  <tbody>\n",
       "    <tr>\n",
       "      <th>0</th>\n",
       "      <td>1000</td>\n",
       "      <td>12</td>\n",
       "      <td>1901.47</td>\n",
       "    </tr>\n",
       "    <tr>\n",
       "      <th>1</th>\n",
       "      <td>1001</td>\n",
       "      <td>8</td>\n",
       "      <td>6919.15</td>\n",
       "    </tr>\n",
       "    <tr>\n",
       "      <th>2</th>\n",
       "      <td>1001</td>\n",
       "      <td>9</td>\n",
       "      <td>13314.82</td>\n",
       "    </tr>\n",
       "    <tr>\n",
       "      <th>3</th>\n",
       "      <td>1001</td>\n",
       "      <td>10</td>\n",
       "      <td>22330.49</td>\n",
       "    </tr>\n",
       "    <tr>\n",
       "      <th>4</th>\n",
       "      <td>1001</td>\n",
       "      <td>11</td>\n",
       "      <td>18504.30</td>\n",
       "    </tr>\n",
       "    <tr>\n",
       "      <th>...</th>\n",
       "      <td>...</td>\n",
       "      <td>...</td>\n",
       "      <td>...</td>\n",
       "    </tr>\n",
       "    <tr>\n",
       "      <th>2272</th>\n",
       "      <td>1498</td>\n",
       "      <td>12</td>\n",
       "      <td>23137.69</td>\n",
       "    </tr>\n",
       "    <tr>\n",
       "      <th>2273</th>\n",
       "      <td>1499</td>\n",
       "      <td>9</td>\n",
       "      <td>12984.76</td>\n",
       "    </tr>\n",
       "    <tr>\n",
       "      <th>2274</th>\n",
       "      <td>1499</td>\n",
       "      <td>10</td>\n",
       "      <td>19492.43</td>\n",
       "    </tr>\n",
       "    <tr>\n",
       "      <th>2275</th>\n",
       "      <td>1499</td>\n",
       "      <td>11</td>\n",
       "      <td>16813.83</td>\n",
       "    </tr>\n",
       "    <tr>\n",
       "      <th>2276</th>\n",
       "      <td>1499</td>\n",
       "      <td>12</td>\n",
       "      <td>22059.21</td>\n",
       "    </tr>\n",
       "  </tbody>\n",
       "</table>\n",
       "<p>2277 rows × 3 columns</p>\n",
       "</div>"
      ],
      "text/plain": [
       "      user_id  month  mb_month\n",
       "0        1000     12   1901.47\n",
       "1        1001      8   6919.15\n",
       "2        1001      9  13314.82\n",
       "3        1001     10  22330.49\n",
       "4        1001     11  18504.30\n",
       "...       ...    ...       ...\n",
       "2272     1498     12  23137.69\n",
       "2273     1499      9  12984.76\n",
       "2274     1499     10  19492.43\n",
       "2275     1499     11  16813.83\n",
       "2276     1499     12  22059.21\n",
       "\n",
       "[2277 rows x 3 columns]"
      ]
     },
     "execution_count": 61,
     "metadata": {},
     "output_type": "execute_result"
    }
   ],
   "source": [
    "internet_per_user_per_month.reset_index()"
   ]
  },
  {
   "cell_type": "markdown",
   "metadata": {},
   "source": [
    "<div style=\"text-align: justify\">\n",
    "Combinar los datos agregados de llamadas, minutos, mensajes e internet en un único DataFrame. Donde, cada registro representará el consumo de un único usuario en un mes específico. Esta consolidación nos permitirá realizar un análisis más efectivo y comprensible de los patrones de uso de los usuarios a lo largo del tiempo, podremos investigar de manera más eficiente las tendencias mensuales de uso y comparar el consumo entre diferentes usuarios y planes.\n",
    "</div>"
   ]
  },
  {
   "cell_type": "code",
   "execution_count": 62,
   "metadata": {
    "scrolled": true
   },
   "outputs": [],
   "source": [
    "# Combina los datos para las llamadas, minutos, mensajes e internet con base en el user_id y el mes\n",
    "\n",
    "results_data = calls_per_user_per_month.merge(minutes_per_user_per_month, on=['user_id','month'], how='outer')\n",
    "results_data = results_data.merge(messages_per_user_per_month, on=['user_id','month'], how='outer')\n",
    "results_data = results_data.merge(internet_per_user_per_month, on=['user_id','month'], how='outer')"
   ]
  },
  {
   "cell_type": "code",
   "execution_count": 63,
   "metadata": {
    "scrolled": true
   },
   "outputs": [],
   "source": [
    "# Combina los datos de usuarios con el nuevo Dataframe\n",
    "\n",
    "results_data = results_data.merge(users_data[['user_id', 'month','plan','age_group','region']], on=['user_id','month'], how='outer')"
   ]
  },
  {
   "cell_type": "code",
   "execution_count": 64,
   "metadata": {
    "scrolled": true
   },
   "outputs": [],
   "source": [
    "# Rellenar los valores\n",
    "\n",
    "results_data[['plan', 'age_group', 'region']]= results_data.groupby('user_id')[['plan', 'age_group', 'region']].apply(lambda group: group.ffill().bfill())\n",
    "\n",
    "results_data= results_data.fillna(0)"
   ]
  },
  {
   "cell_type": "code",
   "execution_count": 65,
   "metadata": {
    "scrolled": true
   },
   "outputs": [],
   "source": [
    "# Agregar una nueva columna \"code_plan\"\n",
    "\n",
    "plans = {\n",
    "    'surf': 0,\n",
    "    'ultimate': 1\n",
    "}\n",
    "\n",
    "results_data['plan_id'] = results_data['plan'].map(plans).astype('int32')"
   ]
  },
  {
   "cell_type": "code",
   "execution_count": 66,
   "metadata": {
    "scrolled": false
   },
   "outputs": [
    {
     "data": {
      "text/html": [
       "<div>\n",
       "<style scoped>\n",
       "    .dataframe tbody tr th:only-of-type {\n",
       "        vertical-align: middle;\n",
       "    }\n",
       "\n",
       "    .dataframe tbody tr th {\n",
       "        vertical-align: top;\n",
       "    }\n",
       "\n",
       "    .dataframe thead th {\n",
       "        text-align: right;\n",
       "    }\n",
       "</style>\n",
       "<table border=\"1\" class=\"dataframe\">\n",
       "  <thead>\n",
       "    <tr style=\"text-align: right;\">\n",
       "      <th></th>\n",
       "      <th>user_id</th>\n",
       "      <th>month</th>\n",
       "      <th>calls_month</th>\n",
       "      <th>duration_calls</th>\n",
       "      <th>messages_month</th>\n",
       "      <th>mb_month</th>\n",
       "      <th>plan_id</th>\n",
       "      <th>plan</th>\n",
       "      <th>region</th>\n",
       "      <th>age_group</th>\n",
       "    </tr>\n",
       "  </thead>\n",
       "  <tbody>\n",
       "    <tr>\n",
       "      <th>0</th>\n",
       "      <td>1000</td>\n",
       "      <td>12</td>\n",
       "      <td>16.0</td>\n",
       "      <td>124.0</td>\n",
       "      <td>11.0</td>\n",
       "      <td>1901.47</td>\n",
       "      <td>1</td>\n",
       "      <td>ultimate</td>\n",
       "      <td>GA MSA</td>\n",
       "      <td>Adults</td>\n",
       "    </tr>\n",
       "    <tr>\n",
       "      <th>1</th>\n",
       "      <td>1001</td>\n",
       "      <td>8</td>\n",
       "      <td>27.0</td>\n",
       "      <td>182.0</td>\n",
       "      <td>30.0</td>\n",
       "      <td>6919.15</td>\n",
       "      <td>0</td>\n",
       "      <td>surf</td>\n",
       "      <td>WA MSA</td>\n",
       "      <td>Young Adults</td>\n",
       "    </tr>\n",
       "    <tr>\n",
       "      <th>2</th>\n",
       "      <td>1001</td>\n",
       "      <td>9</td>\n",
       "      <td>49.0</td>\n",
       "      <td>315.0</td>\n",
       "      <td>44.0</td>\n",
       "      <td>13314.82</td>\n",
       "      <td>0</td>\n",
       "      <td>surf</td>\n",
       "      <td>WA MSA</td>\n",
       "      <td>Young Adults</td>\n",
       "    </tr>\n",
       "    <tr>\n",
       "      <th>3</th>\n",
       "      <td>1001</td>\n",
       "      <td>10</td>\n",
       "      <td>65.0</td>\n",
       "      <td>393.0</td>\n",
       "      <td>53.0</td>\n",
       "      <td>22330.49</td>\n",
       "      <td>0</td>\n",
       "      <td>surf</td>\n",
       "      <td>WA MSA</td>\n",
       "      <td>Young Adults</td>\n",
       "    </tr>\n",
       "    <tr>\n",
       "      <th>4</th>\n",
       "      <td>1001</td>\n",
       "      <td>11</td>\n",
       "      <td>64.0</td>\n",
       "      <td>426.0</td>\n",
       "      <td>36.0</td>\n",
       "      <td>18504.30</td>\n",
       "      <td>0</td>\n",
       "      <td>surf</td>\n",
       "      <td>WA MSA</td>\n",
       "      <td>Young Adults</td>\n",
       "    </tr>\n",
       "  </tbody>\n",
       "</table>\n",
       "</div>"
      ],
      "text/plain": [
       "   user_id  month  calls_month  duration_calls  messages_month  mb_month  \\\n",
       "0     1000     12         16.0           124.0            11.0   1901.47   \n",
       "1     1001      8         27.0           182.0            30.0   6919.15   \n",
       "2     1001      9         49.0           315.0            44.0  13314.82   \n",
       "3     1001     10         65.0           393.0            53.0  22330.49   \n",
       "4     1001     11         64.0           426.0            36.0  18504.30   \n",
       "\n",
       "   plan_id      plan  region     age_group  \n",
       "0        1  ultimate  GA MSA        Adults  \n",
       "1        0      surf  WA MSA  Young Adults  \n",
       "2        0      surf  WA MSA  Young Adults  \n",
       "3        0      surf  WA MSA  Young Adults  \n",
       "4        0      surf  WA MSA  Young Adults  "
      ]
     },
     "execution_count": 66,
     "metadata": {},
     "output_type": "execute_result"
    }
   ],
   "source": [
    "# Definir el orden deseado de las columnas\n",
    "\n",
    "column_order = ['user_id', 'month', 'calls_month', 'duration_calls', 'messages_month', 'mb_month', 'plan_id', 'plan', 'region', 'age_group']\n",
    "\n",
    "# Reorganizar el DataFrame con el orden deseado de columnas\n",
    "\n",
    "results_data = results_data[column_order]\n",
    "\n",
    "# Mostrar el DataFrame resultante\n",
    "\n",
    "results_data.head()"
   ]
  },
  {
   "cell_type": "markdown",
   "metadata": {},
   "source": [
    "### Ingreso mensual por usuario"
   ]
  },
  {
   "cell_type": "markdown",
   "metadata": {},
   "source": [
    "<div style=\"text-align: justify\">\n",
    "En este apartado se pretende calcular el total de ingresos mensuales según las tarifas para valores adicionales de llamadas, mensajes de texto y datos consumitdos, teniendo en cuenta las condiciones específicas establecidas en cada plan. Para el calculo de los ingresos mensuales correspondientes a cada usuario, primero debemos establecer los límites de cada plan, luego calcular la diferencia entre los valores consumidos vs los valores limites; y, finalmente multiplicamos este resultado por la tarifa adicional.\n",
    "</div>\n",
    "\n",
    "Es importante recalcar que los consumos adicionales de tráfico web se calcularán en base a megabytes y posteriormente esa diferencia sera convertida y redondeada en gigabytes."
   ]
  },
  {
   "cell_type": "code",
   "execution_count": 67,
   "metadata": {
    "scrolled": true
   },
   "outputs": [],
   "source": [
    "# Determina los límites de cada plan\n",
    "\n",
    "surf_limit_minutes= 500\n",
    "surf_limit_messages= 50\n",
    "surf_limit_mb= 15360\n",
    "surf_fee= 20\n",
    "surf_additional_minutes_fee= 0.03\n",
    "surf_additional_messages_fee= 0.03\n",
    "surf_additional_gb_fee= 10\n",
    "\n",
    "ultimate_limit_minutes= 3000\n",
    "ultimate_limit_messages= 1000\n",
    "ultimate_limit_mb= 30720\n",
    "ultimate_fee= 70\n",
    "ultimate_additional_minutes_fee= 0.01\n",
    "ultimate_additional_messages_fee= 0.01\n",
    "ultimate_additional_gb_fee= 7"
   ]
  },
  {
   "cell_type": "code",
   "execution_count": 68,
   "metadata": {
    "scrolled": true
   },
   "outputs": [],
   "source": [
    "# Crear la función para calcular la cantidad de excedentes en cada plan\n",
    "\n",
    "def calculate_additional_values(row):\n",
    "    plan = row['plan']\n",
    "    \n",
    "    if plan == 'surf':\n",
    "        limit_minutes = surf_limit_minutes\n",
    "        limit_messages = surf_limit_messages\n",
    "        gb_limit = surf_limit_mb\n",
    "    \n",
    "    else:\n",
    "        limit_minutes = ultimate_limit_minutes\n",
    "        limit_messages = ultimate_limit_messages\n",
    "        gb_limit = ultimate_limit_mb\n",
    "    \n",
    "    additional_minutes = max(row['duration_calls'] - limit_minutes, 0)\n",
    "    additional_messages = max(row['messages_month'] - limit_messages, 0)\n",
    "    additional_gb = max(row['mb_month'] - gb_limit, 0) / 1024\n",
    "    additional_gb = np.ceil(additional_gb)\n",
    "\n",
    "    return additional_minutes, additional_messages, additional_gb\n",
    "\n",
    "\n",
    "# Crear nuevas columnas 'additional_minutes', 'additional_messages' y 'additional_gb'\n",
    "\n",
    "results_data[['additional_minutes', 'additional_messages', 'additional_gb']] = results_data.apply(calculate_additional_values, axis=1, result_type='expand')"
   ]
  },
  {
   "cell_type": "markdown",
   "metadata": {},
   "source": [
    "<div style=\"text-align: justify\">\n",
    "La expresión **max(row['column']- limit_minutes, 0)**, toma la diferencia entre la duración total de llamadas y el límite de minutos, y si esa diferencia es negativa, se asigna un valor de 0. Esto garantiza que no tengamos ingresos negativos y que solo consideremos los ingresos adicionales por minutos cuando el usuario haya excedido el límite.\n",
    "</div>"
   ]
  },
  {
   "cell_type": "code",
   "execution_count": 69,
   "metadata": {
    "scrolled": true
   },
   "outputs": [],
   "source": [
    "# Crear la función para calcular la cantidad de ingresos en cada plan\n",
    "\n",
    "def calculate_total_income(row):\n",
    "    plan = row['plan']\n",
    "    \n",
    "    if plan == 'surf':\n",
    "        additional_minutes_fee = surf_additional_minutes_fee\n",
    "        additional_messages_fee = surf_additional_messages_fee\n",
    "        additional_gb_fee = surf_additional_gb_fee\n",
    "        base_fee = surf_fee\n",
    "    else:\n",
    "        additional_minutes_fee = ultimate_additional_minutes_fee\n",
    "        additional_messages_fee = ultimate_additional_messages_fee\n",
    "        additional_gb_fee = ultimate_additional_gb_fee\n",
    "        base_fee = ultimate_fee\n",
    "    \n",
    "    total_minutes_income = row['additional_minutes'] * additional_minutes_fee\n",
    "    total_messages_income = row['additional_messages'] * additional_messages_fee\n",
    "    total_gb_income = row['additional_gb'] * additional_gb_fee\n",
    "    \n",
    "    total_income = total_minutes_income + total_messages_income + total_gb_income + base_fee\n",
    "    return total_income\n",
    "\n",
    "# Crear una nueva columna 'total_income'\n",
    "\n",
    "results_data['total_income'] = results_data.apply(calculate_total_income, axis=1)"
   ]
  },
  {
   "cell_type": "code",
   "execution_count": 70,
   "metadata": {
    "scrolled": true
   },
   "outputs": [],
   "source": [
    "# Crear una nueva columna 'gb_month' sin redondear\n",
    "\n",
    "results_data['gb_month'] = results_data['mb_month'] / 1024"
   ]
  },
  {
   "cell_type": "code",
   "execution_count": 71,
   "metadata": {
    "scrolled": true
   },
   "outputs": [
    {
     "data": {
      "text/html": [
       "<div>\n",
       "<style scoped>\n",
       "    .dataframe tbody tr th:only-of-type {\n",
       "        vertical-align: middle;\n",
       "    }\n",
       "\n",
       "    .dataframe tbody tr th {\n",
       "        vertical-align: top;\n",
       "    }\n",
       "\n",
       "    .dataframe thead th {\n",
       "        text-align: right;\n",
       "    }\n",
       "</style>\n",
       "<table border=\"1\" class=\"dataframe\">\n",
       "  <thead>\n",
       "    <tr style=\"text-align: right;\">\n",
       "      <th></th>\n",
       "      <th>user_id</th>\n",
       "      <th>month</th>\n",
       "      <th>calls_month</th>\n",
       "      <th>duration_calls</th>\n",
       "      <th>messages_month</th>\n",
       "      <th>mb_month</th>\n",
       "      <th>gb_month</th>\n",
       "      <th>total_income</th>\n",
       "      <th>plan_id</th>\n",
       "      <th>plan</th>\n",
       "      <th>region</th>\n",
       "      <th>age_group</th>\n",
       "      <th>additional_minutes</th>\n",
       "      <th>additional_messages</th>\n",
       "      <th>additional_gb</th>\n",
       "    </tr>\n",
       "  </thead>\n",
       "  <tbody>\n",
       "    <tr>\n",
       "      <th>0</th>\n",
       "      <td>1000</td>\n",
       "      <td>12</td>\n",
       "      <td>16.0</td>\n",
       "      <td>124.0</td>\n",
       "      <td>11.0</td>\n",
       "      <td>1901.47</td>\n",
       "      <td>1.856904</td>\n",
       "      <td>70.00</td>\n",
       "      <td>1</td>\n",
       "      <td>ultimate</td>\n",
       "      <td>GA MSA</td>\n",
       "      <td>Adults</td>\n",
       "      <td>0.0</td>\n",
       "      <td>0.0</td>\n",
       "      <td>0.0</td>\n",
       "    </tr>\n",
       "    <tr>\n",
       "      <th>1</th>\n",
       "      <td>1001</td>\n",
       "      <td>8</td>\n",
       "      <td>27.0</td>\n",
       "      <td>182.0</td>\n",
       "      <td>30.0</td>\n",
       "      <td>6919.15</td>\n",
       "      <td>6.756982</td>\n",
       "      <td>20.00</td>\n",
       "      <td>0</td>\n",
       "      <td>surf</td>\n",
       "      <td>WA MSA</td>\n",
       "      <td>Young Adults</td>\n",
       "      <td>0.0</td>\n",
       "      <td>0.0</td>\n",
       "      <td>0.0</td>\n",
       "    </tr>\n",
       "    <tr>\n",
       "      <th>2</th>\n",
       "      <td>1001</td>\n",
       "      <td>9</td>\n",
       "      <td>49.0</td>\n",
       "      <td>315.0</td>\n",
       "      <td>44.0</td>\n",
       "      <td>13314.82</td>\n",
       "      <td>13.002754</td>\n",
       "      <td>20.00</td>\n",
       "      <td>0</td>\n",
       "      <td>surf</td>\n",
       "      <td>WA MSA</td>\n",
       "      <td>Young Adults</td>\n",
       "      <td>0.0</td>\n",
       "      <td>0.0</td>\n",
       "      <td>0.0</td>\n",
       "    </tr>\n",
       "    <tr>\n",
       "      <th>3</th>\n",
       "      <td>1001</td>\n",
       "      <td>10</td>\n",
       "      <td>65.0</td>\n",
       "      <td>393.0</td>\n",
       "      <td>53.0</td>\n",
       "      <td>22330.49</td>\n",
       "      <td>21.807119</td>\n",
       "      <td>90.09</td>\n",
       "      <td>0</td>\n",
       "      <td>surf</td>\n",
       "      <td>WA MSA</td>\n",
       "      <td>Young Adults</td>\n",
       "      <td>0.0</td>\n",
       "      <td>3.0</td>\n",
       "      <td>7.0</td>\n",
       "    </tr>\n",
       "    <tr>\n",
       "      <th>4</th>\n",
       "      <td>1001</td>\n",
       "      <td>11</td>\n",
       "      <td>64.0</td>\n",
       "      <td>426.0</td>\n",
       "      <td>36.0</td>\n",
       "      <td>18504.30</td>\n",
       "      <td>18.070605</td>\n",
       "      <td>60.00</td>\n",
       "      <td>0</td>\n",
       "      <td>surf</td>\n",
       "      <td>WA MSA</td>\n",
       "      <td>Young Adults</td>\n",
       "      <td>0.0</td>\n",
       "      <td>0.0</td>\n",
       "      <td>4.0</td>\n",
       "    </tr>\n",
       "  </tbody>\n",
       "</table>\n",
       "</div>"
      ],
      "text/plain": [
       "   user_id  month  calls_month  duration_calls  messages_month  mb_month  \\\n",
       "0     1000     12         16.0           124.0            11.0   1901.47   \n",
       "1     1001      8         27.0           182.0            30.0   6919.15   \n",
       "2     1001      9         49.0           315.0            44.0  13314.82   \n",
       "3     1001     10         65.0           393.0            53.0  22330.49   \n",
       "4     1001     11         64.0           426.0            36.0  18504.30   \n",
       "\n",
       "    gb_month  total_income  plan_id      plan  region     age_group  \\\n",
       "0   1.856904         70.00        1  ultimate  GA MSA        Adults   \n",
       "1   6.756982         20.00        0      surf  WA MSA  Young Adults   \n",
       "2  13.002754         20.00        0      surf  WA MSA  Young Adults   \n",
       "3  21.807119         90.09        0      surf  WA MSA  Young Adults   \n",
       "4  18.070605         60.00        0      surf  WA MSA  Young Adults   \n",
       "\n",
       "   additional_minutes  additional_messages  additional_gb  \n",
       "0                 0.0                  0.0            0.0  \n",
       "1                 0.0                  0.0            0.0  \n",
       "2                 0.0                  0.0            0.0  \n",
       "3                 0.0                  3.0            7.0  \n",
       "4                 0.0                  0.0            4.0  "
      ]
     },
     "execution_count": 71,
     "metadata": {},
     "output_type": "execute_result"
    }
   ],
   "source": [
    "# Definir el orden deseado de las columnas\n",
    "\n",
    "column_order = ['user_id', 'month', 'calls_month', 'duration_calls', 'messages_month', 'mb_month', 'gb_month' ,'total_income', 'plan_id', 'plan', 'region', 'age_group', 'additional_minutes', 'additional_messages', 'additional_gb']\n",
    "\n",
    "# Reorganizar el DataFrame con el orden deseado de columnas\n",
    "\n",
    "results_data = results_data[column_order]\n",
    "\n",
    "# Comprueba los resultados\n",
    "\n",
    "results_data.head()"
   ]
  },
  {
   "cell_type": "markdown",
   "metadata": {},
   "source": [
    "# Estudia el comportamiento del usuario"
   ]
  },
  {
   "cell_type": "markdown",
   "metadata": {},
   "source": [
    "<div style=\"text-align: justify\">\n",
    "En el presente análisis, vamos a hacer uso de las estadísticas descriptivas significativas para los datos fusionados y agregados de minutos, mensajes y gb. Se espera obtener una visión panorámica que refleje los patrones generales captados en los registros. Para lograr una comparación efectiva de los planes y tomar decisiones informadas sobre su rentabilidad, adicionalmente al calculo de estadísticas vamos a trazar gráficos específicos para cada plan.\n",
    "</div>"
   ]
  },
  {
   "cell_type": "markdown",
   "metadata": {},
   "source": [
    "## Llamadas"
   ]
  },
  {
   "cell_type": "code",
   "execution_count": 72,
   "metadata": {
    "scrolled": true
   },
   "outputs": [
    {
     "data": {
      "text/html": [
       "<div>\n",
       "<style scoped>\n",
       "    .dataframe tbody tr th:only-of-type {\n",
       "        vertical-align: middle;\n",
       "    }\n",
       "\n",
       "    .dataframe tbody tr th {\n",
       "        vertical-align: top;\n",
       "    }\n",
       "\n",
       "    .dataframe thead th {\n",
       "        text-align: right;\n",
       "    }\n",
       "</style>\n",
       "<table border=\"1\" class=\"dataframe\">\n",
       "  <thead>\n",
       "    <tr style=\"text-align: right;\">\n",
       "      <th>plan</th>\n",
       "      <th>month</th>\n",
       "      <th>surf</th>\n",
       "      <th>ultimate</th>\n",
       "    </tr>\n",
       "  </thead>\n",
       "  <tbody>\n",
       "    <tr>\n",
       "      <th>0</th>\n",
       "      <td>1</td>\n",
       "      <td>13.533333</td>\n",
       "      <td>40.736842</td>\n",
       "    </tr>\n",
       "    <tr>\n",
       "      <th>1</th>\n",
       "      <td>2</td>\n",
       "      <td>78.617647</td>\n",
       "      <td>166.000000</td>\n",
       "    </tr>\n",
       "    <tr>\n",
       "      <th>2</th>\n",
       "      <td>3</td>\n",
       "      <td>168.666667</td>\n",
       "      <td>182.550000</td>\n",
       "    </tr>\n",
       "    <tr>\n",
       "      <th>3</th>\n",
       "      <td>4</td>\n",
       "      <td>254.739130</td>\n",
       "      <td>262.000000</td>\n",
       "    </tr>\n",
       "    <tr>\n",
       "      <th>4</th>\n",
       "      <td>5</td>\n",
       "      <td>330.838710</td>\n",
       "      <td>327.250000</td>\n",
       "    </tr>\n",
       "    <tr>\n",
       "      <th>5</th>\n",
       "      <td>6</td>\n",
       "      <td>357.572650</td>\n",
       "      <td>305.877193</td>\n",
       "    </tr>\n",
       "    <tr>\n",
       "      <th>6</th>\n",
       "      <td>7</td>\n",
       "      <td>412.484848</td>\n",
       "      <td>376.074627</td>\n",
       "    </tr>\n",
       "    <tr>\n",
       "      <th>7</th>\n",
       "      <td>8</td>\n",
       "      <td>384.034682</td>\n",
       "      <td>364.902439</td>\n",
       "    </tr>\n",
       "    <tr>\n",
       "      <th>8</th>\n",
       "      <td>9</td>\n",
       "      <td>401.800000</td>\n",
       "      <td>413.472527</td>\n",
       "    </tr>\n",
       "    <tr>\n",
       "      <th>9</th>\n",
       "      <td>10</td>\n",
       "      <td>420.851240</td>\n",
       "      <td>442.388889</td>\n",
       "    </tr>\n",
       "    <tr>\n",
       "      <th>10</th>\n",
       "      <td>11</td>\n",
       "      <td>420.354386</td>\n",
       "      <td>434.923077</td>\n",
       "    </tr>\n",
       "    <tr>\n",
       "      <th>11</th>\n",
       "      <td>12</td>\n",
       "      <td>469.408100</td>\n",
       "      <td>459.099338</td>\n",
       "    </tr>\n",
       "  </tbody>\n",
       "</table>\n",
       "</div>"
      ],
      "text/plain": [
       "plan  month        surf    ultimate\n",
       "0         1   13.533333   40.736842\n",
       "1         2   78.617647  166.000000\n",
       "2         3  168.666667  182.550000\n",
       "3         4  254.739130  262.000000\n",
       "4         5  330.838710  327.250000\n",
       "5         6  357.572650  305.877193\n",
       "6         7  412.484848  376.074627\n",
       "7         8  384.034682  364.902439\n",
       "8         9  401.800000  413.472527\n",
       "9        10  420.851240  442.388889\n",
       "10       11  420.354386  434.923077\n",
       "11       12  469.408100  459.099338"
      ]
     },
     "metadata": {},
     "output_type": "display_data"
    },
    {
     "data": {
      "image/png": "[encoded data removed]",
      "text/plain": [
       "<Figure size 864x432 with 1 Axes>"
      ]
     },
     "metadata": {
      "needs_background": "light"
     },
     "output_type": "display_data"
    }
   ],
   "source": [
    "# Compara la duración promedio de llamadas por cada plan por cada mes. Dibuja una gráfica de barras para visualizarlo.\n",
    "\n",
    "avg_duration_calls = results_data.groupby(['month', 'plan'])['duration_calls'].mean().unstack()\n",
    "display (avg_duration_calls.reset_index())\n",
    "\n",
    "\n",
    "fig, ax = plt.subplots(figsize=(12, 6))\n",
    "\n",
    "avg_duration_calls.plot(kind='bar', ax=ax, color=['darkgreen', 'wheat'], edgecolor='white')\n",
    "\n",
    "ax.set_xlabel('Meses')\n",
    "ax.set_title('Promedio Mensual de Duración de Llamadas por Plan')\n",
    "ax.legend(title='Plan', loc='upper left')\n",
    "ax.yaxis.grid(True, linestyle='--', linewidth=0.5)\n",
    "\n",
    "plt.show()"
   ]
  },
  {
   "cell_type": "code",
   "execution_count": 73,
   "metadata": {
    "scrolled": true
   },
   "outputs": [
    {
     "data": {
      "text/html": [
       "<div>\n",
       "<style scoped>\n",
       "    .dataframe tbody tr th:only-of-type {\n",
       "        vertical-align: middle;\n",
       "    }\n",
       "\n",
       "    .dataframe tbody tr th {\n",
       "        vertical-align: top;\n",
       "    }\n",
       "\n",
       "    .dataframe thead th {\n",
       "        text-align: right;\n",
       "    }\n",
       "</style>\n",
       "<table border=\"1\" class=\"dataframe\">\n",
       "  <thead>\n",
       "    <tr style=\"text-align: right;\">\n",
       "      <th>plan</th>\n",
       "      <th>surf</th>\n",
       "      <th>ultimate</th>\n",
       "    </tr>\n",
       "    <tr>\n",
       "      <th>month</th>\n",
       "      <th></th>\n",
       "      <th></th>\n",
       "    </tr>\n",
       "  </thead>\n",
       "  <tbody>\n",
       "    <tr>\n",
       "      <th>1</th>\n",
       "      <td>406.0</td>\n",
       "      <td>774.0</td>\n",
       "    </tr>\n",
       "    <tr>\n",
       "      <th>2</th>\n",
       "      <td>2673.0</td>\n",
       "      <td>2822.0</td>\n",
       "    </tr>\n",
       "    <tr>\n",
       "      <th>3</th>\n",
       "      <td>7590.0</td>\n",
       "      <td>3651.0</td>\n",
       "    </tr>\n",
       "    <tr>\n",
       "      <th>4</th>\n",
       "      <td>17577.0</td>\n",
       "      <td>7074.0</td>\n",
       "    </tr>\n",
       "    <tr>\n",
       "      <th>5</th>\n",
       "      <td>30768.0</td>\n",
       "      <td>11781.0</td>\n",
       "    </tr>\n",
       "    <tr>\n",
       "      <th>6</th>\n",
       "      <td>41836.0</td>\n",
       "      <td>17435.0</td>\n",
       "    </tr>\n",
       "    <tr>\n",
       "      <th>7</th>\n",
       "      <td>54448.0</td>\n",
       "      <td>25197.0</td>\n",
       "    </tr>\n",
       "    <tr>\n",
       "      <th>8</th>\n",
       "      <td>66438.0</td>\n",
       "      <td>29922.0</td>\n",
       "    </tr>\n",
       "    <tr>\n",
       "      <th>9</th>\n",
       "      <td>80360.0</td>\n",
       "      <td>37626.0</td>\n",
       "    </tr>\n",
       "    <tr>\n",
       "      <th>10</th>\n",
       "      <td>101846.0</td>\n",
       "      <td>47778.0</td>\n",
       "    </tr>\n",
       "    <tr>\n",
       "      <th>11</th>\n",
       "      <td>119801.0</td>\n",
       "      <td>56540.0</td>\n",
       "    </tr>\n",
       "    <tr>\n",
       "      <th>12</th>\n",
       "      <td>150680.0</td>\n",
       "      <td>69324.0</td>\n",
       "    </tr>\n",
       "  </tbody>\n",
       "</table>\n",
       "</div>"
      ],
      "text/plain": [
       "plan       surf  ultimate\n",
       "month                    \n",
       "1         406.0     774.0\n",
       "2        2673.0    2822.0\n",
       "3        7590.0    3651.0\n",
       "4       17577.0    7074.0\n",
       "5       30768.0   11781.0\n",
       "6       41836.0   17435.0\n",
       "7       54448.0   25197.0\n",
       "8       66438.0   29922.0\n",
       "9       80360.0   37626.0\n",
       "10     101846.0   47778.0\n",
       "11     119801.0   56540.0\n",
       "12     150680.0   69324.0"
      ]
     },
     "metadata": {},
     "output_type": "display_data"
    },
    {
     "data": {
      "image/png": "[encoded data removed]",
      "text/plain": [
       "<Figure size 864x432 with 1 Axes>"
      ]
     },
     "metadata": {
      "needs_background": "light"
     },
     "output_type": "display_data"
    }
   ],
   "source": [
    "# Compara el número de minutos que los usuarios de cada plan requieren cada mes. Traza un histograma.\n",
    "\n",
    "total_durations_calls= results_data.groupby(['month', 'plan'])['duration_calls'].sum().unstack()\n",
    "display(total_durations_calls)\n",
    "\n",
    "# Crear el DataFrame con los datos\n",
    "calls_values= pd.Series(\n",
    "    [406, 2673, 7590, 17577, 30768, 41836, 54448, 66438, 80360, 101846, 119801, 150680, 774, 2822, 3651, 7074, 11781, 17435, 25197, 29922, 37626, 47778, 56540, 69324]\n",
    "                 )\n",
    "\n",
    "# Crear histogramas para las columnas \"surf\" y \"ultimate\"\n",
    "\n",
    "calls_values.hist(bins= 6 , alpha= 0.7, figsize= (12,6), color= 'mediumblue', label='surf')\n",
    "calls_values.hist(bins= [774, 2822, 3651, 7074, 11781, 17435, 25197, 29922, 37626, 47778, 56540, 69324], alpha= 1, figsize= (12,6), color ='papayawhip', label='ultimate')\n",
    "\n",
    "plt.xlabel('Minutos')\n",
    "plt.title('Distribución de Minutos Mensuales por Plan')\n",
    "plt.legend(title='Plan', loc='upper right')\n",
    "plt.grid(True, linestyle='--', linewidth=0.5)\n",
    "\n",
    "plt.show()"
   ]
  },
  {
   "cell_type": "markdown",
   "metadata": {},
   "source": [
    "<div style=\"text-align: justify\">\n",
    "El uso de un histograma de frecuencias es una herramienta efectiva para visualizar la distribución de variables continuas en un conjunto de datos. Mediante la segmentación de los valores en intervalos discretos, los histogramas nos permiten identificar patrones de uso y observar si los usuarios tienden a concentrar sus llamadas en ciertos rangos de duración.\n",
    "</div>"
   ]
  },
  {
   "cell_type": "code",
   "execution_count": 74,
   "metadata": {},
   "outputs": [
    {
     "data": {
      "image/png": "[encoded data removed]",
      "text/plain": [
       "<Figure size 864x432 with 1 Axes>"
      ]
     },
     "metadata": {
      "needs_background": "light"
     },
     "output_type": "display_data"
    }
   ],
   "source": [
    "# Crear el gráfico de línea\n",
    "\n",
    "total_durations_calls.plot(kind='line', marker='o', figsize=(12, 6))\n",
    "plt.xlabel('Mes')\n",
    "plt.ylabel('Minutos')\n",
    "plt.title('Evolución de la duración mensual de llamadas por plan')\n",
    "plt.legend(title='Plan')\n",
    "plt.show()"
   ]
  },
  {
   "cell_type": "markdown",
   "metadata": {},
   "source": [
    "<div style=\"text-align: justify\">\n",
    "Incluir un gráfico de línea que represente la evolución mensual de la duración de las llamadas por plan en el informe proporciona una representación visual de las tendencias y cambios a lo largo del tiempo, permitiendo una comparación efectiva entre los diferentes planes y respaldando las conclusiones extraídas de los análisis realizados. Además, ofrece una manera intuitiva de detectar posibles valores atípicos en los datos y refuerza la comunicación de los resultados de manera clara y concisa.\n",
    "</div>"
   ]
  },
  {
   "cell_type": "markdown",
   "metadata": {},
   "source": [
    "<div style=\"text-align: justify\">\n",
    "Procedemos a calcular la media, para identificar tendencias generales en la duración de las llamadas, y la varianza en busca de información acerca de la dispersión de los datos alrededor de esta media. La comparación de estas medidas entre los planes \"Surf\" y \"Ultimate\" nos permitirá inferir si los usuarios de cada plan muestran comportamientos distintos en cuanto a la duración de sus llamadas.\n",
    "</div>"
   ]
  },
  {
   "cell_type": "code",
   "execution_count": 75,
   "metadata": {
    "scrolled": false
   },
   "outputs": [
    {
     "name": "stdout",
     "output_type": "stream",
     "text": [
      "Media de la duración mensual de llamadas: plan\n",
      "surf        56201.92\n",
      "ultimate    25827.00\n",
      "dtype: float64\n",
      "\n",
      "Varianza de la duración mensual de llamadas: plan\n",
      "surf        2.202716e+09\n",
      "ultimate    4.784629e+08\n",
      "dtype: float64\n"
     ]
    }
   ],
   "source": [
    "# Calcula la media y la varianza de la duración mensual de llamadas.\n",
    "\n",
    "mean_duration_calls= total_durations_calls.mean()\n",
    "variance_duration_calls= np.var(total_durations_calls)\n",
    "\n",
    "print(\"Media de la duración mensual de llamadas:\", round(mean_duration_calls, 2))\n",
    "print()\n",
    "print(\"Varianza de la duración mensual de llamadas:\", round(variance_duration_calls, 2))"
   ]
  },
  {
   "cell_type": "code",
   "execution_count": 76,
   "metadata": {},
   "outputs": [
    {
     "name": "stdout",
     "output_type": "stream",
     "text": [
      "Mediana de la duración mensual de llamadas: plan\n",
      "surf        48142.0\n",
      "ultimate    21316.0\n",
      "dtype: float64\n",
      "\n",
      "Moda de la duración mensual de llamadas: plan\n",
      "surf        406.0\n",
      "ultimate    774.0\n",
      "dtype: float64\n",
      "\n",
      "Desviación estándar de la duración mensual de llamadas: plan\n",
      "surf        46933.10\n",
      "ultimate    21873.79\n",
      "dtype: float64\n"
     ]
    }
   ],
   "source": [
    "# Calcula los estadísticos de la duración mensual de llamadas\n",
    "\n",
    "median_duration_calls = total_durations_calls.median()\n",
    "mode_duration_calls = total_durations_calls.apply(lambda x: st.mode(x).mode[0])\n",
    "std_deviation_duration_calls = np.std(total_durations_calls)\n",
    "\n",
    "print(\"Mediana de la duración mensual de llamadas:\", round(median_duration_calls, 2))\n",
    "print()\n",
    "print(\"Moda de la duración mensual de llamadas:\", mode_duration_calls)\n",
    "print()\n",
    "print(\"Desviación estándar de la duración mensual de llamadas:\", round(std_deviation_duration_calls, 2))"
   ]
  },
  {
   "cell_type": "code",
   "execution_count": 77,
   "metadata": {
    "scrolled": true
   },
   "outputs": [
    {
     "data": {
      "image/png": "[encoded data removed]",
      "text/plain": [
       "<Figure size 864x432 with 1 Axes>"
      ]
     },
     "metadata": {
      "needs_background": "light"
     },
     "output_type": "display_data"
    }
   ],
   "source": [
    "# Traza un diagrama de caja para visualizar la distribución de la duración mensual de llamadas.\n",
    "\n",
    "total_durations_calls.boxplot( vert=False, figsize=(12, 6), grid= (True), medianprops=dict(color='red', linewidth=1.5))\n",
    "\n",
    "plt.xlabel('Minutos')\n",
    "plt.title ('Distribución de la Duración Mensual de Llamadas')\n",
    "plt.show()"
   ]
  },
  {
   "cell_type": "markdown",
   "metadata": {},
   "source": [
    "**Conclusiones Preliminares**\n",
    "\n",
    "<div style=\"text-align: justify\">\n",
    "En primer lugar, observamos que la duración promedio de las llamadas varía significativamente entre los dos planes. Los usuarios del plan \"surf\" presentan una duración promedio de llamadas mucho más alta en comparación con los usuarios del plan \"ultimate\". En cuanto a la varianza, notamos que los valores difieren entre los dos planes, lo que nos da una idea de cuánto varían las duraciones de las llamadas en cada plan. Los usuarios del plan \"surf\" tienden a tener llamadas más largas en promedio, mientras que los usuarios del plan \"ultimate\" realizan llamadas con una duración promedio más cortas.\n",
    "</div>\n",
    "\n",
    "En resumen, los resultados de las medias y las varianzas nos indican que existe una diferencia en el comportamiento de los usuarios en cuanto a las llamadas entre los planes \"surf\" y \"ultimate\".\n",
    "\n",
    "- Los usuarios del plan \"surf\" tienden a tener llamadas más largas en promedio, mientras que los usuarios del plan \"ultimate\" realizan llamadas con una duración promedio más corta. \n",
    "\n",
    "- Además, la varianza en el plan \"surf\" sugiere una mayor variabilidad en las duraciones de las llamadas, lo que podría indicar una mayor diversidad en los hábitos de llamadas."
   ]
  },
  {
   "cell_type": "markdown",
   "metadata": {},
   "source": [
    "## Mensajes"
   ]
  },
  {
   "cell_type": "code",
   "execution_count": 78,
   "metadata": {
    "scrolled": false
   },
   "outputs": [
    {
     "data": {
      "text/html": [
       "<div>\n",
       "<style scoped>\n",
       "    .dataframe tbody tr th:only-of-type {\n",
       "        vertical-align: middle;\n",
       "    }\n",
       "\n",
       "    .dataframe tbody tr th {\n",
       "        vertical-align: top;\n",
       "    }\n",
       "\n",
       "    .dataframe thead th {\n",
       "        text-align: right;\n",
       "    }\n",
       "</style>\n",
       "<table border=\"1\" class=\"dataframe\">\n",
       "  <thead>\n",
       "    <tr style=\"text-align: right;\">\n",
       "      <th>plan</th>\n",
       "      <th>surf</th>\n",
       "      <th>ultimate</th>\n",
       "    </tr>\n",
       "    <tr>\n",
       "      <th>month</th>\n",
       "      <th></th>\n",
       "      <th></th>\n",
       "    </tr>\n",
       "  </thead>\n",
       "  <tbody>\n",
       "    <tr>\n",
       "      <th>1</th>\n",
       "      <td>21.0</td>\n",
       "      <td>62.0</td>\n",
       "    </tr>\n",
       "    <tr>\n",
       "      <th>2</th>\n",
       "      <td>108.0</td>\n",
       "      <td>151.0</td>\n",
       "    </tr>\n",
       "    <tr>\n",
       "      <th>3</th>\n",
       "      <td>351.0</td>\n",
       "      <td>243.0</td>\n",
       "    </tr>\n",
       "    <tr>\n",
       "      <th>4</th>\n",
       "      <td>870.0</td>\n",
       "      <td>463.0</td>\n",
       "    </tr>\n",
       "    <tr>\n",
       "      <th>5</th>\n",
       "      <td>1849.0</td>\n",
       "      <td>931.0</td>\n",
       "    </tr>\n",
       "    <tr>\n",
       "      <th>6</th>\n",
       "      <td>2454.0</td>\n",
       "      <td>1379.0</td>\n",
       "    </tr>\n",
       "    <tr>\n",
       "      <th>7</th>\n",
       "      <td>3271.0</td>\n",
       "      <td>1937.0</td>\n",
       "    </tr>\n",
       "    <tr>\n",
       "      <th>8</th>\n",
       "      <td>4662.0</td>\n",
       "      <td>2732.0</td>\n",
       "    </tr>\n",
       "    <tr>\n",
       "      <th>9</th>\n",
       "      <td>5968.0</td>\n",
       "      <td>3259.0</td>\n",
       "    </tr>\n",
       "    <tr>\n",
       "      <th>10</th>\n",
       "      <td>8020.0</td>\n",
       "      <td>4181.0</td>\n",
       "    </tr>\n",
       "    <tr>\n",
       "      <th>11</th>\n",
       "      <td>9165.0</td>\n",
       "      <td>4903.0</td>\n",
       "    </tr>\n",
       "    <tr>\n",
       "      <th>12</th>\n",
       "      <td>12275.0</td>\n",
       "      <td>6796.0</td>\n",
       "    </tr>\n",
       "  </tbody>\n",
       "</table>\n",
       "</div>"
      ],
      "text/plain": [
       "plan      surf  ultimate\n",
       "month                   \n",
       "1         21.0      62.0\n",
       "2        108.0     151.0\n",
       "3        351.0     243.0\n",
       "4        870.0     463.0\n",
       "5       1849.0     931.0\n",
       "6       2454.0    1379.0\n",
       "7       3271.0    1937.0\n",
       "8       4662.0    2732.0\n",
       "9       5968.0    3259.0\n",
       "10      8020.0    4181.0\n",
       "11      9165.0    4903.0\n",
       "12     12275.0    6796.0"
      ]
     },
     "metadata": {},
     "output_type": "display_data"
    }
   ],
   "source": [
    "# Compara el número de mensajes que envían los usuarios de cada plan por mes\n",
    "\n",
    "total_messages= results_data.groupby(['month', 'plan'])['messages_month'].sum().unstack()\n",
    "display(total_messages)"
   ]
  },
  {
   "cell_type": "code",
   "execution_count": 79,
   "metadata": {},
   "outputs": [
    {
     "data": {
      "image/png": "[encoded data removed]",
      "text/plain": [
       "<Figure size 864x432 with 1 Axes>"
      ]
     },
     "metadata": {
      "needs_background": "light"
     },
     "output_type": "display_data"
    }
   ],
   "source": [
    "# Crear el DataFrame con los datos\n",
    "\n",
    "messages_values = pd.Series (\n",
    "    [ 21, 62, 108, 151, 243, 351, 463, 870, 931, 1379, 1849, 1937, 2454, 2732, 3259, 3271, 4181, 4662, 4903, 5968, 6796, 8020, 9165, 12275 ]\n",
    "                            )\n",
    "\n",
    "# Crear histogramas para las columnas \"surf\" y \"ultimate\"\n",
    "\n",
    "messages_values.hist(bins= 6 , alpha= 0.7, figsize= (12,6), color= 'green', label='surf')\n",
    "messages_values.hist(bins= [62, 151, 243, 463, 931, 1379, 1937, 2732, 3259, 4181, 4903, 6796], alpha= 1, figsize= (12,6), color ='lightyellow', label='ultimate')\n",
    "\n",
    "plt.xlabel('Mensajes')\n",
    "plt.title('Distribución de la Cantidad Mensual de Mensajes por Plan')\n",
    "plt.legend(title='Plan', loc='upper right')\n",
    "plt.grid(True, linestyle='--', linewidth=0.5)\n",
    "\n",
    "plt.show()"
   ]
  },
  {
   "cell_type": "code",
   "execution_count": 80,
   "metadata": {},
   "outputs": [
    {
     "data": {
      "image/png": "[encoded data removed]",
      "text/plain": [
       "<Figure size 864x432 with 1 Axes>"
      ]
     },
     "metadata": {
      "needs_background": "light"
     },
     "output_type": "display_data"
    }
   ],
   "source": [
    "# Crear el gráfico de línea\n",
    "\n",
    "total_messages.plot(kind='line', marker='o', figsize=(12, 6))\n",
    "plt.xlabel('Mes')\n",
    "plt.ylabel('Cantidad de mensajes')\n",
    "plt.title('Evolución mensual de la cantidad de mensajes por plan')\n",
    "plt.legend(title='Plan')\n",
    "plt.show()"
   ]
  },
  {
   "cell_type": "code",
   "execution_count": 81,
   "metadata": {
    "scrolled": true
   },
   "outputs": [
    {
     "name": "stdout",
     "output_type": "stream",
     "text": [
      "Media de la cantidad mensual de mensajes: plan\n",
      "surf        4084.50\n",
      "ultimate    2253.08\n",
      "dtype: float64\n",
      "\n",
      "Varianza de la cantidad mensual de mensajes: plan\n",
      "surf        14764949.92\n",
      "ultimate     4307875.91\n",
      "dtype: float64\n"
     ]
    }
   ],
   "source": [
    "# Calcula la media y la varianza de la cantidad mensual de mensajes\n",
    "\n",
    "mean_total_messages= total_messages.mean()\n",
    "variance_total_messages= np.var(total_messages)\n",
    "\n",
    "print(\"Media de la cantidad mensual de mensajes:\", round(mean_total_messages, 2))\n",
    "print ()\n",
    "print(\"Varianza de la cantidad mensual de mensajes:\", round(variance_total_messages, 2))"
   ]
  },
  {
   "cell_type": "code",
   "execution_count": 82,
   "metadata": {},
   "outputs": [
    {
     "name": "stdout",
     "output_type": "stream",
     "text": [
      "Mediana de la cantidad mensual de mensajes: plan\n",
      "surf        2862.5\n",
      "ultimate    1658.0\n",
      "dtype: float64\n",
      "\n",
      "Moda de la cantidad mensual de mensajes: plan\n",
      "surf        406.0\n",
      "ultimate    774.0\n",
      "dtype: float64\n",
      "\n",
      "Desviación estándar de la cantidad mensual de mensajes: plan\n",
      "surf        3842.52\n",
      "ultimate    2075.54\n",
      "dtype: float64\n"
     ]
    }
   ],
   "source": [
    "# Calcula los estadísticos de la cantidad mensual de mensajes\n",
    "\n",
    "median_total_messages = total_messages.median()\n",
    "mode_total_messages = total_messages.apply(lambda x: st.mode(x).mode[0])\n",
    "std_deviation_total_messages = np.std(total_messages)\n",
    "\n",
    "print(\"Mediana de la cantidad mensual de mensajes:\", round(median_total_messages, 2))\n",
    "print()\n",
    "print(\"Moda de la cantidad mensual de mensajes:\", mode_duration_calls)\n",
    "print()\n",
    "print(\"Desviación estándar de la cantidad mensual de mensajes:\", round(std_deviation_total_messages, 2))"
   ]
  },
  {
   "cell_type": "code",
   "execution_count": 83,
   "metadata": {
    "scrolled": true
   },
   "outputs": [
    {
     "data": {
      "image/png": "[encoded data removed]",
      "text/plain": [
       "<Figure size 864x432 with 1 Axes>"
      ]
     },
     "metadata": {
      "needs_background": "light"
     },
     "output_type": "display_data"
    }
   ],
   "source": [
    "# Traza un diagrama de caja para visualizar la distribución de la cantidad mensual de mensajes.\n",
    "\n",
    "total_messages.boxplot( vert=False, figsize=(12, 6), grid= (True), medianprops=dict(color='red', linewidth=1.5))\n",
    "\n",
    "plt.xlabel('Mensajes')\n",
    "plt.title ('Distribución de la Cantidad Mensual de Mensajes')\n",
    "plt.show()"
   ]
  },
  {
   "cell_type": "markdown",
   "metadata": {},
   "source": [
    "**Conclusiones Preliminares:**\n",
    "\n",
    "<div style=\"text-align: justify\">\n",
    "Al analizar los datos de comportamiento de los usuarios en cuanto a la cantidad mensual de mensajes, se observan diferencias notables entre los planes. La media de la cantidad mensual de mensajes para el plan \"surf\" es de casi el doble que para el plan \"ultimate\". Respecto a la varianza los valores difieren significativamente entre los dos planes. Para el plan \"surf\" sugiere que la cantidad de mensajes tiende a variar más ampliamente en comparación con los usuarios del plan \"ultimate\".\n",
    "</div>\n",
    "\n",
    "En resumen, los datos sugieren que los usuarios de los planes \"surf\" y \"ultimate\" muestran comportamientos distintos en cuanto a la cantidad mensual de mensajes. \n",
    "\n",
    "- Los usuarios del plan \"surf\" tienen una media y una varianza más altas en comparación con los usuarios del plan \"ultimate\", lo que podría indicar una mayor heterogeneidad en el comportamiento de los usuarios.\n",
    "\n",
    "- Los usuarios del plan \"surf\" tienden a enviar más mensajes que los usuarios del plan \"ultimate\"."
   ]
  },
  {
   "cell_type": "markdown",
   "metadata": {},
   "source": [
    "## Internet"
   ]
  },
  {
   "cell_type": "code",
   "execution_count": 84,
   "metadata": {
    "scrolled": true
   },
   "outputs": [
    {
     "data": {
      "text/html": [
       "<div>\n",
       "<style scoped>\n",
       "    .dataframe tbody tr th:only-of-type {\n",
       "        vertical-align: middle;\n",
       "    }\n",
       "\n",
       "    .dataframe tbody tr th {\n",
       "        vertical-align: top;\n",
       "    }\n",
       "\n",
       "    .dataframe thead th {\n",
       "        text-align: right;\n",
       "    }\n",
       "</style>\n",
       "<table border=\"1\" class=\"dataframe\">\n",
       "  <thead>\n",
       "    <tr style=\"text-align: right;\">\n",
       "      <th>plan</th>\n",
       "      <th>surf</th>\n",
       "      <th>ultimate</th>\n",
       "    </tr>\n",
       "    <tr>\n",
       "      <th>month</th>\n",
       "      <th></th>\n",
       "      <th></th>\n",
       "    </tr>\n",
       "  </thead>\n",
       "  <tbody>\n",
       "    <tr>\n",
       "      <th>1</th>\n",
       "      <td>9.52</td>\n",
       "      <td>27.02</td>\n",
       "    </tr>\n",
       "    <tr>\n",
       "      <th>2</th>\n",
       "      <td>107.04</td>\n",
       "      <td>117.09</td>\n",
       "    </tr>\n",
       "    <tr>\n",
       "      <th>3</th>\n",
       "      <td>299.75</td>\n",
       "      <td>214.71</td>\n",
       "    </tr>\n",
       "    <tr>\n",
       "      <th>4</th>\n",
       "      <td>585.17</td>\n",
       "      <td>330.62</td>\n",
       "    </tr>\n",
       "    <tr>\n",
       "      <th>5</th>\n",
       "      <td>1047.95</td>\n",
       "      <td>470.81</td>\n",
       "    </tr>\n",
       "    <tr>\n",
       "      <th>6</th>\n",
       "      <td>1449.46</td>\n",
       "      <td>703.99</td>\n",
       "    </tr>\n",
       "    <tr>\n",
       "      <th>7</th>\n",
       "      <td>1983.22</td>\n",
       "      <td>941.74</td>\n",
       "    </tr>\n",
       "    <tr>\n",
       "      <th>8</th>\n",
       "      <td>2657.07</td>\n",
       "      <td>1235.20</td>\n",
       "    </tr>\n",
       "    <tr>\n",
       "      <th>9</th>\n",
       "      <td>3143.30</td>\n",
       "      <td>1425.20</td>\n",
       "    </tr>\n",
       "    <tr>\n",
       "      <th>10</th>\n",
       "      <td>4006.63</td>\n",
       "      <td>1823.17</td>\n",
       "    </tr>\n",
       "    <tr>\n",
       "      <th>11</th>\n",
       "      <td>4515.63</td>\n",
       "      <td>2112.58</td>\n",
       "    </tr>\n",
       "    <tr>\n",
       "      <th>12</th>\n",
       "      <td>5630.98</td>\n",
       "      <td>2701.96</td>\n",
       "    </tr>\n",
       "  </tbody>\n",
       "</table>\n",
       "</div>"
      ],
      "text/plain": [
       "plan      surf  ultimate\n",
       "month                   \n",
       "1         9.52     27.02\n",
       "2       107.04    117.09\n",
       "3       299.75    214.71\n",
       "4       585.17    330.62\n",
       "5      1047.95    470.81\n",
       "6      1449.46    703.99\n",
       "7      1983.22    941.74\n",
       "8      2657.07   1235.20\n",
       "9      3143.30   1425.20\n",
       "10     4006.63   1823.17\n",
       "11     4515.63   2112.58\n",
       "12     5630.98   2701.96"
      ]
     },
     "execution_count": 84,
     "metadata": {},
     "output_type": "execute_result"
    }
   ],
   "source": [
    "# Compara la cantidad de tráfico de internet consumido por usuarios por plan\n",
    "\n",
    "total_gbs= results_data.groupby(['month', 'plan'])['gb_month'].sum().unstack().round(2)\n",
    "total_gbs"
   ]
  },
  {
   "cell_type": "code",
   "execution_count": 85,
   "metadata": {},
   "outputs": [
    {
     "data": {
      "image/png": "[encoded data removed]",
      "text/plain": [
       "<Figure size 864x432 with 1 Axes>"
      ]
     },
     "metadata": {
      "needs_background": "light"
     },
     "output_type": "display_data"
    }
   ],
   "source": [
    "# Crear el DataFrame con los datos\n",
    "\n",
    "gbs_values = pd.Series([9.52, 27.02, 107.04, 117.09, 299.75, 214.71, 585.17, 330.62, 1047.95, 470.81, 1449.46, 703.99, 1983.22, 941.74, 2657.07, 1235.20, 3143.30, 1425.20, 4006.63, 1823.17, 4515.63, 2112.57, 5630.98, 2701.96])\n",
    "\n",
    "# Crear histogramas para las columnas \"surf\" y \"ultimate\"\n",
    "\n",
    "gbs_values.hist(bins= 6 , alpha= 0.7, figsize= (12,6), color= 'brown', label='surf')\n",
    "gbs_values.hist(bins= [27.02, 117.09, 214.71, 330.62, 470.81, 703.99, 941.74, 1235.20, 1425.20, 1823.17, 2112.58, 2701.96], alpha= 1, figsize= (12,6), color ='peachpuff', label='ultimate')\n",
    "\n",
    "plt.xlabel('GBs')\n",
    "plt.title('Distribución del Consumo Mensual de Gigabytes por Plan')\n",
    "plt.legend(title='Plan', loc='upper right')\n",
    "plt.grid(True, linestyle='--', linewidth=0.5)\n",
    "\n",
    "plt.show()"
   ]
  },
  {
   "cell_type": "code",
   "execution_count": 86,
   "metadata": {},
   "outputs": [
    {
     "data": {
      "image/png": "[encoded data removed]",
      "text/plain": [
       "<Figure size 864x432 with 1 Axes>"
      ]
     },
     "metadata": {
      "needs_background": "light"
     },
     "output_type": "display_data"
    }
   ],
   "source": [
    "# Crear el gráfico de línea\n",
    "\n",
    "total_gbs.plot(kind='line', marker='o', figsize=(12, 6))\n",
    "plt.xlabel('Mes')\n",
    "plt.ylabel('Cantidad de GB')\n",
    "plt.title('Evolución mensual del consumo de Gigabytes por plan')\n",
    "plt.legend(title='Plan')\n",
    "plt.show()"
   ]
  },
  {
   "cell_type": "code",
   "execution_count": 87,
   "metadata": {
    "scrolled": true
   },
   "outputs": [
    {
     "name": "stdout",
     "output_type": "stream",
     "text": [
      "Media del consumo mensual de gigabytes: plan\n",
      "surf        2119.64\n",
      "ultimate    1008.67\n",
      "dtype: float64\n",
      "\n",
      "Varianza del consumo mensual de gigabytes: plan\n",
      "surf        3229479.40\n",
      "ultimate     684112.54\n",
      "dtype: float64\n"
     ]
    }
   ],
   "source": [
    "# Calcula la media y la varianza del consumo mensual de gigabytes\n",
    "\n",
    "mean_total_gbs= total_gbs.mean()\n",
    "variance_total_gbs= np.var(total_gbs)\n",
    "\n",
    "print(\"Media del consumo mensual de gigabytes:\", round(mean_total_gbs, 2))\n",
    "print ()\n",
    "print(\"Varianza del consumo mensual de gigabytes:\", round(variance_total_gbs, 2))"
   ]
  },
  {
   "cell_type": "code",
   "execution_count": 88,
   "metadata": {},
   "outputs": [
    {
     "name": "stdout",
     "output_type": "stream",
     "text": [
      "Mediana del consumo mensual de gigabytes: plan\n",
      "surf        1716.34\n",
      "ultimate     822.86\n",
      "dtype: float64\n",
      "\n",
      "Moda del consumo mensual de gigabytes: plan\n",
      "surf         9.52\n",
      "ultimate    27.02\n",
      "dtype: float64\n",
      "\n",
      "Desviación estándar del consumo mensual de gigabytes: plan\n",
      "surf        1797.08\n",
      "ultimate     827.11\n",
      "dtype: float64\n"
     ]
    }
   ],
   "source": [
    "# Calcula los estadísticos del consumo mensual de gigabytes\n",
    "\n",
    "median_total_gbs = total_gbs.median()\n",
    "mode_total_gbs = total_gbs.apply(lambda x: st.mode(x).mode[0])\n",
    "std_deviation_total_gbs = np.std(total_gbs)\n",
    "\n",
    "print(\"Mediana del consumo mensual de gigabytes:\", round(median_total_gbs, 2))\n",
    "print()\n",
    "print(\"Moda del consumo mensual de gigabytes:\", mode_total_gbs)\n",
    "print()\n",
    "print(\"Desviación estándar del consumo mensual de gigabytes:\", round(std_deviation_total_gbs, 2))"
   ]
  },
  {
   "cell_type": "code",
   "execution_count": 89,
   "metadata": {
    "scrolled": true
   },
   "outputs": [
    {
     "data": {
      "image/png": "[encoded data removed]",
      "text/plain": [
       "<Figure size 864x432 with 1 Axes>"
      ]
     },
     "metadata": {
      "needs_background": "light"
     },
     "output_type": "display_data"
    }
   ],
   "source": [
    "# Traza un diagrama de caja para visualizar la distribución del consumo mensual de gigabytes\n",
    "\n",
    "total_gbs.boxplot( vert=False, figsize=(12, 6), grid= (True), medianprops=dict(color='red', linewidth=1.5))\n",
    "\n",
    "plt.xlabel('Gbs')\n",
    "plt.title ('Distribución del Consumo Mensual de Gigabytes')\n",
    "plt.show()"
   ]
  },
  {
   "cell_type": "markdown",
   "metadata": {},
   "source": [
    "**Conclusiones Preliminares:**\n",
    "\n",
    "<div style=\"text-align: justify\">\n",
    "Los resultados estadísticos indican que los usuarios de diferentes planes muestran comportamientos distintos en cuanto al consumo mensual de gigabytes. La comparación entre las medias del consumo mensual de gigabytes para los dos planes, sugiere que los usuarios del plan \"surf\" tienden a consumir más gigabytes en promedio por mes en comparación con los usuarios del plan \"ultimate\". Además, existe una mayor dispersión en los datos de consumo para los usuarios de \"surf\"\n",
    "</div>\n",
    "\n",
    "En resumen, estos resultados sugieren que los usuarios del plan \"surf\" tienden a tener un rango de consumo más amplio en comparación con los usuarios del plan \"ultimate\", que muestran un consumo mensual más constante y menos variable en términos de gigabytes utilizados."
   ]
  },
  {
   "cell_type": "markdown",
   "metadata": {},
   "source": [
    "## Ingreso"
   ]
  },
  {
   "cell_type": "markdown",
   "metadata": {},
   "source": [
    "Vamos a continuar nuestro análisis al explorar los ingresos mensuales generados por cada plan, utilizando un enfoque estadístico similar al utilizado para comprender el comportamiento de los usuarios en el proyecto"
   ]
  },
  {
   "cell_type": "code",
   "execution_count": 90,
   "metadata": {
    "scrolled": true
   },
   "outputs": [
    {
     "data": {
      "text/html": [
       "<div>\n",
       "<style scoped>\n",
       "    .dataframe tbody tr th:only-of-type {\n",
       "        vertical-align: middle;\n",
       "    }\n",
       "\n",
       "    .dataframe tbody tr th {\n",
       "        vertical-align: top;\n",
       "    }\n",
       "\n",
       "    .dataframe thead th {\n",
       "        text-align: right;\n",
       "    }\n",
       "</style>\n",
       "<table border=\"1\" class=\"dataframe\">\n",
       "  <thead>\n",
       "    <tr style=\"text-align: right;\">\n",
       "      <th>plan</th>\n",
       "      <th>surf</th>\n",
       "      <th>ultimate</th>\n",
       "    </tr>\n",
       "    <tr>\n",
       "      <th>month</th>\n",
       "      <th></th>\n",
       "      <th></th>\n",
       "    </tr>\n",
       "  </thead>\n",
       "  <tbody>\n",
       "    <tr>\n",
       "      <th>1</th>\n",
       "      <td>600.00</td>\n",
       "      <td>1330.0</td>\n",
       "    </tr>\n",
       "    <tr>\n",
       "      <th>2</th>\n",
       "      <td>809.57</td>\n",
       "      <td>1190.0</td>\n",
       "    </tr>\n",
       "    <tr>\n",
       "      <th>3</th>\n",
       "      <td>1496.65</td>\n",
       "      <td>1456.0</td>\n",
       "    </tr>\n",
       "    <tr>\n",
       "      <th>4</th>\n",
       "      <td>2415.53</td>\n",
       "      <td>1953.0</td>\n",
       "    </tr>\n",
       "    <tr>\n",
       "      <th>5</th>\n",
       "      <td>3987.37</td>\n",
       "      <td>2541.0</td>\n",
       "    </tr>\n",
       "    <tr>\n",
       "      <th>6</th>\n",
       "      <td>5179.80</td>\n",
       "      <td>4067.0</td>\n",
       "    </tr>\n",
       "    <tr>\n",
       "      <th>7</th>\n",
       "      <td>7803.56</td>\n",
       "      <td>4802.0</td>\n",
       "    </tr>\n",
       "    <tr>\n",
       "      <th>8</th>\n",
       "      <td>10576.85</td>\n",
       "      <td>5943.0</td>\n",
       "    </tr>\n",
       "    <tr>\n",
       "      <th>9</th>\n",
       "      <td>11424.67</td>\n",
       "      <td>6545.0</td>\n",
       "    </tr>\n",
       "    <tr>\n",
       "      <th>10</th>\n",
       "      <td>15604.83</td>\n",
       "      <td>7805.0</td>\n",
       "    </tr>\n",
       "    <tr>\n",
       "      <th>11</th>\n",
       "      <td>16455.21</td>\n",
       "      <td>9317.0</td>\n",
       "    </tr>\n",
       "    <tr>\n",
       "      <th>12</th>\n",
       "      <td>22497.14</td>\n",
       "      <td>11067.0</td>\n",
       "    </tr>\n",
       "  </tbody>\n",
       "</table>\n",
       "</div>"
      ],
      "text/plain": [
       "plan       surf  ultimate\n",
       "month                    \n",
       "1        600.00    1330.0\n",
       "2        809.57    1190.0\n",
       "3       1496.65    1456.0\n",
       "4       2415.53    1953.0\n",
       "5       3987.37    2541.0\n",
       "6       5179.80    4067.0\n",
       "7       7803.56    4802.0\n",
       "8      10576.85    5943.0\n",
       "9      11424.67    6545.0\n",
       "10     15604.83    7805.0\n",
       "11     16455.21    9317.0\n",
       "12     22497.14   11067.0"
      ]
     },
     "metadata": {},
     "output_type": "display_data"
    },
    {
     "data": {
      "image/png": "[encoded data removed]",
      "text/plain": [
       "<Figure size 864x432 with 1 Axes>"
      ]
     },
     "metadata": {
      "needs_background": "light"
     },
     "output_type": "display_data"
    }
   ],
   "source": [
    "# Compara los ingresos mensuales por cada plan. Dibuja una gráfica de barras para visualizarlo.\n",
    "\n",
    "comparative_income= results_data.groupby(['month', 'plan'])['total_income'].sum().unstack()\n",
    "display (comparative_income)\n",
    "\n",
    "\n",
    "fig, ax = plt.subplots(figsize=(12, 6))\n",
    "\n",
    "comparative_income.plot(kind='bar', ax=ax, color=['navy', 'moccasin'], edgecolor='white')\n",
    "ax.set_xlabel('Meses')\n",
    "ax.set_title('Ingresos Mensuales por Plan')\n",
    "ax.legend(title='Plan', loc='upper left')\n",
    "ax.yaxis.grid(True, linestyle='--', linewidth=0.5)\n",
    "plt.show()"
   ]
  },
  {
   "cell_type": "code",
   "execution_count": 91,
   "metadata": {},
   "outputs": [
    {
     "data": {
      "image/png": "[encoded data removed]",
      "text/plain": [
       "<Figure size 864x432 with 1 Axes>"
      ]
     },
     "metadata": {
      "needs_background": "light"
     },
     "output_type": "display_data"
    }
   ],
   "source": [
    "# Crear el gráfico de línea\n",
    "\n",
    "comparative_income.plot(kind='line', marker='o', figsize=(12, 6))\n",
    "plt.xlabel('Mes')\n",
    "plt.ylabel('Ingresos')\n",
    "plt.title('Evolución del Ingreso Mensual por plan')\n",
    "plt.legend(title='Plan')\n",
    "plt.show()"
   ]
  },
  {
   "cell_type": "code",
   "execution_count": 92,
   "metadata": {
    "scrolled": false
   },
   "outputs": [
    {
     "name": "stdout",
     "output_type": "stream",
     "text": [
      "Media del ingreso mensual por plan: plan\n",
      "surf        8237.60\n",
      "ultimate    4834.67\n",
      "dtype: float64\n",
      "\n",
      "Varianza del ingreso mensual por plan: plan\n",
      "surf        46768136.23\n",
      "ultimate    10253897.89\n",
      "dtype: float64\n"
     ]
    }
   ],
   "source": [
    "# Calcula la media y la varianza del ingreso mensual por plan\n",
    "\n",
    "mean_total_income= comparative_income.mean()\n",
    "variance_total_income= np.var(comparative_income)\n",
    "\n",
    "print(\"Media del ingreso mensual por plan:\", round(mean_total_income, 2))\n",
    "print ()\n",
    "print(\"Varianza del ingreso mensual por plan:\", round(variance_total_income, 2))"
   ]
  },
  {
   "cell_type": "code",
   "execution_count": 93,
   "metadata": {},
   "outputs": [
    {
     "name": "stdout",
     "output_type": "stream",
     "text": [
      "Mediana del ingreso mensual por plan: plan\n",
      "surf        6491.68\n",
      "ultimate    4434.50\n",
      "dtype: float64\n",
      "\n",
      "Moda del ingreso mensual por plan: plan\n",
      "surf         600.0\n",
      "ultimate    1190.0\n",
      "dtype: float64\n",
      "\n",
      "Desviación estándar del ingreso mensual por plan: plan\n",
      "surf        6838.72\n",
      "ultimate    3202.17\n",
      "dtype: float64\n"
     ]
    }
   ],
   "source": [
    "# Calcula los estadísticos del ingreso mensual por plan\n",
    "\n",
    "median_total_income = comparative_income.median()\n",
    "mode_total_income = comparative_income.apply(lambda x: st.mode(x).mode[0])\n",
    "std_deviation_total_income = np.std(comparative_income)\n",
    "\n",
    "print(\"Mediana del ingreso mensual por plan:\", round(median_total_income, 2))\n",
    "print()\n",
    "print(\"Moda del ingreso mensual por plan:\", mode_total_income)\n",
    "print()\n",
    "print(\"Desviación estándar del ingreso mensual por plan:\", round(std_deviation_total_income, 2))"
   ]
  },
  {
   "cell_type": "code",
   "execution_count": 94,
   "metadata": {
    "scrolled": true
   },
   "outputs": [
    {
     "data": {
      "image/png": "[encoded data removed]",
      "text/plain": [
       "<Figure size 864x432 with 1 Axes>"
      ]
     },
     "metadata": {
      "needs_background": "light"
     },
     "output_type": "display_data"
    }
   ],
   "source": [
    "# Traza un diagrama de caja para visualizar la distribución del ingreso mensual\n",
    "\n",
    "comparative_income.boxplot( vert=False, figsize=(12, 6), grid= (True), medianprops=dict(color='red', linewidth=1.5))\n",
    "\n",
    "plt.xlabel('Ingresos')\n",
    "plt.title ('Distribución del Ingreso Mensual por Plan')\n",
    "plt.show()"
   ]
  },
  {
   "cell_type": "markdown",
   "metadata": {},
   "source": [
    "**Conclusiones Preliminares:**\n",
    "\n",
    "<div style=\"text-align: justify\">\n",
    "En base al análisis de los ingresos mensuales por plan, existe una diferencia significativa entre ambos planes, por ejemplo la media del ingreso mensual para el plan 'surf' es de casi el doble del plan 'ultimate'. Esta disparidad sugiere que los usuarios del plan 'surf' generan, en promedio, mayores ingresos que los usuarios del plan 'ultimate'. El plan 'surf' tiene una varianza más alta que el plan 'ultimate', lo cual indica una mayor variabilidad en los ingresos mensuales para el plan 'surf', lo que posiblemente se relacione con un mayor consumo adicional de servicios y una mayor fluctuación en el uso.\n",
    "</div>\n",
    "\n",
    "- En resumen, los datos muestran que los usuarios del plan 'surf' tienden a generar más ingresos en promedio y presentan una mayor variabilidad en sus ingresos mensuales en comparación con los usuarios del plan 'ultimate'. \n",
    "\n",
    "- Estas diferencias pueden estar relacionadas con las características y limitaciones de cada plan, así como con el comportamiento y las necesidades de los usuarios que eligen cada opción."
   ]
  },
  {
   "cell_type": "markdown",
   "metadata": {},
   "source": [
    "# Probar las hipótesis estadísticas."
   ]
  },
  {
   "cell_type": "markdown",
   "metadata": {},
   "source": [
    "En el siguiente análisis, procederemos a evaluar la validez de dos hipótesis:\n",
    "\n",
    "- El ingreso promedio de los usuarios de las tarifas Ultimate y Surf difiere.\n",
    "- El ingreso promedio de los usuarios en el área de estados Nueva York-Nueva Jersey es diferente al de los usuarios de otras regiones.\n",
    "\n",
    "<div style=\"text-align: justify\">\n",
    "En primer lugar, examinaremos si existe una diferencia en el ingreso promedio entre los usuarios de las tarifas \"Ultimate\" y \"Surf\". Posteriormente, abordaremos la hipótesis relacionada con la ubicación geográfica, investigando si el ingreso promedio de los usuarios en el área de estados Nueva York-Nueva Jersey es estadísticamente diferente al de los usuarios en otras regiones. Mediante estas pruebas, buscaremos obtener una comprensión más profunda de las posibles disparidades en los ingresos entre diferentes planes y ubicaciones geográficas.\n",
    "</div>"
   ]
  },
  {
   "cell_type": "markdown",
   "metadata": {},
   "source": [
    "## Prueba hipótesis 1"
   ]
  },
  {
   "cell_type": "markdown",
   "metadata": {},
   "source": [
    "**Selección de criterios de pruebas estadísticas**\n",
    "\n",
    "  - La hipótesis nula representa la afirmación que estamos tratando de poner a prueba y asume que no hay diferencia entre los ingresos de ambos planes. En ese sentido, la correspondiente hipótesis alternativa es la afirmación contraria a la hipótesis nula y describe el efecto o diferencia que estamos tratando de detectar.\n",
    "\n",
    "\n",
    "  - Dentro del contexto para rechazar o no la hipótesis nula planteada, donde queremos conocer sí difieren o no los ingresos en ambos planes. La 'Hipótesis sobre la igualdad de las medias de dos poblaciones', se utiliza cuando no se puede asumir la igualdad de varianzas entre los grupos, y dado que conocemos que las varianzas son significativamente diferentes entre los datos de los planes \"Surf\" y \"Ultimate\", se recomienda el uso de la Prueba t de Welch. Para el valor de significancia se establece un valor comúnmente utilizado. "
   ]
  },
  {
   "cell_type": "markdown",
   "metadata": {},
   "source": [
    "**Hipótesis Nula (H0):** El ingreso promedio de los usuarios de los planes de llamada \"Ultimate\" y \"Surf\" es igual.\n",
    "\n",
    "**Hipótesis Alternativa (H1):** El ingreso promedio de los usuarios de los planes de llamada \"Ultimate\" y \"Surf\" es diferente.\n",
    "\n",
    "**Prueba Estadística:** Prueba t de Welch (Hipótesis sobre la igualdad de las medias de 2 poblaciones).\n",
    "\n",
    "**Valor Alfa (α):** 0.05"
   ]
  },
  {
   "cell_type": "code",
   "execution_count": 95,
   "metadata": {
    "scrolled": true
   },
   "outputs": [
    {
     "name": "stdout",
     "output_type": "stream",
     "text": [
      "Prueba t de Welch:\n",
      "p-value: 0.154965217879807\n",
      "No se puede rechazar la hipótesis nula: No hay evidencia suficiente para afirmar una diferencia estadísticamente significativa en los ingresos promedio entre los planes Surf y Ultimate.\n"
     ]
    }
   ],
   "source": [
    "# Prueba la hipótesis, realizar la prueba t de Welch\n",
    "\n",
    "surf_income = comparative_income['surf']\n",
    "ultimate_income = comparative_income['ultimate']\n",
    "alpha = 0.05\n",
    "\n",
    "results = st.ttest_ind(surf_income, ultimate_income, equal_var=False)\n",
    "print(\"Prueba t de Welch:\")\n",
    "print('p-value:', results.pvalue)\n",
    "\n",
    "if results.pvalue < alpha:\n",
    "    print(\"Rechazar la hipótesis nula: Los ingresos promedio entre los planes Surf y Ultimate difieren significativamente.\")\n",
    "else:\n",
    "    print(\"No se puede rechazar la hipótesis nula: No hay evidencia suficiente para afirmar una diferencia estadísticamente significativa en los ingresos promedio entre los planes Surf y Ultimate.\")"
   ]
  },
  {
   "cell_type": "markdown",
   "metadata": {},
   "source": [
    "**Conclusión de la prueba:** El valor p obtenido de la prueba, representa la probabilidad de observar una diferencia en los ingresos promedio tan grande o más grande que la que se observó, si la verdadera diferencia en las poblaciones subyacentes fuera cero. \n",
    "\n",
    "En este caso, un valor p de 0.155 sugiere que existe un 15.5% de probabilidad de obtener una diferencia en los ingresos promedio tan grande como la observada, simplemente debido a la variabilidad aleatoria en los datos y no debido a una diferencia real entre los planes.\n",
    "\n",
    "En conclusión sado que el valor p es mayor que el umbral típico de significancia de 0.05 (o 5%), no hay evidencia suficiente para rechazar la hipótesis nula. Esto implica que, en esta muestra, los ingresos promedio de los dos planes son similares y que cualquier aparente diferencia podría ser atribuida al azar."
   ]
  },
  {
   "cell_type": "markdown",
   "metadata": {},
   "source": [
    "## Prueba de hipótesis 2"
   ]
  },
  {
   "cell_type": "markdown",
   "metadata": {},
   "source": [
    "**Selección de criterios de pruebas estadísticas**\n",
    "\n",
    "  - En cuanto a la presente hipótesis se busca la comparación entre los ingresos promedio de los usuarios del área de Nueva York-Nueva Jersey (NY-NJ) y los usuarios de otras regiones,  dado que deseamos investigar si la ubicación geográfica puede influir en los ingresos promedio de los usuarios.\n",
    "\n",
    "\n",
    "  - Dado que nuestra hipótesis es comprobar que el ingreso promedio de los usuarios del área de Nueva York-Nueva Jersey (NY-NJ) es diferente o no al de los usuarios de otras regiones, tenemos dos opciones de pruebas estadísticas a utilizar, para seleccionar la adecuada vamos a calcular sus varianzas. Mantenemos el valor de significancia comúnmente utilizado. "
   ]
  },
  {
   "cell_type": "code",
   "execution_count": 96,
   "metadata": {},
   "outputs": [],
   "source": [
    "# Segmentar el conjunto de datos\n",
    "\n",
    "results_data['region_category'] = 'other'\n",
    "\n",
    "for index, row in results_data.iterrows():\n",
    "    if 'NY-NJ-PA MSA' in row['region']:\n",
    "        results_data.at[index, 'region_category'] = 'NY-NJ'"
   ]
  },
  {
   "cell_type": "code",
   "execution_count": 97,
   "metadata": {},
   "outputs": [
    {
     "name": "stdout",
     "output_type": "stream",
     "text": [
      "Varianza del ingreso mensual por region: region_category\n",
      "NY-NJ     2409604.44\n",
      "other    71912743.77\n",
      "dtype: float64\n"
     ]
    }
   ],
   "source": [
    "# Calcular los ingresos promedios y su varianza\n",
    "      \n",
    "income_region = results_data.groupby(['month', 'region_category'])['total_income'].sum().unstack()\n",
    "\n",
    "var_income_region = np.var (income_region)\n",
    "print(\"Varianza del ingreso mensual por region:\", round(var_income_region, 2))"
   ]
  },
  {
   "cell_type": "markdown",
   "metadata": {},
   "source": [
    "En vista de la significativa diferencia en las varianzas entre estos grupos, y dado que la hipótesis alternativa plantea una diferencia en los ingresos promedio, optamos por la prueba t de Welch, que considera las diferencias en las varianzas."
   ]
  },
  {
   "cell_type": "markdown",
   "metadata": {},
   "source": [
    "**Hipótesis Nula (H0):** El ingreso promedio de los usuarios del área de Nueva York-Nueva Jersey (NY-NJ) es igual al de los usuarios de otras regiones.\n",
    "\n",
    "**Hipótesis Alternativa (H1):** El ingreso promedio de los usuarios del área de Nueva York-Nueva Jersey (NY-NJ) es diferente al de los usuarios de otras regiones.\n",
    "\n",
    "**Prueba Estadística:** Prueba t de Welch.\n",
    "\n",
    "**Nivel de Significancia (α):** 0.05 (5%)"
   ]
  },
  {
   "cell_type": "code",
   "execution_count": 98,
   "metadata": {
    "scrolled": true
   },
   "outputs": [
    {
     "name": "stdout",
     "output_type": "stream",
     "text": [
      "Prueba t de Welch:\n",
      "p-value: 0.154965217879807\n",
      "No se puede rechazar la hipótesis nula: No hay evidencia suficiente para afirmar una diferencia estadísticamente significativa en los ingresos promedio entre el área NY-NJ y otras regiones.\n"
     ]
    }
   ],
   "source": [
    "# Prueba la hipótesis, realizar la prueba t de Welch\n",
    "\n",
    "ny_nj_income = income_region['NY-NJ']\n",
    "others_income = income_region['other']\n",
    "alpha = 0.05\n",
    "\n",
    "results_region_income = st.ttest_ind(ny_nj_income, others_income, equal_var=False)\n",
    "print(\"Prueba t de Welch:\")\n",
    "print('p-value:', results.pvalue)\n",
    "\n",
    "if results.pvalue < alpha:\n",
    "    print(\"Varianza de las calificaciones de usuarios en Xbox One:\")\n",
    "else:\n",
    "    print(\"No se puede rechazar la hipótesis nula: No hay evidencia suficiente para afirmar una diferencia estadísticamente significativa en los ingresos promedio entre el área NY-NJ y otras regiones.\")"
   ]
  },
  {
   "cell_type": "markdown",
   "metadata": {},
   "source": [
    "**Conclusión de la prueba:** En este caso específico, la hipótesis nula (H0) plantea que no hay diferencia significativa en los ingresos promedio entre el área de Nueva York-Nueva Jersey (NY-NJ) y otras regiones. En el caso mencionado, el p-value es del 15.5%. Dado que este valor no es lo suficientemente pequeño para ser considerado estadísticamente significativo. En otras palabras, no podemos afirmar con confianza que haya una diferencia estadísticamente significativa en los ingresos promedio entre el área NY-NJ y otras regiones en base a los datos analizados."
   ]
  },
  {
   "cell_type": "markdown",
   "metadata": {},
   "source": [
    "# Conclusión general\n",
    "\n",
    "Para analizar el comportamiento de los clientes y determinar qué tarifa de prepago genera más ingresos, llevamos a cabo un proceso de análisis exhaustivo que involucra varias etapas clave:\n",
    "\n",
    "  - *Exploración de Datos y Limpieza*: Iniciamos examinando los datos disponibles, identificando posibles problemas, y realizando limpieza y preprocesamiento para asegurar que los datos estén listos para el análisis.\n",
    "\n",
    "  - *Segmentación y Visualización*: Segmentamos los datos en diferentes categorías, como el tipo de tarifa (Surf o Ultimate) y la región geográfica. Utilizamos visualizaciones gráficas, como histogramas y gráficos de barras, para entender mejor la distribución de los datos y detectar tendencias.\n",
    "\n",
    "  - *Análisis de Consumo*: Calculamos el consumo promedio mensual de llamadas, mensajes y datos para cada tarifa. Esto nos permitió comprender cómo los usuarios de cada tarifa utilizan los servicios ofrecidos.\n",
    "\n",
    "  - *Cálculo de Ingresos*: Calculamos los ingresos mensuales generados por cada tarifa, teniendo en cuenta las tarifas base y los cargos adicionales por consumo excedente.\n",
    "\n",
    "  - *Pruebas Estadísticas*: Realizamos pruebas estadísticas, como la prueba t de Welch, para comparar los ingresos promedio entre las tarifas y determinar si existen diferencias estadísticamente significativas.\n",
    "\n",
    "  - *Análisis de Región*: Analizamos si la región geográfica (NY-NJ-PA MSA vs. otras) tiene un impacto en los ingresos, utilizando pruebas estadísticas y evaluando las diferencias en los ingresos promedio.\n",
    "\n",
    "**Conclusiones:** Con base en los resultados de nuestro análisis, concluimos que la tarifa \"Surf\" genera más ingresos para la compañía en comparación con la tarifa \"Ultimate\". También determinamos que la región geográfica no influye significativamente en los ingresos. Profundicemos en las conclusiones obtenidas a partir del análisis realizado en este estudio:\n",
    "\n",
    "- **Comparación de planes de llamada \"Surf\" y \"Ultimate\":** Según los resultados del análisis, el plan \"Surf\" genera más ingresos en comparación con el plan \"Ultimate\". Aunque la diferencia en los ingresos promedio entre los dos planes no es estadísticamente significativa, los ingresos mensuales promedio obtenidos del plan \"Surf\" son mayores en comparación con el plan \"Ultimate\". Por lo tanto, en función de los datos y las pruebas estadísticas realizadas, podemos concluir que **el plan \"Surf\" es el que genera más ingresos para la compañía**.\n",
    "\n",
    "- **Comparación de regiones \"NY-NJ-PA MSA\" y \"OTHER\":** Al dividir a los usuarios en dos grupos según su región geográfica, es decir, \"NY-NJ-PA MSA\" y \"OTHER\", no hemos encontrado diferencias estadísticamente significativas en los ingresos promedio. Esto indica que la ubicación geográfica no parece tener un impacto significativo en los ingresos mensuales de los usuarios. Es importante señalar que esta conclusión se basa en los datos analizados y podría estar influenciada por otros factores no considerados en este estudio.\n",
    "\n",
    "- **Selección de hipótesis y pruebas estadísticas:** La elección de utilizar la prueba t de Welch fue respaldada por las diferencias en las varianzas observadas en los grupos. Dado que no podíamos asumir igualdad de varianzas entre los grupos, la prueba t de Welch proporcionó una herramienta adecuada para comparar las medias de ingresos. Esta elección garantiza que nuestros resultados sean más robustos y confiables en situaciones donde las varianzas no son homogéneas.\n",
    "\n",
    "Estas conclusiones proporcionan una base sólida para ajustar estrategias de publicidad y tomar decisiones informadas en términos de promoción y comercialización de tarifas de prepago"
   ]
  }
 ],
 "metadata": {
  "ExecuteTimeLog": [
   {
    "duration": 828,
    "start_time": "2021-11-16T09:21:11.304Z"
   },
   {
    "duration": 893,
    "start_time": "2021-11-16T09:21:17.728Z"
   },
   {
    "duration": 1150,
    "start_time": "2021-11-16T09:21:29.568Z"
   },
   {
    "duration": 3,
    "start_time": "2021-11-16T09:24:14.495Z"
   },
   {
    "duration": 120,
    "start_time": "2021-11-16T09:24:46.630Z"
   },
   {
    "duration": 3,
    "start_time": "2021-11-16T09:28:27.882Z"
   },
   {
    "duration": 4,
    "start_time": "2021-11-16T09:29:54.281Z"
   },
   {
    "duration": 3,
    "start_time": "2021-11-16T09:30:45.936Z"
   },
   {
    "duration": 4,
    "start_time": "2021-11-16T09:31:06.300Z"
   },
   {
    "duration": 113,
    "start_time": "2021-11-16T09:31:37.208Z"
   },
   {
    "duration": 143,
    "start_time": "2021-11-16T09:31:48.656Z"
   },
   {
    "duration": 98,
    "start_time": "2021-11-16T09:31:55.678Z"
   },
   {
    "duration": 3,
    "start_time": "2021-11-16T09:32:08.535Z"
   },
   {
    "duration": 111,
    "start_time": "2021-11-16T09:32:10.120Z"
   },
   {
    "duration": 3,
    "start_time": "2021-11-16T09:32:15.732Z"
   },
   {
    "duration": 4,
    "start_time": "2021-11-16T09:32:29.423Z"
   },
   {
    "duration": 3,
    "start_time": "2021-11-16T10:03:03.074Z"
   },
   {
    "duration": 3,
    "start_time": "2021-11-16T10:10:01.288Z"
   },
   {
    "duration": 3,
    "start_time": "2021-11-16T10:10:46.923Z"
   },
   {
    "duration": 121,
    "start_time": "2021-11-16T10:37:46.494Z"
   },
   {
    "duration": 125,
    "start_time": "2021-11-16T10:38:20.632Z"
   },
   {
    "duration": 112,
    "start_time": "2021-11-16T10:46:53.001Z"
   },
   {
    "duration": 110,
    "start_time": "2021-11-16T10:48:25.775Z"
   },
   {
    "duration": 3,
    "start_time": "2021-11-16T10:50:18.720Z"
   },
   {
    "duration": 4,
    "start_time": "2021-11-16T10:50:37.649Z"
   },
   {
    "duration": 2,
    "start_time": "2021-11-16T10:50:51.884Z"
   },
   {
    "duration": 3,
    "start_time": "2021-11-16T10:51:56.237Z"
   },
   {
    "duration": 101,
    "start_time": "2021-11-16T10:53:13.791Z"
   },
   {
    "duration": 3,
    "start_time": "2021-11-16T10:55:59.186Z"
   },
   {
    "duration": 3,
    "start_time": "2021-11-16T10:56:10.751Z"
   },
   {
    "duration": 3,
    "start_time": "2021-11-16T10:56:49.038Z"
   },
   {
    "duration": 3,
    "start_time": "2021-11-16T10:56:49.174Z"
   },
   {
    "duration": 4,
    "start_time": "2021-11-16T10:56:49.414Z"
   },
   {
    "duration": 3,
    "start_time": "2021-11-16T10:56:49.680Z"
   },
   {
    "duration": 3,
    "start_time": "2021-11-16T10:56:50.370Z"
   },
   {
    "duration": 114,
    "start_time": "2021-11-16T10:59:34.518Z"
   },
   {
    "duration": 3,
    "start_time": "2021-11-16T11:01:41.201Z"
   },
   {
    "duration": 116,
    "start_time": "2021-11-16T11:01:48.754Z"
   },
   {
    "duration": 3,
    "start_time": "2021-11-16T11:02:16.685Z"
   },
   {
    "duration": 3,
    "start_time": "2021-11-16T11:02:19.479Z"
   },
   {
    "duration": 3,
    "start_time": "2021-11-16T11:02:47.067Z"
   },
   {
    "duration": 3,
    "start_time": "2021-11-16T11:02:49.353Z"
   },
   {
    "duration": 3,
    "start_time": "2021-11-16T11:03:07.835Z"
   },
   {
    "duration": 3,
    "start_time": "2021-11-16T11:03:07.953Z"
   },
   {
    "duration": 112,
    "start_time": "2021-11-16T11:07:52.072Z"
   },
   {
    "duration": 187,
    "start_time": "2021-11-16T11:09:23.468Z"
   },
   {
    "duration": 4,
    "start_time": "2021-11-16T11:10:01.455Z"
   },
   {
    "duration": 3,
    "start_time": "2021-11-16T11:10:05.069Z"
   },
   {
    "duration": 4,
    "start_time": "2021-11-16T11:10:13.376Z"
   },
   {
    "duration": 3,
    "start_time": "2021-11-16T11:10:14.434Z"
   },
   {
    "duration": 3,
    "start_time": "2021-11-16T11:10:22.853Z"
   },
   {
    "duration": 4,
    "start_time": "2021-11-16T11:27:29.279Z"
   },
   {
    "duration": 4,
    "start_time": "2021-11-16T11:29:08.919Z"
   },
   {
    "duration": 118,
    "start_time": "2021-11-16T11:29:46.703Z"
   },
   {
    "duration": 437,
    "start_time": "2021-11-16T11:36:02.181Z"
   },
   {
    "duration": 157,
    "start_time": "2021-11-16T11:36:14.388Z"
   },
   {
    "duration": 207,
    "start_time": "2021-11-16T11:47:15.898Z"
   },
   {
    "duration": 3,
    "start_time": "2021-11-16T11:53:52.092Z"
   },
   {
    "duration": 3,
    "start_time": "2021-11-16T11:53:52.236Z"
   },
   {
    "duration": 3,
    "start_time": "2021-11-16T11:59:12.005Z"
   },
   {
    "duration": 112,
    "start_time": "2021-11-16T12:00:33.446Z"
   },
   {
    "duration": 3,
    "start_time": "2021-11-16T12:02:14.453Z"
   },
   {
    "duration": 3,
    "start_time": "2021-11-16T12:02:39.512Z"
   },
   {
    "duration": 106,
    "start_time": "2021-11-16T12:03:03.460Z"
   },
   {
    "duration": 3,
    "start_time": "2021-11-17T20:37:21.139Z"
   },
   {
    "duration": 3,
    "start_time": "2021-11-17T20:37:22.229Z"
   },
   {
    "duration": 3,
    "start_time": "2021-11-17T20:38:38.806Z"
   },
   {
    "duration": 3,
    "start_time": "2021-11-17T20:38:41.958Z"
   },
   {
    "duration": 3,
    "start_time": "2021-11-17T20:43:46.551Z"
   },
   {
    "duration": 4,
    "start_time": "2021-11-17T20:58:21.835Z"
   },
   {
    "duration": 3,
    "start_time": "2021-11-17T20:59:21.872Z"
   },
   {
    "duration": 4,
    "start_time": "2021-11-17T20:59:45.352Z"
   },
   {
    "duration": 4,
    "start_time": "2021-11-17T20:59:49.646Z"
   },
   {
    "duration": 159,
    "start_time": "2021-11-17T21:02:26.949Z"
   },
   {
    "duration": 3,
    "start_time": "2021-11-17T21:03:53.461Z"
   },
   {
    "duration": 3,
    "start_time": "2021-11-17T21:03:53.694Z"
   },
   {
    "duration": 3,
    "start_time": "2021-11-17T21:05:28.145Z"
   },
   {
    "duration": 116,
    "start_time": "2021-11-17T21:05:57.787Z"
   },
   {
    "duration": 3,
    "start_time": "2021-11-17T21:06:37.993Z"
   },
   {
    "duration": 3,
    "start_time": "2021-11-17T21:06:38.261Z"
   },
   {
    "duration": 3,
    "start_time": "2021-11-17T21:11:54.358Z"
   },
   {
    "duration": 3,
    "start_time": "2021-11-17T21:12:43.846Z"
   },
   {
    "duration": 4,
    "start_time": "2021-11-17T21:13:08.773Z"
   },
   {
    "duration": 3,
    "start_time": "2021-11-17T21:14:44.441Z"
   },
   {
    "duration": 3,
    "start_time": "2021-11-17T21:15:42.059Z"
   },
   {
    "duration": 4,
    "start_time": "2021-11-17T21:15:51.995Z"
   },
   {
    "duration": 3,
    "start_time": "2021-11-17T21:15:53.923Z"
   },
   {
    "duration": 3,
    "start_time": "2021-11-17T21:15:55.282Z"
   },
   {
    "duration": 3,
    "start_time": "2021-11-17T21:16:28.492Z"
   },
   {
    "duration": 3,
    "start_time": "2021-11-17T21:16:32.603Z"
   },
   {
    "duration": 3,
    "start_time": "2021-11-17T21:17:06.941Z"
   },
   {
    "duration": 98,
    "start_time": "2021-11-17T21:18:05.733Z"
   },
   {
    "duration": 4,
    "start_time": "2021-11-17T21:21:35.255Z"
   },
   {
    "duration": 3,
    "start_time": "2021-11-17T21:21:37.804Z"
   },
   {
    "duration": 4,
    "start_time": "2021-11-17T21:23:06.071Z"
   },
   {
    "duration": 3,
    "start_time": "2021-11-17T21:23:24.799Z"
   },
   {
    "duration": 3,
    "start_time": "2021-11-17T21:23:32.591Z"
   },
   {
    "duration": 98,
    "start_time": "2021-11-17T21:28:31.559Z"
   },
   {
    "duration": 3,
    "start_time": "2021-11-17T21:28:45.448Z"
   },
   {
    "duration": 3,
    "start_time": "2021-11-17T21:29:17.303Z"
   },
   {
    "duration": 3,
    "start_time": "2021-11-17T21:29:29.617Z"
   },
   {
    "duration": 3,
    "start_time": "2021-11-17T21:29:32.681Z"
   },
   {
    "duration": 3,
    "start_time": "2021-11-17T21:36:11.474Z"
   },
   {
    "duration": 3,
    "start_time": "2021-11-17T21:36:14.791Z"
   },
   {
    "duration": 3,
    "start_time": "2021-11-17T21:36:53.943Z"
   },
   {
    "duration": 3,
    "start_time": "2021-11-17T21:36:56.165Z"
   },
   {
    "duration": 4,
    "start_time": "2021-11-17T21:37:16.590Z"
   },
   {
    "duration": 3,
    "start_time": "2021-11-17T21:37:22.702Z"
   },
   {
    "duration": 4,
    "start_time": "2021-11-17T21:38:03.479Z"
   },
   {
    "duration": 3,
    "start_time": "2021-11-17T21:38:08.601Z"
   },
   {
    "duration": 3,
    "start_time": "2021-11-17T21:38:12.928Z"
   },
   {
    "duration": 3,
    "start_time": "2021-11-17T21:38:48.896Z"
   },
   {
    "duration": 2,
    "start_time": "2021-11-17T21:38:49.171Z"
   },
   {
    "duration": 4,
    "start_time": "2021-11-17T21:39:57.889Z"
   },
   {
    "duration": 3,
    "start_time": "2021-11-17T21:39:58.057Z"
   },
   {
    "duration": 3,
    "start_time": "2021-11-17T21:41:20.108Z"
   },
   {
    "duration": 3,
    "start_time": "2021-11-17T21:41:20.629Z"
   },
   {
    "duration": 3,
    "start_time": "2021-11-17T21:42:49.136Z"
   },
   {
    "duration": 3,
    "start_time": "2021-11-17T21:43:15.137Z"
   },
   {
    "duration": 4,
    "start_time": "2021-11-17T21:43:16.766Z"
   },
   {
    "duration": 4,
    "start_time": "2021-11-17T21:43:31.711Z"
   },
   {
    "duration": 3,
    "start_time": "2021-11-17T21:43:36.312Z"
   },
   {
    "duration": 4,
    "start_time": "2021-11-17T21:45:08.825Z"
   },
   {
    "duration": 4,
    "start_time": "2021-11-17T21:45:10.119Z"
   },
   {
    "duration": 4,
    "start_time": "2021-11-17T21:45:13.748Z"
   },
   {
    "duration": 3,
    "start_time": "2021-11-17T21:45:22.219Z"
   },
   {
    "duration": 3,
    "start_time": "2021-11-17T21:45:33.412Z"
   },
   {
    "duration": 2,
    "start_time": "2021-11-17T21:46:01.885Z"
   },
   {
    "duration": 3,
    "start_time": "2021-11-17T21:46:03.628Z"
   },
   {
    "duration": 107,
    "start_time": "2021-11-17T21:47:32.512Z"
   },
   {
    "duration": 103,
    "start_time": "2021-11-17T21:50:36.243Z"
   },
   {
    "duration": 3,
    "start_time": "2021-11-18T06:28:31.440Z"
   },
   {
    "duration": 3,
    "start_time": "2021-11-18T06:29:00.168Z"
   },
   {
    "duration": 3,
    "start_time": "2021-11-18T06:31:27.008Z"
   },
   {
    "duration": 2,
    "start_time": "2021-11-18T06:35:34.288Z"
   },
   {
    "duration": 2,
    "start_time": "2021-11-18T06:38:04.527Z"
   }
  ],
  "kernelspec": {
   "display_name": "Python 3 (ipykernel)",
   "language": "python",
   "name": "python3"
  },
  "language_info": {
   "codemirror_mode": {
    "name": "ipython",
    "version": 3
   },
   "file_extension": ".py",
   "mimetype": "text/x-python",
   "name": "python",
   "nbconvert_exporter": "python",
   "pygments_lexer": "ipython3",
   "version": "3.9.5"
  },
  "toc": {
   "base_numbering": 1,
   "nav_menu": {},
   "number_sections": true,
   "sideBar": true,
   "skip_h1_title": false,
   "title_cell": "Table of Contents",
   "title_sidebar": "Contents",
   "toc_cell": true,
   "toc_position": {
    "height": "calc(100% - 180px)",
    "left": "10px",
    "top": "150px",
    "width": "307.188px"
   },
   "toc_section_display": true,
   "toc_window_display": true
  }
 },
 "nbformat": 4,
 "nbformat_minor": 2
}
